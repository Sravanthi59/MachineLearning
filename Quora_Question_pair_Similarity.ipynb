{
 "cells": [
  {
   "cell_type": "markdown",
   "metadata": {},
   "source": [
    "# Reading Data"
   ]
  },
  {
   "cell_type": "code",
   "execution_count": 73,
   "metadata": {},
   "outputs": [],
   "source": [
    "import numpy as np\n",
    "import pandas as pd\n",
    "import seaborn as sns\n",
    "import matplotlib.pyplot as plt\n",
    "\n",
    "import warnings\n",
    "warnings.filterwarnings(\"ignore\")"
   ]
  },
  {
   "cell_type": "code",
   "execution_count": 74,
   "metadata": {},
   "outputs": [
    {
     "name": "stdout",
     "output_type": "stream",
     "text": [
      "No of data-points :  404290\n"
     ]
    },
    {
     "data": {
      "text/html": [
       "<div>\n",
       "<style scoped>\n",
       "    .dataframe tbody tr th:only-of-type {\n",
       "        vertical-align: middle;\n",
       "    }\n",
       "\n",
       "    .dataframe tbody tr th {\n",
       "        vertical-align: top;\n",
       "    }\n",
       "\n",
       "    .dataframe thead th {\n",
       "        text-align: right;\n",
       "    }\n",
       "</style>\n",
       "<table border=\"1\" class=\"dataframe\">\n",
       "  <thead>\n",
       "    <tr style=\"text-align: right;\">\n",
       "      <th></th>\n",
       "      <th>id</th>\n",
       "      <th>qid1</th>\n",
       "      <th>qid2</th>\n",
       "      <th>question1</th>\n",
       "      <th>question2</th>\n",
       "      <th>is_duplicate</th>\n",
       "    </tr>\n",
       "  </thead>\n",
       "  <tbody>\n",
       "    <tr>\n",
       "      <th>0</th>\n",
       "      <td>0</td>\n",
       "      <td>1</td>\n",
       "      <td>2</td>\n",
       "      <td>What is the step by step guide to invest in sh...</td>\n",
       "      <td>What is the step by step guide to invest in sh...</td>\n",
       "      <td>0</td>\n",
       "    </tr>\n",
       "    <tr>\n",
       "      <th>1</th>\n",
       "      <td>1</td>\n",
       "      <td>3</td>\n",
       "      <td>4</td>\n",
       "      <td>What is the story of Kohinoor (Koh-i-Noor) Dia...</td>\n",
       "      <td>What would happen if the Indian government sto...</td>\n",
       "      <td>0</td>\n",
       "    </tr>\n",
       "    <tr>\n",
       "      <th>2</th>\n",
       "      <td>2</td>\n",
       "      <td>5</td>\n",
       "      <td>6</td>\n",
       "      <td>How can I increase the speed of my internet co...</td>\n",
       "      <td>How can Internet speed be increased by hacking...</td>\n",
       "      <td>0</td>\n",
       "    </tr>\n",
       "    <tr>\n",
       "      <th>3</th>\n",
       "      <td>3</td>\n",
       "      <td>7</td>\n",
       "      <td>8</td>\n",
       "      <td>Why am I mentally very lonely? How can I solve...</td>\n",
       "      <td>Find the remainder when [math]23^{24}[/math] i...</td>\n",
       "      <td>0</td>\n",
       "    </tr>\n",
       "    <tr>\n",
       "      <th>4</th>\n",
       "      <td>4</td>\n",
       "      <td>9</td>\n",
       "      <td>10</td>\n",
       "      <td>Which one dissolve in water quikly sugar, salt...</td>\n",
       "      <td>Which fish would survive in salt water?</td>\n",
       "      <td>0</td>\n",
       "    </tr>\n",
       "  </tbody>\n",
       "</table>\n",
       "</div>"
      ],
      "text/plain": [
       "   id  qid1  qid2                                          question1  \\\n",
       "0   0     1     2  What is the step by step guide to invest in sh...   \n",
       "1   1     3     4  What is the story of Kohinoor (Koh-i-Noor) Dia...   \n",
       "2   2     5     6  How can I increase the speed of my internet co...   \n",
       "3   3     7     8  Why am I mentally very lonely? How can I solve...   \n",
       "4   4     9    10  Which one dissolve in water quikly sugar, salt...   \n",
       "\n",
       "                                           question2  is_duplicate  \n",
       "0  What is the step by step guide to invest in sh...             0  \n",
       "1  What would happen if the Indian government sto...             0  \n",
       "2  How can Internet speed be increased by hacking...             0  \n",
       "3  Find the remainder when [math]23^{24}[/math] i...             0  \n",
       "4            Which fish would survive in salt water?             0  "
      ]
     },
     "execution_count": 74,
     "metadata": {},
     "output_type": "execute_result"
    }
   ],
   "source": [
    "data=pd.read_csv('D:\\\\datasets\\\\quora\\\\quora-question-pairs\\\\train.csv\\\\train.csv')\n",
    "\n",
    "print('No of data-points : ',data.shape[0])\n",
    "data.head(5)\n"
   ]
  },
  {
   "cell_type": "markdown",
   "metadata": {},
   "source": [
    "# Distribution of data points among output classes"
   ]
  },
  {
   "cell_type": "code",
   "execution_count": 75,
   "metadata": {},
   "outputs": [
    {
     "data": {
      "text/plain": [
       "<matplotlib.axes._subplots.AxesSubplot at 0x280633fee48>"
      ]
     },
     "execution_count": 75,
     "metadata": {},
     "output_type": "execute_result"
    },
    {
     "data": {
      "image/png": "[encoded data removed]",
      "text/plain": [
       "<Figure size 432x288 with 1 Axes>"
      ]
     },
     "metadata": {},
     "output_type": "display_data"
    }
   ],
   "source": [
    "data.groupby('is_duplicate')['id'].count().plot.bar()"
   ]
  },
  {
   "cell_type": "markdown",
   "metadata": {},
   "source": [
    "The quetions which are duplicates count is less than questions which are not duplicates"
   ]
  },
  {
   "cell_type": "code",
   "execution_count": 76,
   "metadata": {},
   "outputs": [
    {
     "name": "stdout",
     "output_type": "stream",
     "text": [
      "=>Question pairs are not Similar (is_duplicate = 0):\n",
      "   63.08%\n",
      "\n",
      "=> Question pairs are Similar (is_duplicate = 1):\n",
      "   36.92%\n"
     ]
    }
   ],
   "source": [
    "print('=>Question pairs are not Similar (is_duplicate = 0):\\n   {}%'.format(100 - round(data['is_duplicate'].mean()*100, 2)))\n",
    "print('\\n=> Question pairs are Similar (is_duplicate = 1):\\n   {}%'.format(round(data['is_duplicate'].mean()*100, 2)))"
   ]
  },
  {
   "cell_type": "markdown",
   "metadata": {},
   "source": [
    "# Count of unique Questions"
   ]
  },
  {
   "cell_type": "code",
   "execution_count": 77,
   "metadata": {},
   "outputs": [
    {
     "name": "stdout",
     "output_type": "stream",
     "text": [
      "Total number of  Unique Questions are: 537933\n",
      "\n",
      "Number of unique questions that appear more than one time: 111780 (20.77953945937505%)\n",
      "\n",
      "Max number of times a single question is repeated: 157\n",
      "\n"
     ]
    }
   ],
   "source": [
    "qids = pd.Series(data['qid1'].tolist() + data['qid2'].tolist())\n",
    "unique_qs = len(np.unique(qids))\n",
    "qs_morethan_onetime = np.sum(qids.value_counts() > 1)\n",
    "print ('Total number of  Unique Questions are: {}\\n'.format(unique_qs))\n",
    "#print len(np.unique(qids))\n",
    "\n",
    "print ('Number of unique questions that appear more than one time: {} ({}%)\\n'.format(qs_morethan_onetime,qs_morethan_onetime/unique_qs*100))\n",
    "\n",
    "print ('Max number of times a single question is repeated: {}\\n'.format(max(qids.value_counts()))) \n",
    "\n",
    "q_vals=qids.value_counts()\n",
    "\n",
    "q_vals=q_vals.values"
   ]
  },
  {
   "cell_type": "code",
   "execution_count": 78,
   "metadata": {},
   "outputs": [
    {
     "data": {
      "image/png": "[encoded data removed]",
      "text/plain": [
       "<Figure size 432x288 with 1 Axes>"
      ]
     },
     "metadata": {},
     "output_type": "display_data"
    }
   ],
   "source": [
    "x=['unique_qs','qs_morethan_onetime']\n",
    "y=[unique_qs,qs_morethan_onetime]\n",
    "sns.barplot(x,y)\n",
    "plt.title('plot representing unique & Repeated questions' )\n",
    "plt.show()"
   ]
  },
  {
   "cell_type": "markdown",
   "metadata": {},
   "source": [
    "# checking for duplicate rows"
   ]
  },
  {
   "cell_type": "code",
   "execution_count": 79,
   "metadata": {},
   "outputs": [
    {
     "name": "stdout",
     "output_type": "stream",
     "text": [
      "Total no. of duplicate questions : 0\n"
     ]
    }
   ],
   "source": [
    "dup_pairs=data[['qid1','qid2','is_duplicate']].groupby(['qid1','qid2']).count().reset_index()\n",
    "print('Total no. of duplicate questions : {}'.format(data.shape[0]-dup_pairs.shape[0]))"
   ]
  },
  {
   "cell_type": "markdown",
   "metadata": {},
   "source": [
    "# Number of occurences of each question"
   ]
  },
  {
   "cell_type": "code",
   "execution_count": 80,
   "metadata": {},
   "outputs": [
    {
     "data": {
      "image/png": "[encoded data removed]",
      "text/plain": [
       "<Figure size 1080x720 with 1 Axes>"
      ]
     },
     "metadata": {},
     "output_type": "display_data"
    },
    {
     "name": "stdout",
     "output_type": "stream",
     "text": [
      "Max no. of times a single question is repeated: 157\n"
     ]
    }
   ],
   "source": [
    "plt.figure(figsize=(15, 10))\n",
    "plt.hist(qids.value_counts(),bins=160)\n",
    "plt.yscale('log', nonposy='clip')\n",
    "plt.title('Log-Histogram of question appearance counts')\n",
    "plt.xlabel('Number of occurences of question')\n",
    "plt.ylabel('Number of questions')\n",
    "plt.show()\n",
    "print('Max no. of times a single question is repeated: {}'.format(max(qids.value_counts())))"
   ]
  },
  {
   "cell_type": "markdown",
   "metadata": {},
   "source": [
    "# NAN Check"
   ]
  },
  {
   "cell_type": "code",
   "execution_count": 81,
   "metadata": {},
   "outputs": [
    {
     "data": {
      "text/html": [
       "<div>\n",
       "<style scoped>\n",
       "    .dataframe tbody tr th:only-of-type {\n",
       "        vertical-align: middle;\n",
       "    }\n",
       "\n",
       "    .dataframe tbody tr th {\n",
       "        vertical-align: top;\n",
       "    }\n",
       "\n",
       "    .dataframe thead th {\n",
       "        text-align: right;\n",
       "    }\n",
       "</style>\n",
       "<table border=\"1\" class=\"dataframe\">\n",
       "  <thead>\n",
       "    <tr style=\"text-align: right;\">\n",
       "      <th></th>\n",
       "      <th>id</th>\n",
       "      <th>qid1</th>\n",
       "      <th>qid2</th>\n",
       "      <th>question1</th>\n",
       "      <th>question2</th>\n",
       "      <th>is_duplicate</th>\n",
       "    </tr>\n",
       "  </thead>\n",
       "  <tbody>\n",
       "    <tr>\n",
       "      <th>105780</th>\n",
       "      <td>105780</td>\n",
       "      <td>174363</td>\n",
       "      <td>174364</td>\n",
       "      <td>How can I develop android app?</td>\n",
       "      <td>NaN</td>\n",
       "      <td>0</td>\n",
       "    </tr>\n",
       "    <tr>\n",
       "      <th>201841</th>\n",
       "      <td>201841</td>\n",
       "      <td>303951</td>\n",
       "      <td>174364</td>\n",
       "      <td>How can I create an Android app?</td>\n",
       "      <td>NaN</td>\n",
       "      <td>0</td>\n",
       "    </tr>\n",
       "    <tr>\n",
       "      <th>363362</th>\n",
       "      <td>363362</td>\n",
       "      <td>493340</td>\n",
       "      <td>493341</td>\n",
       "      <td>NaN</td>\n",
       "      <td>My Chinese name is Haichao Yu. What English na...</td>\n",
       "      <td>0</td>\n",
       "    </tr>\n",
       "  </tbody>\n",
       "</table>\n",
       "</div>"
      ],
      "text/plain": [
       "            id    qid1    qid2                         question1  \\\n",
       "105780  105780  174363  174364    How can I develop android app?   \n",
       "201841  201841  303951  174364  How can I create an Android app?   \n",
       "363362  363362  493340  493341                               NaN   \n",
       "\n",
       "                                                question2  is_duplicate  \n",
       "105780                                                NaN             0  \n",
       "201841                                                NaN             0  \n",
       "363362  My Chinese name is Haichao Yu. What English na...             0  "
      ]
     },
     "execution_count": 81,
     "metadata": {},
     "output_type": "execute_result"
    }
   ],
   "source": [
    "data[data.isnull().any(1)]"
   ]
  },
  {
   "cell_type": "markdown",
   "metadata": {},
   "source": [
    "there are total 3 rows with null \n",
    "\n",
    "1.question1- 1 \n",
    "\n",
    "2.question2- 2"
   ]
  },
  {
   "cell_type": "code",
   "execution_count": 82,
   "metadata": {},
   "outputs": [
    {
     "name": "stdout",
     "output_type": "stream",
     "text": [
      "id              0\n",
      "qid1            0\n",
      "qid2            0\n",
      "question1       0\n",
      "question2       0\n",
      "is_duplicate    0\n",
      "dtype: int64\n"
     ]
    },
    {
     "data": {
      "text/plain": [
       "(100000, 6)"
      ]
     },
     "execution_count": 82,
     "metadata": {},
     "output_type": "execute_result"
    }
   ],
   "source": [
    "data=data.fillna('')\n",
    "print(data.isnull().sum())\n",
    "data=data.sample(n=100000,random_state=1)\n",
    "data.to_csv(\"D:\\\\datasets\\\\quora\\\\quora-question-pairs\\\\train.csv\\\\train_data.csv\")\n",
    "data.shape\n"
   ]
  },
  {
   "cell_type": "markdown",
   "metadata": {},
   "source": [
    "# Basic Feature Extraction (before cleaning)"
   ]
  },
  {
   "cell_type": "markdown",
   "metadata": {},
   "source": [
    "Let us now construct a few features like:<br />\n",
    "    •\tfreq_qid1 = Frequency of qid1's<br />\n",
    "    •\tfreq_qid2 = Frequency of qid2's<br />\n",
    "    •\tq1len = Length of q1<br />\n",
    "    •\tq2len = Length of q2<br />\n",
    "    •\tq1_n_words = Number of words in Question 1<br />\n",
    "    •\tq2_n_words = Number of words in Question 2<br />\n",
    "    •\tword_Common = (Number of common unique words in Question 1 and Question 2)<br />\n",
    "    •\tword_Total =(Total num of words in Question 1 + Total num of words in Question 2)<br />\n",
    "    •\tword_share = (word_common)/(word_Total)<br />\n",
    "    •\tfreq_q1+freq_q2 = sum total of frequency of qid1 and qid2<br />\n",
    "    •\tfreq_q1-freq_q2 = absolute difference of frequency of qid1 and qid2<br />\n"
   ]
  },
  {
   "cell_type": "code",
   "execution_count": 83,
   "metadata": {},
   "outputs": [
    {
     "data": {
      "text/html": [
       "<div>\n",
       "<style scoped>\n",
       "    .dataframe tbody tr th:only-of-type {\n",
       "        vertical-align: middle;\n",
       "    }\n",
       "\n",
       "    .dataframe tbody tr th {\n",
       "        vertical-align: top;\n",
       "    }\n",
       "\n",
       "    .dataframe thead th {\n",
       "        text-align: right;\n",
       "    }\n",
       "</style>\n",
       "<table border=\"1\" class=\"dataframe\">\n",
       "  <thead>\n",
       "    <tr style=\"text-align: right;\">\n",
       "      <th></th>\n",
       "      <th>id</th>\n",
       "      <th>qid1</th>\n",
       "      <th>qid2</th>\n",
       "      <th>question1</th>\n",
       "      <th>question2</th>\n",
       "      <th>is_duplicate</th>\n",
       "      <th>freq_qid1</th>\n",
       "      <th>freq_qid2</th>\n",
       "      <th>q1len</th>\n",
       "      <th>q2len</th>\n",
       "      <th>q1_n_words</th>\n",
       "      <th>q2_n_words</th>\n",
       "      <th>word_Common</th>\n",
       "      <th>word_Total</th>\n",
       "      <th>word_share</th>\n",
       "      <th>freq_q1+freq_q2</th>\n",
       "      <th>freq_q1-freq_q2</th>\n",
       "    </tr>\n",
       "  </thead>\n",
       "  <tbody>\n",
       "    <tr>\n",
       "      <th>237030</th>\n",
       "      <td>237030</td>\n",
       "      <td>33086</td>\n",
       "      <td>348102</td>\n",
       "      <td>How can I stop playing video games?</td>\n",
       "      <td>Should I stop playing video games with my child?</td>\n",
       "      <td>0</td>\n",
       "      <td>1</td>\n",
       "      <td>1</td>\n",
       "      <td>35</td>\n",
       "      <td>48</td>\n",
       "      <td>7</td>\n",
       "      <td>9</td>\n",
       "      <td>4.0</td>\n",
       "      <td>16.0</td>\n",
       "      <td>0.250000</td>\n",
       "      <td>2</td>\n",
       "      <td>0</td>\n",
       "    </tr>\n",
       "    <tr>\n",
       "      <th>247341</th>\n",
       "      <td>247341</td>\n",
       "      <td>73272</td>\n",
       "      <td>8624</td>\n",
       "      <td>Who is better Donald Trump or Hillary Clinton?</td>\n",
       "      <td>Why is Hillary Clinton a better choice than Do...</td>\n",
       "      <td>1</td>\n",
       "      <td>6</td>\n",
       "      <td>3</td>\n",
       "      <td>46</td>\n",
       "      <td>57</td>\n",
       "      <td>8</td>\n",
       "      <td>10</td>\n",
       "      <td>4.0</td>\n",
       "      <td>18.0</td>\n",
       "      <td>0.222222</td>\n",
       "      <td>9</td>\n",
       "      <td>3</td>\n",
       "    </tr>\n",
       "    <tr>\n",
       "      <th>246425</th>\n",
       "      <td>246425</td>\n",
       "      <td>359482</td>\n",
       "      <td>359483</td>\n",
       "      <td>What do you think is the chance that sometime ...</td>\n",
       "      <td>Do you think there will be another world war/n...</td>\n",
       "      <td>1</td>\n",
       "      <td>1</td>\n",
       "      <td>1</td>\n",
       "      <td>139</td>\n",
       "      <td>77</td>\n",
       "      <td>28</td>\n",
       "      <td>14</td>\n",
       "      <td>12.0</td>\n",
       "      <td>39.0</td>\n",
       "      <td>0.307692</td>\n",
       "      <td>2</td>\n",
       "      <td>0</td>\n",
       "    </tr>\n",
       "    <tr>\n",
       "      <th>306985</th>\n",
       "      <td>306985</td>\n",
       "      <td>1357</td>\n",
       "      <td>47020</td>\n",
       "      <td>Why are so many questions posted to Quora that...</td>\n",
       "      <td>Why do people write questions on Quora that co...</td>\n",
       "      <td>1</td>\n",
       "      <td>6</td>\n",
       "      <td>7</td>\n",
       "      <td>86</td>\n",
       "      <td>86</td>\n",
       "      <td>16</td>\n",
       "      <td>16</td>\n",
       "      <td>5.0</td>\n",
       "      <td>30.0</td>\n",
       "      <td>0.166667</td>\n",
       "      <td>13</td>\n",
       "      <td>1</td>\n",
       "    </tr>\n",
       "    <tr>\n",
       "      <th>225863</th>\n",
       "      <td>225863</td>\n",
       "      <td>334315</td>\n",
       "      <td>334316</td>\n",
       "      <td>Can there even be a movie ever rated 10/10 on ...</td>\n",
       "      <td>What are your 10/10 movies?</td>\n",
       "      <td>0</td>\n",
       "      <td>1</td>\n",
       "      <td>1</td>\n",
       "      <td>51</td>\n",
       "      <td>27</td>\n",
       "      <td>11</td>\n",
       "      <td>5</td>\n",
       "      <td>1.0</td>\n",
       "      <td>16.0</td>\n",
       "      <td>0.062500</td>\n",
       "      <td>2</td>\n",
       "      <td>0</td>\n",
       "    </tr>\n",
       "  </tbody>\n",
       "</table>\n",
       "</div>"
      ],
      "text/plain": [
       "            id    qid1    qid2  \\\n",
       "237030  237030   33086  348102   \n",
       "247341  247341   73272    8624   \n",
       "246425  246425  359482  359483   \n",
       "306985  306985    1357   47020   \n",
       "225863  225863  334315  334316   \n",
       "\n",
       "                                                question1  \\\n",
       "237030                How can I stop playing video games?   \n",
       "247341     Who is better Donald Trump or Hillary Clinton?   \n",
       "246425  What do you think is the chance that sometime ...   \n",
       "306985  Why are so many questions posted to Quora that...   \n",
       "225863  Can there even be a movie ever rated 10/10 on ...   \n",
       "\n",
       "                                                question2  is_duplicate  \\\n",
       "237030   Should I stop playing video games with my child?             0   \n",
       "247341  Why is Hillary Clinton a better choice than Do...             1   \n",
       "246425  Do you think there will be another world war/n...             1   \n",
       "306985  Why do people write questions on Quora that co...             1   \n",
       "225863                        What are your 10/10 movies?             0   \n",
       "\n",
       "        freq_qid1  freq_qid2  q1len  q2len  q1_n_words  q2_n_words  \\\n",
       "237030          1          1     35     48           7           9   \n",
       "247341          6          3     46     57           8          10   \n",
       "246425          1          1    139     77          28          14   \n",
       "306985          6          7     86     86          16          16   \n",
       "225863          1          1     51     27          11           5   \n",
       "\n",
       "        word_Common  word_Total  word_share  freq_q1+freq_q2  freq_q1-freq_q2  \n",
       "237030          4.0        16.0    0.250000                2                0  \n",
       "247341          4.0        18.0    0.222222                9                3  \n",
       "246425         12.0        39.0    0.307692                2                0  \n",
       "306985          5.0        30.0    0.166667               13                1  \n",
       "225863          1.0        16.0    0.062500                2                0  "
      ]
     },
     "execution_count": 83,
     "metadata": {},
     "output_type": "execute_result"
    }
   ],
   "source": [
    "import os\n",
    "\n",
    "if os.path.isfile('D:\\\\datasets\\\\quora\\\\quora-question-pairs\\\\train.csv\\\\train_data_new_feat.csv'):\n",
    "    data = pd.read_csv('D:\\\\datasets\\\\quora\\\\quora-question-pairs\\\\train.csv\\\\train_data_new_feat.csv',encoding='latin-1')\n",
    "\n",
    "else:\n",
    "    data['freq_qid1'] = data.groupby('qid1')['qid1'].transform('count') \n",
    "    data['freq_qid2'] = data.groupby('qid2')['qid2'].transform('count')\n",
    "    data['q1len'] = data['question1'].str.len() \n",
    "    data['q2len'] = data['question2'].str.len()\n",
    "    data['q1_n_words'] = data['question1'].apply(lambda row: len(row.split(\" \")))\n",
    "    data['q2_n_words'] = data['question2'].apply(lambda row: len(row.split(\" \")))\n",
    "\n",
    "    def normalized_word_Common(row):\n",
    "        w1 = set(map(lambda word: word.lower().strip(), row['question1'].split(\" \")))\n",
    "        w2 = set(map(lambda word: word.lower().strip(), row['question2'].split(\" \"))) \n",
    "        return 1.0 * len(w1 & w2)\n",
    "    \n",
    "    data['word_Common'] = data.apply(normalized_word_Common,axis=1)\n",
    "\n",
    "    def normalized_word_Total(row):\n",
    "        w1 = set(map(lambda word: word.lower().strip(), row['question1'].split(\" \")))\n",
    "        w2 = set(map(lambda word: word.lower().strip(), row['question2'].split(\" \"))) \n",
    "        return 1.0 * (len(w1) + len(w2))\n",
    "    \n",
    "    data['word_Total'] = data.apply(normalized_word_Total,axis=1)\n",
    "\n",
    "    def normalized_word_Share(row):\n",
    "        w1 = set(map(lambda word: word.lower().strip(), row['question1'].split(\" \")))\n",
    "        w2 = set(map(lambda word: word.lower().strip(), row['question2'].split(\" \"))) \n",
    "        return 1.0 * ((len(w1 & w2))/((len(w1) + len(w2))))\n",
    "                      \n",
    "    data['word_share'] = data.apply(normalized_word_Share,axis=1)\n",
    "                      \n",
    "    data['freq_q1+freq_q2'] = data['freq_qid1']+data['freq_qid2']\n",
    "    data['freq_q1-freq_q2'] =abs(data['freq_qid1']-data['freq_qid2'])\n",
    "    \n",
    "    #data.head(5)\n",
    "\n",
    "    data.to_csv('D:\\\\datasets\\\\quora\\\\quora-question-pairs\\\\train.csv\\\\train_data_new_feat.csv')\n",
    "\n",
    "data.head(5)"
   ]
  },
  {
   "cell_type": "markdown",
   "metadata": {},
   "source": [
    "# Analysis on Extracted Features"
   ]
  },
  {
   "cell_type": "code",
   "execution_count": 84,
   "metadata": {},
   "outputs": [
    {
     "name": "stdout",
     "output_type": "stream",
     "text": [
      "Minimum length of the questions in question1 :  1\n",
      "Minimum length of the questions in question2 :  1\n",
      "Number of Questions with minimum length [question1] :  19\n",
      "Number of Questions with minimum length [question2] :  4\n"
     ]
    }
   ],
   "source": [
    "print (\"Minimum length of the questions in question1 : \" , min(data['q1_n_words'])) # o/p =1\n",
    "print (\"Minimum length of the questions in question2 : \" , min(data['q2_n_words'])) # o/p =1\n",
    "print (\"Number of Questions with minimum length [question1] : \", data[data['q1_n_words']== 1].shape[0])\n",
    "print (\"Number of Questions with minimum length [question2] : \", data[data['q2_n_words']== 1].shape[0])"
   ]
  },
  {
   "cell_type": "markdown",
   "metadata": {},
   "source": [
    "# Feature : word_share"
   ]
  },
  {
   "cell_type": "code",
   "execution_count": 85,
   "metadata": {},
   "outputs": [
    {
     "data": {
      "image/png": "[encoded data removed]",
      "text/plain": [
       "<Figure size 432x288 with 1 Axes>"
      ]
     },
     "metadata": {},
     "output_type": "display_data"
    }
   ],
   "source": [
    "sns.distplot(data[data['is_duplicate'] == 1.0]['word_share'][0:] , label = \"1\", color = 'red')\n",
    "sns.distplot(data[data['is_duplicate'] == 0.0]['word_share'][0:] , label = \"0\" , color = 'blue' )\n",
    "plt.show()"
   ]
  },
  {
   "cell_type": "markdown",
   "metadata": {},
   "source": [
    "There is overlap on word_share for similar(1) and dissimlar questions(0)"
   ]
  },
  {
   "cell_type": "markdown",
   "metadata": {},
   "source": [
    "# Feature : word_Common"
   ]
  },
  {
   "cell_type": "code",
   "execution_count": 86,
   "metadata": {},
   "outputs": [
    {
     "data": {
      "image/png": "[encoded data removed]",
      "text/plain": [
       "<Figure size 432x288 with 1 Axes>"
      ]
     },
     "metadata": {},
     "output_type": "display_data"
    }
   ],
   "source": [
    "sns.distplot(data[data['is_duplicate'] == 1.0]['word_Common'][0:] , label = \"1\", color = 'red')\n",
    "sns.distplot(data[data['is_duplicate'] == 0.0]['word_Common'][0:] , label = \"0\" , color = 'blue' )\n",
    "plt.show()\n"
   ]
  },
  {
   "cell_type": "markdown",
   "metadata": {},
   "source": [
    "There is overlap on word_Common for similar(1) and dissimlar questions(0)"
   ]
  },
  {
   "cell_type": "markdown",
   "metadata": {},
   "source": [
    "# PreProcessing Text"
   ]
  },
  {
   "cell_type": "markdown",
   "metadata": {},
   "source": [
    "Preprocessing:<br/>\n",
    "    1.Removing html tags<br/>\n",
    "    2.Removing Punctuations<br/>\n",
    "    3.Performing stemming<br/>\n",
    "    4.Removing Stopwords<br/>\n",
    "    5.Expanding contractions etc."
   ]
  },
  {
   "cell_type": "code",
   "execution_count": 87,
   "metadata": {},
   "outputs": [],
   "source": [
    "import nltk\n",
    "from nltk.corpus import stopwords\n",
    "#python -m nltk.downloader stopwords ---in command promt"
   ]
  },
  {
   "cell_type": "code",
   "execution_count": 88,
   "metadata": {},
   "outputs": [],
   "source": [
    "STOP_WORDS = stopwords.words(\"english\")"
   ]
  },
  {
   "cell_type": "code",
   "execution_count": 115,
   "metadata": {},
   "outputs": [],
   "source": [
    "import re\n",
    "from nltk.stem import PorterStemmer\n",
    "from bs4 import BeautifulSoup\n",
    "SAFE_DIV = 0.0001\n",
    "def preprocess(x):\n",
    "    \n",
    "    x = str(x).lower()\n",
    "    x = x.replace(\",000,000\", \"m\").replace(\",000\", \"k\").replace(\"′\", \"'\").replace(\"’\", \"'\")\\\n",
    "                           .replace(\"won't\", \"will not\").replace(\"cannot\", \"can not\").replace(\"can't\", \"can not\")\\\n",
    "                           .replace(\"n't\", \" not\").replace(\"what's\", \"what is\").replace(\"it's\", \"it is\")\\\n",
    "                           .replace(\"'ve\", \" have\").replace(\"i'm\", \"i am\").replace(\"'re\", \" are\")\\\n",
    "                           .replace(\"he's\", \"he is\").replace(\"she's\", \"she is\").replace(\"'s\", \" own\")\\\n",
    "                           .replace(\"%\", \" percent \").replace(\"₹\", \" rupee \").replace(\"$\", \" dollar \")\\\n",
    "                           .replace(\"€\", \" euro \").replace(\"'ll\", \" will\")\n",
    "    x = re.sub(r\"([0-9]+)000000\", r\"\\1m\", x)\n",
    "    x = re.sub(r\"([0-9]+)000\", r\"\\1k\", x)\n",
    "    \n",
    "    porter = PorterStemmer()\n",
    "    pattern = re.compile('\\W')\n",
    "    \n",
    "    if type(x) == type(''):\n",
    "        x = re.sub(pattern, ' ', x) #This matches any non-alphanumeric character [^a-zA-Z0-9]\n",
    "    \n",
    "    \n",
    "    if type(x) == type(''):\n",
    "        x = porter.stem(x)\n",
    "        example1 = BeautifulSoup(x)\n",
    "        x = example1.get_text()\n",
    "    return x"
   ]
  },
  {
   "cell_type": "markdown",
   "metadata": {},
   "source": [
    "# Advanced Feature Extraction (NLP and Fuzzy Features)"
   ]
  },
  {
   "cell_type": "markdown",
   "metadata": {},
   "source": [
    "Definition:<br/>\n",
    "\n",
    "Token: You get a token by splitting sentence a space<br/>\n",
    "Stop_Word : stop words as per NLTK.<br/>\n",
    "Word : A token that is not a stop_word<br/>\n",
    "Features:<br/>\n",
    "<br/>\n",
    "cwc_min : Ratio of common_word_count to min lenghth of word count of Q1 and Q2<br/>\n",
    "cwc_min = common_word_count / (min(len(q1_words), len(q2_words))<br/>\n",
    "<br/>\n",
    "cwc_max : Ratio of common_word_count to max lenghth of word count of Q1 and Q2<br/>\n",
    "cwc_max = common_word_count / (max(len(q1_words), len(q2_words))<br/><br/>\n",
    "\n",
    "csc_min : Ratio of common_stop_count to min lenghth of stop count of Q1 and Q2<br/>\n",
    "csc_min = common_stop_count / (min(len(q1_stops), len(q2_stops))<br/><br/>\n",
    "\n",
    "csc_max : Ratio of common_stop_count to max lenghth of stop count of Q1 and Q2<br/>\n",
    "csc_max = common_stop_count / (max(len(q1_stops), len(q2_stops))<br/><br/>\n",
    "\n",
    "ctc_min : Ratio of common_token_count to min lenghth of token count of Q1 and Q2<br/>\n",
    "ctc_min = common_token_count / (min(len(q1_tokens), len(q2_tokens))<br/><br/>\n",
    "\n",
    "\n",
    "ctc_max : Ratio of common_token_count to max lenghth of token count of Q1 and Q2<br/>\n",
    "ctc_max = common_token_count / (max(len(q1_tokens), len(q2_tokens))<br/><br/>\n",
    "\n",
    "\n",
    "last_word_eq : Check if First word of both questions is equal or not<br/>\n",
    "last_word_eq = int(q1_tokens[-1] == q2_tokens[-1])<br/><br/>\n",
    "\n",
    "\n",
    "first_word_eq : Check if First word of both questions is equal or not<br/>\n",
    "first_word_eq = int(q1_tokens[0] == q2_tokens[0])<br/><br/>\n",
    "\n",
    "\n",
    "abs_len_diff : Abs. length difference<br/>\n",
    "abs_len_diff = abs(len(q1_tokens) - len(q2_tokens))<br/><br/>\n",
    "\n",
    "\n",
    "mean_len : Average Token Length of both Questions<br/>\n",
    "mean_len = (len(q1_tokens) + len(q2_tokens))/2<br/><br/>\n",
    "\n",
    "\n",
    "fuzz_ratio : https://github.com/seatgeek/fuzzywuzzy#usage http://chairnerd.seatgeek.com/fuzzywuzzy-fuzzy-string-matching-in-python/<br/>\n",
    "\n",
    "\n",
    "fuzz_partial_ratio : https://github.com/seatgeek/fuzzywuzzy#usage http://chairnerd.seatgeek.com/fuzzywuzzy-fuzzy-string-matching-in-python/<br/>\n",
    "\n",
    "\n",
    "token_sort_ratio : https://github.com/seatgeek/fuzzywuzzy#usage http://chairnerd.seatgeek.com/fuzzywuzzy-fuzzy-string-matching-in-python/<br/>\n",
    "\n",
    "token_set_ratio : https://github.com/seatgeek/fuzzywuzzy#usage http://chairnerd.seatgeek.com/fuzzywuzzy-fuzzy-string-matching-in-python/<br/><br/>\n",
    "\n",
    "longest_substr_ratio : Ratio of length longest common substring to min lenghth of token count of Q1 and Q2<br/>\n",
    "longest_substr_ratio = len(longest common substring) / (min(len(q1_tokens), len(q2_tokens))<br/>"
   ]
  },
  {
   "cell_type": "code",
   "execution_count": 117,
   "metadata": {},
   "outputs": [],
   "source": [
    "\n",
    "import distance\n",
    "def get_token_features(que1,que2):\n",
    "    token_features=[0.0]*10\n",
    "    \n",
    "    q1_tokens=que1.split()\n",
    "    q2_tokens=que2.split()\n",
    "  \n",
    "    if len(q1_tokens) == 0 or len(q2_tokens) == 0:\n",
    "     return token_features\n",
    "    \n",
    "    # Get the non-stopwords in Questions\n",
    "    q1_words = set([word for word in q1_tokens if word not in STOP_WORDS])\n",
    "    q2_words = set([word for word in q2_tokens if word not in STOP_WORDS])\n",
    "    \n",
    "    #Get the stopwords in Questions\n",
    "    q1_stops = set([word for word in q1_tokens if word in STOP_WORDS])\n",
    "    q2_stops = set([word for word in q2_tokens if word in STOP_WORDS])\n",
    "    \n",
    "    # Get the common non-stopwords from Question pair\n",
    "    common_word_count = len(q1_words.intersection(q2_words))\n",
    "    \n",
    "    # Get the common stopwords from Question pair\n",
    "    common_stop_count = len(q1_stops.intersection(q2_stops))\n",
    "    \n",
    "    # Get the common Tokens from Question pair\n",
    "    common_token_count = len(set(q1_tokens).intersection(set(q2_tokens)))\n",
    "    \n",
    "    token_features[0] = common_word_count / (min(len(q1_words), len(q2_words)) + SAFE_DIV)\n",
    "    token_features[1] = common_word_count / (max(len(q1_words), len(q2_words)) + SAFE_DIV)\n",
    "    token_features[2] = common_stop_count / (min(len(q1_stops), len(q2_stops)) + SAFE_DIV)\n",
    "    token_features[3] = common_stop_count / (max(len(q1_stops), len(q2_stops)) + SAFE_DIV)\n",
    "    token_features[4] = common_token_count / (min(len(q1_tokens), len(q2_tokens)) + SAFE_DIV)\n",
    "    token_features[5] = common_token_count / (max(len(q1_tokens), len(q2_tokens)) + SAFE_DIV)\n",
    "    \n",
    "    # Last word of both question is same or not\n",
    "    token_features[6] = int(q1_tokens[-1] == q2_tokens[-1])\n",
    "    \n",
    "    # First word of both question is same or not\n",
    "    token_features[7] = int(q1_tokens[0] == q2_tokens[0])\n",
    "    \n",
    "    token_features[8] = abs(len(q1_tokens) - len(q2_tokens))\n",
    "    \n",
    "    #Average Token Length of both Questions\n",
    "    token_features[9] = (len(q1_tokens) + len(q2_tokens))/2\n",
    "    return token_features\n",
    "        \n",
    "#print(data[data['question2'].isnull()])   \n",
    "# get the Longest Common sub string\n",
    "\n",
    "def get_longest_substr_ratio(que1, que2):\n",
    "    strs = list(distance.lcsubstrings(que1, que2))\n",
    "    if len(strs) == 0:\n",
    "        return 0\n",
    "    else:\n",
    "        return len(strs[0]) / (min(len(que1), len(que2)) + 1)"
   ]
  },
  {
   "cell_type": "code",
   "execution_count": 118,
   "metadata": {},
   "outputs": [],
   "source": [
    "from fuzzywuzzy import fuzz\n",
    "\n",
    "def extract_features(data):\n",
    "    # preprocessing each question\n",
    "    data['question1'] = data['question1'].fillna(\"\").apply(preprocess)\n",
    "    data['question2'] = data['question2'].fillna(\"\").apply(preprocess)\n",
    "    \n",
    "    print('token features...')\n",
    "    \n",
    "    token_features = data.apply(lambda x: get_token_features(x['question1'], x['question2']), axis=1)\n",
    "    \n",
    "    data['cwc_min']       = list(map(lambda x: x[0], token_features))\n",
    "    data['cwc_max']       = list(map(lambda x: x[1], token_features))\n",
    "    data['csc_min']       = list(map(lambda x: x[2], token_features))\n",
    "    data['csc_max']       = list(map(lambda x: x[3], token_features))\n",
    "    data['ctc_min']       = list(map(lambda x: x[4], token_features))\n",
    "    data['ctc_max']       = list(map(lambda x: x[5], token_features))\n",
    "    data['last_word_eq']  = list(map(lambda x: x[6], token_features))\n",
    "    data['first_word_eq'] = list(map(lambda x: x[7], token_features))\n",
    "    data['abs_len_diff']  = list(map(lambda x: x[8], token_features))\n",
    "    data['mean_len']      = list(map(lambda x: x[9], token_features))\n",
    "    \n",
    "    print('fuzzy features..')\n",
    "\n",
    "    data['token_set_ratio']       = data.apply(lambda x: fuzz.token_set_ratio(x['question1'], x['question2']), axis=1)\n",
    "    # The token sort approach involves tokenizing the string in question, sorting the tokens alphabetically, and \n",
    "    # then joining them back into a string We then compare the transformed strings with a simple ratio().\n",
    "    data['token_sort_ratio']      = data.apply(lambda x: fuzz.token_sort_ratio(x['question1'], x['question2']), axis=1)\n",
    "    data['fuzz_ratio']            = data.apply(lambda x: fuzz.QRatio(x['question1'], x['question2']), axis=1)\n",
    "    data['fuzz_partial_ratio']    = data.apply(lambda x: fuzz.partial_ratio(x['question1'], x['question2']), axis=1)\n",
    "          \n",
    "    data['longest_substr_ratio']  = data.apply(lambda x: get_longest_substr_ratio(x['question1'],x['question2']),axis=1)\n",
    "          \n",
    "    return data"
   ]
  },
  {
   "cell_type": "code",
   "execution_count": 129,
   "metadata": {},
   "outputs": [
    {
     "data": {
      "text/html": [
       "<div>\n",
       "<style scoped>\n",
       "    .dataframe tbody tr th:only-of-type {\n",
       "        vertical-align: middle;\n",
       "    }\n",
       "\n",
       "    .dataframe tbody tr th {\n",
       "        vertical-align: top;\n",
       "    }\n",
       "\n",
       "    .dataframe thead th {\n",
       "        text-align: right;\n",
       "    }\n",
       "</style>\n",
       "<table border=\"1\" class=\"dataframe\">\n",
       "  <thead>\n",
       "    <tr style=\"text-align: right;\">\n",
       "      <th></th>\n",
       "      <th>Unnamed: 0</th>\n",
       "      <th>id</th>\n",
       "      <th>qid1</th>\n",
       "      <th>qid2</th>\n",
       "      <th>question1</th>\n",
       "      <th>question2</th>\n",
       "      <th>is_duplicate</th>\n",
       "      <th>cwc_min</th>\n",
       "      <th>cwc_max</th>\n",
       "      <th>csc_min</th>\n",
       "      <th>...</th>\n",
       "      <th>ctc_max</th>\n",
       "      <th>last_word_eq</th>\n",
       "      <th>first_word_eq</th>\n",
       "      <th>abs_len_diff</th>\n",
       "      <th>mean_len</th>\n",
       "      <th>token_set_ratio</th>\n",
       "      <th>token_sort_ratio</th>\n",
       "      <th>fuzz_ratio</th>\n",
       "      <th>fuzz_partial_ratio</th>\n",
       "      <th>longest_substr_ratio</th>\n",
       "    </tr>\n",
       "  </thead>\n",
       "  <tbody>\n",
       "    <tr>\n",
       "      <th>0</th>\n",
       "      <td>237030</td>\n",
       "      <td>237030</td>\n",
       "      <td>33086</td>\n",
       "      <td>348102</td>\n",
       "      <td>how can i stop playing video games</td>\n",
       "      <td>should i stop playing video games with my child</td>\n",
       "      <td>0</td>\n",
       "      <td>0.999975</td>\n",
       "      <td>0.799984</td>\n",
       "      <td>0.333322</td>\n",
       "      <td>...</td>\n",
       "      <td>0.555549</td>\n",
       "      <td>0.0</td>\n",
       "      <td>0.0</td>\n",
       "      <td>2.0</td>\n",
       "      <td>8.0</td>\n",
       "      <td>87</td>\n",
       "      <td>69</td>\n",
       "      <td>72</td>\n",
       "      <td>86</td>\n",
       "      <td>0.777778</td>\n",
       "    </tr>\n",
       "    <tr>\n",
       "      <th>1</th>\n",
       "      <td>247341</td>\n",
       "      <td>247341</td>\n",
       "      <td>73272</td>\n",
       "      <td>8624</td>\n",
       "      <td>who is better donald trump or hillary clinton</td>\n",
       "      <td>why is hillary clinton a better choice than do...</td>\n",
       "      <td>1</td>\n",
       "      <td>0.999980</td>\n",
       "      <td>0.833319</td>\n",
       "      <td>0.333322</td>\n",
       "      <td>...</td>\n",
       "      <td>0.599994</td>\n",
       "      <td>0.0</td>\n",
       "      <td>0.0</td>\n",
       "      <td>2.0</td>\n",
       "      <td>9.0</td>\n",
       "      <td>92</td>\n",
       "      <td>83</td>\n",
       "      <td>42</td>\n",
       "      <td>50</td>\n",
       "      <td>0.361702</td>\n",
       "    </tr>\n",
       "    <tr>\n",
       "      <th>2</th>\n",
       "      <td>246425</td>\n",
       "      <td>246425</td>\n",
       "      <td>359482</td>\n",
       "      <td>359483</td>\n",
       "      <td>what do you think is the chance that sometime ...</td>\n",
       "      <td>do you think there will be another world war n...</td>\n",
       "      <td>1</td>\n",
       "      <td>0.857131</td>\n",
       "      <td>0.499996</td>\n",
       "      <td>0.999986</td>\n",
       "      <td>...</td>\n",
       "      <td>0.464284</td>\n",
       "      <td>0.0</td>\n",
       "      <td>0.0</td>\n",
       "      <td>13.0</td>\n",
       "      <td>21.5</td>\n",
       "      <td>94</td>\n",
       "      <td>70</td>\n",
       "      <td>46</td>\n",
       "      <td>56</td>\n",
       "      <td>0.294872</td>\n",
       "    </tr>\n",
       "    <tr>\n",
       "      <th>3</th>\n",
       "      <td>306985</td>\n",
       "      <td>306985</td>\n",
       "      <td>1357</td>\n",
       "      <td>47020</td>\n",
       "      <td>why are so many questions posted to quora that...</td>\n",
       "      <td>why do people write questions on quora that co...</td>\n",
       "      <td>1</td>\n",
       "      <td>0.374995</td>\n",
       "      <td>0.333330</td>\n",
       "      <td>0.333328</td>\n",
       "      <td>...</td>\n",
       "      <td>0.312498</td>\n",
       "      <td>0.0</td>\n",
       "      <td>1.0</td>\n",
       "      <td>0.0</td>\n",
       "      <td>16.0</td>\n",
       "      <td>59</td>\n",
       "      <td>51</td>\n",
       "      <td>53</td>\n",
       "      <td>52</td>\n",
       "      <td>0.137931</td>\n",
       "    </tr>\n",
       "    <tr>\n",
       "      <th>4</th>\n",
       "      <td>225863</td>\n",
       "      <td>225863</td>\n",
       "      <td>334315</td>\n",
       "      <td>334316</td>\n",
       "      <td>can there even be a movie ever rated 10 10 on ...</td>\n",
       "      <td>what are your 10 10 movies</td>\n",
       "      <td>0</td>\n",
       "      <td>0.499975</td>\n",
       "      <td>0.166664</td>\n",
       "      <td>0.000000</td>\n",
       "      <td>...</td>\n",
       "      <td>0.083333</td>\n",
       "      <td>0.0</td>\n",
       "      <td>0.0</td>\n",
       "      <td>6.0</td>\n",
       "      <td>9.0</td>\n",
       "      <td>46</td>\n",
       "      <td>50</td>\n",
       "      <td>42</td>\n",
       "      <td>48</td>\n",
       "      <td>0.250000</td>\n",
       "    </tr>\n",
       "    <tr>\n",
       "      <th>5</th>\n",
       "      <td>259303</td>\n",
       "      <td>259303</td>\n",
       "      <td>6304</td>\n",
       "      <td>375056</td>\n",
       "      <td>which is correct  each of you is  or  each of ...</td>\n",
       "      <td>what is the difference between leafs and leave...</td>\n",
       "      <td>0</td>\n",
       "      <td>0.999900</td>\n",
       "      <td>0.166664</td>\n",
       "      <td>0.285710</td>\n",
       "      <td>...</td>\n",
       "      <td>0.187499</td>\n",
       "      <td>0.0</td>\n",
       "      <td>0.0</td>\n",
       "      <td>4.0</td>\n",
       "      <td>14.0</td>\n",
       "      <td>60</td>\n",
       "      <td>52</td>\n",
       "      <td>32</td>\n",
       "      <td>48</td>\n",
       "      <td>0.163636</td>\n",
       "    </tr>\n",
       "    <tr>\n",
       "      <th>6</th>\n",
       "      <td>224788</td>\n",
       "      <td>224788</td>\n",
       "      <td>94113</td>\n",
       "      <td>46020</td>\n",
       "      <td>will you marry a girl who is not virgin</td>\n",
       "      <td>would you marry a non virgin woman</td>\n",
       "      <td>1</td>\n",
       "      <td>0.666644</td>\n",
       "      <td>0.399992</td>\n",
       "      <td>0.999950</td>\n",
       "      <td>...</td>\n",
       "      <td>0.444440</td>\n",
       "      <td>0.0</td>\n",
       "      <td>0.0</td>\n",
       "      <td>2.0</td>\n",
       "      <td>8.0</td>\n",
       "      <td>74</td>\n",
       "      <td>74</td>\n",
       "      <td>66</td>\n",
       "      <td>63</td>\n",
       "      <td>0.361111</td>\n",
       "    </tr>\n",
       "    <tr>\n",
       "      <th>7</th>\n",
       "      <td>393492</td>\n",
       "      <td>393492</td>\n",
       "      <td>71478</td>\n",
       "      <td>374655</td>\n",
       "      <td>what is a good torrent download site</td>\n",
       "      <td>what are the best sites for torrent download</td>\n",
       "      <td>0</td>\n",
       "      <td>0.499988</td>\n",
       "      <td>0.499988</td>\n",
       "      <td>0.333322</td>\n",
       "      <td>...</td>\n",
       "      <td>0.374995</td>\n",
       "      <td>0.0</td>\n",
       "      <td>1.0</td>\n",
       "      <td>1.0</td>\n",
       "      <td>7.5</td>\n",
       "      <td>75</td>\n",
       "      <td>75</td>\n",
       "      <td>65</td>\n",
       "      <td>73</td>\n",
       "      <td>0.473684</td>\n",
       "    </tr>\n",
       "  </tbody>\n",
       "</table>\n",
       "<p>8 rows × 22 columns</p>\n",
       "</div>"
      ],
      "text/plain": [
       "   Unnamed: 0      id    qid1    qid2  \\\n",
       "0      237030  237030   33086  348102   \n",
       "1      247341  247341   73272    8624   \n",
       "2      246425  246425  359482  359483   \n",
       "3      306985  306985    1357   47020   \n",
       "4      225863  225863  334315  334316   \n",
       "5      259303  259303    6304  375056   \n",
       "6      224788  224788   94113   46020   \n",
       "7      393492  393492   71478  374655   \n",
       "\n",
       "                                           question1  \\\n",
       "0                how can i stop playing video games    \n",
       "1     who is better donald trump or hillary clinton    \n",
       "2  what do you think is the chance that sometime ...   \n",
       "3  why are so many questions posted to quora that...   \n",
       "4  can there even be a movie ever rated 10 10 on ...   \n",
       "5  which is correct  each of you is  or  each of ...   \n",
       "6           will you marry a girl who is not virgin    \n",
       "7              what is a good torrent download site    \n",
       "\n",
       "                                           question2  is_duplicate   cwc_min  \\\n",
       "0   should i stop playing video games with my child              0  0.999975   \n",
       "1  why is hillary clinton a better choice than do...             1  0.999980   \n",
       "2  do you think there will be another world war n...             1  0.857131   \n",
       "3  why do people write questions on quora that co...             1  0.374995   \n",
       "4                        what are your 10 10 movies              0  0.499975   \n",
       "5  what is the difference between leafs and leave...             0  0.999900   \n",
       "6                would you marry a non virgin woman              1  0.666644   \n",
       "7      what are the best sites for torrent download              0  0.499988   \n",
       "\n",
       "    cwc_max   csc_min          ...            ctc_max  last_word_eq  \\\n",
       "0  0.799984  0.333322          ...           0.555549           0.0   \n",
       "1  0.833319  0.333322          ...           0.599994           0.0   \n",
       "2  0.499996  0.999986          ...           0.464284           0.0   \n",
       "3  0.333330  0.333328          ...           0.312498           0.0   \n",
       "4  0.166664  0.000000          ...           0.083333           0.0   \n",
       "5  0.166664  0.285710          ...           0.187499           0.0   \n",
       "6  0.399992  0.999950          ...           0.444440           0.0   \n",
       "7  0.499988  0.333322          ...           0.374995           0.0   \n",
       "\n",
       "   first_word_eq  abs_len_diff  mean_len  token_set_ratio  token_sort_ratio  \\\n",
       "0            0.0           2.0       8.0               87                69   \n",
       "1            0.0           2.0       9.0               92                83   \n",
       "2            0.0          13.0      21.5               94                70   \n",
       "3            1.0           0.0      16.0               59                51   \n",
       "4            0.0           6.0       9.0               46                50   \n",
       "5            0.0           4.0      14.0               60                52   \n",
       "6            0.0           2.0       8.0               74                74   \n",
       "7            1.0           1.0       7.5               75                75   \n",
       "\n",
       "   fuzz_ratio  fuzz_partial_ratio  longest_substr_ratio  \n",
       "0          72                  86              0.777778  \n",
       "1          42                  50              0.361702  \n",
       "2          46                  56              0.294872  \n",
       "3          53                  52              0.137931  \n",
       "4          42                  48              0.250000  \n",
       "5          32                  48              0.163636  \n",
       "6          66                  63              0.361111  \n",
       "7          65                  73              0.473684  \n",
       "\n",
       "[8 rows x 22 columns]"
      ]
     },
     "execution_count": 129,
     "metadata": {},
     "output_type": "execute_result"
    }
   ],
   "source": [
    "\n",
    "if os.path.isfile('D:\\\\datasets\\\\quora\\\\quora-question-pairs\\\\train.csv\\\\nlp_features_train_data.csv'):\n",
    "    data = pd.read_csv('D:\\\\datasets\\\\quora\\\\quora-question-pairs\\\\train.csv\\\\nlp_features_train_data.csv',encoding='latin-1')\n",
    "    data.fillna('')\n",
    "else:\n",
    "    print('Extracting features for train_data:')\n",
    "    df_temp = pd.read_csv('D:\\\\datasets\\\\quora\\\\quora-question-pairs\\\\train.csv\\\\train_data.csv')\n",
    "    data = extract_features(df_temp)\n",
    "    data.to_csv('D:\\\\datasets\\\\quora\\\\quora-question-pairs\\\\train.csv\\\\nlp_features_train_data.csv', index=False)\n",
    "data.head(8)"
   ]
  },
  {
   "cell_type": "code",
   "execution_count": 90,
   "metadata": {},
   "outputs": [
    {
     "name": "stdout",
     "output_type": "stream",
     "text": [
      "Empty DataFrame\n",
      "Columns: [id, qid1, qid2, question1, question2, is_duplicate, freq_qid1, freq_qid2, q1len, q2len, q1_n_words, q2_n_words, word_Common, word_Total, word_share, freq_q1+freq_q2, freq_q1-freq_q2]\n",
      "Index: []\n"
     ]
    }
   ],
   "source": []
  },
  {
   "cell_type": "code",
   "execution_count": 128,
   "metadata": {},
   "outputs": [
    {
     "name": "stdout",
     "output_type": "stream",
     "text": [
      "D:\\datasets\\quora\\quora-question-pairs\\train.csv\n"
     ]
    }
   ],
   "source": [
    "from os import path\n",
    "d = path.dirname('D:\\\\datasets\\\\quora\\\\quora-question-pairs\\\\train.csv\\\\')\n",
    "print(d)"
   ]
  },
  {
   "cell_type": "code",
   "execution_count": null,
   "metadata": {},
   "outputs": [],
   "source": []
  }
 ],
 "metadata": {
  "kernelspec": {
   "display_name": "Python 3",
   "language": "python",
   "name": "python3"
  },
  "language_info": {
   "codemirror_mode": {
    "name": "ipython",
    "version": 3
   },
   "file_extension": ".py",
   "mimetype": "text/x-python",
   "name": "python",
   "nbconvert_exporter": "python",
   "pygments_lexer": "ipython3",
   "version": "3.6.5"
  }
 },
 "nbformat": 4,
 "nbformat_minor": 2
}
