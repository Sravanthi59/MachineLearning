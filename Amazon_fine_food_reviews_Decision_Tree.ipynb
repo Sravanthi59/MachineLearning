{
  "nbformat": 4,
  "nbformat_minor": 0,
  "metadata": {
    "colab": {
      "name": "Amazon_fine_food_reviews_Decision_Tree.ipynb",
      "provenance": [],
      "collapsed_sections": [
        "AK-en-9vy4Gw"
      ],
      "toc_visible": true
    },
    "kernelspec": {
      "display_name": "Python 3",
      "language": "python",
      "name": "python3"
    },
    "language_info": {
      "codemirror_mode": {
        "name": "ipython",
        "version": 3
      },
      "file_extension": ".py",
      "mimetype": "text/x-python",
      "name": "python",
      "nbconvert_exporter": "python",
      "pygments_lexer": "ipython3",
      "version": "3.6.5"
    }
  },
  "cells": [
    {
      "cell_type": "code",
      "metadata": {
        "colab_type": "code",
        "id": "rR0oMfqly4FU",
        "colab": {}
      },
      "source": [
        "import warnings\n",
        "warnings.filterwarnings(\"ignore\")\n",
        "\n",
        "\n",
        "import sqlite3\n",
        "import pandas as pd\n",
        "import numpy as np\n",
        "import matplotlib.pyplot as plt\n",
        "import seaborn as sns\n",
        "\n",
        "from tqdm import tqdm\n",
        "from gensim.models import Word2Vec"
      ],
      "execution_count": 0,
      "outputs": []
    },
    {
      "cell_type": "code",
      "metadata": {
        "colab_type": "code",
        "id": "zMyQc3Q8y4Fb",
        "outputId": "baaf10e4-1939-43c5-954c-8fb3275b8fc7",
        "colab": {
          "base_uri": "https://localhost:8080/",
          "height": 34
        }
      },
      "source": [
        "%cd /content/drive/My\\ Drive/datasets/amazon_food_reviews/\n",
        "\n"
      ],
      "execution_count": 0,
      "outputs": [
        {
          "output_type": "stream",
          "text": [
            "/content/drive/My Drive/datasets/amazon_food_reviews\n"
          ],
          "name": "stdout"
        }
      ]
    },
    {
      "cell_type": "code",
      "metadata": {
        "colab_type": "code",
        "id": "hfyZC6-W7aYi",
        "outputId": "1ae4abfa-7a9f-4451-92aa-0e574c0b5013",
        "colab": {
          "base_uri": "https://localhost:8080/",
          "height": 122
        }
      },
      "source": [
        "from google.colab import drive\n",
        "drive.mount('/content/drive')"
      ],
      "execution_count": 0,
      "outputs": [
        {
          "output_type": "stream",
          "text": [
            "Go to this URL in a browser: https://accounts.google.com/o/oauth2/auth?client_id=947318989803-6bn6qk8qdgf4n4g3pfee6491hc0brc4i.apps.googleusercontent.com&redirect_uri=urn%3aietf%3awg%3aoauth%3a2.0%3aoob&response_type=code&scope=email%20https%3a%2f%2fwww.googleapis.com%2fauth%2fdocs.test%20https%3a%2f%2fwww.googleapis.com%2fauth%2fdrive%20https%3a%2f%2fwww.googleapis.com%2fauth%2fdrive.photos.readonly%20https%3a%2f%2fwww.googleapis.com%2fauth%2fpeopleapi.readonly\n",
            "\n",
            "Enter your authorization code:\n",
            "··········\n",
            "Mounted at /content/drive\n"
          ],
          "name": "stdout"
        }
      ]
    },
    {
      "cell_type": "markdown",
      "metadata": {
        "colab_type": "text",
        "id": "hvQSZ0xpy4Ff"
      },
      "source": [
        "# Reading Data"
      ]
    },
    {
      "cell_type": "code",
      "metadata": {
        "colab_type": "code",
        "id": "XI3l9y3Ay4Fg",
        "outputId": "c3766123-ad92-4b51-b551-dfbd6368b90a",
        "colab": {
          "base_uri": "https://localhost:8080/",
          "height": 451
        }
      },
      "source": [
        "\n",
        "# using SQLite Table to read data.\n",
        "conn = sqlite3.connect('database.sqlite')\n",
        "\n",
        "filtered_data = pd.read_sql_query(\" SELECT * FROM Reviews WHERE Score != 3 LIMIT 100000\", conn)\n",
        "\n",
        "#print(filtered_data.columns)\n",
        "#print(filtered_data.head(2))\n",
        "# Give reviews with Score>3 a positive rating(1), and reviews with a score<3 a negative rating(0).\n",
        "def rating(x):\n",
        "    if x < 3:\n",
        "        return 0\n",
        "    return 1\n",
        "\n",
        "#changing reviews with score less than 3 to be positive and vice-versa\n",
        "actualScore = filtered_data['Score']\n",
        "positiveNegative = actualScore.map(rating) \n",
        "filtered_data['Score'] = positiveNegative\n",
        "print(\"Number of data points in our data :\", filtered_data.shape)\n",
        "filtered_data.head(3)"
      ],
      "execution_count": 0,
      "outputs": [
        {
          "output_type": "stream",
          "text": [
            "Number of data points in our data : (100000, 10)\n"
          ],
          "name": "stdout"
        },
        {
          "output_type": "execute_result",
          "data": {
            "text/html": [
              "<div>\n",
              "<style scoped>\n",
              "    .dataframe tbody tr th:only-of-type {\n",
              "        vertical-align: middle;\n",
              "    }\n",
              "\n",
              "    .dataframe tbody tr th {\n",
              "        vertical-align: top;\n",
              "    }\n",
              "\n",
              "    .dataframe thead th {\n",
              "        text-align: right;\n",
              "    }\n",
              "</style>\n",
              "<table border=\"1\" class=\"dataframe\">\n",
              "  <thead>\n",
              "    <tr style=\"text-align: right;\">\n",
              "      <th></th>\n",
              "      <th>Id</th>\n",
              "      <th>ProductId</th>\n",
              "      <th>UserId</th>\n",
              "      <th>ProfileName</th>\n",
              "      <th>HelpfulnessNumerator</th>\n",
              "      <th>HelpfulnessDenominator</th>\n",
              "      <th>Score</th>\n",
              "      <th>Time</th>\n",
              "      <th>Summary</th>\n",
              "      <th>Text</th>\n",
              "    </tr>\n",
              "  </thead>\n",
              "  <tbody>\n",
              "    <tr>\n",
              "      <th>0</th>\n",
              "      <td>1</td>\n",
              "      <td>B001E4KFG0</td>\n",
              "      <td>A3SGXH7AUHU8GW</td>\n",
              "      <td>delmartian</td>\n",
              "      <td>1</td>\n",
              "      <td>1</td>\n",
              "      <td>1</td>\n",
              "      <td>1303862400</td>\n",
              "      <td>Good Quality Dog Food</td>\n",
              "      <td>I have bought several of the Vitality canned d...</td>\n",
              "    </tr>\n",
              "    <tr>\n",
              "      <th>1</th>\n",
              "      <td>2</td>\n",
              "      <td>B00813GRG4</td>\n",
              "      <td>A1D87F6ZCVE5NK</td>\n",
              "      <td>dll pa</td>\n",
              "      <td>0</td>\n",
              "      <td>0</td>\n",
              "      <td>0</td>\n",
              "      <td>1346976000</td>\n",
              "      <td>Not as Advertised</td>\n",
              "      <td>Product arrived labeled as Jumbo Salted Peanut...</td>\n",
              "    </tr>\n",
              "    <tr>\n",
              "      <th>2</th>\n",
              "      <td>3</td>\n",
              "      <td>B000LQOCH0</td>\n",
              "      <td>ABXLMWJIXXAIN</td>\n",
              "      <td>Natalia Corres \"Natalia Corres\"</td>\n",
              "      <td>1</td>\n",
              "      <td>1</td>\n",
              "      <td>1</td>\n",
              "      <td>1219017600</td>\n",
              "      <td>\"Delight\" says it all</td>\n",
              "      <td>This is a confection that has been around a fe...</td>\n",
              "    </tr>\n",
              "  </tbody>\n",
              "</table>\n",
              "</div>"
            ],
            "text/plain": [
              "   Id  ...                                               Text\n",
              "0   1  ...  I have bought several of the Vitality canned d...\n",
              "1   2  ...  Product arrived labeled as Jumbo Salted Peanut...\n",
              "2   3  ...  This is a confection that has been around a fe...\n",
              "\n",
              "[3 rows x 10 columns]"
            ]
          },
          "metadata": {
            "tags": []
          },
          "execution_count": 4
        }
      ]
    },
    {
      "cell_type": "code",
      "metadata": {
        "colab_type": "code",
        "id": "2t8G2xMmy4Fk",
        "colab": {}
      },
      "source": [
        "display_unique_users = pd.read_sql_query(\"\"\"SELECT UserId, ProductId, ProfileName, Time, Score, Text, COUNT(*) FROM Reviews\n",
        "GROUP BY UserId\n",
        "HAVING COUNT(*)>1\n",
        "\"\"\", conn)"
      ],
      "execution_count": 0,
      "outputs": []
    },
    {
      "cell_type": "code",
      "metadata": {
        "colab_type": "code",
        "id": "EI56YBANy4Fn",
        "outputId": "5f48b385-f8f9-4c17-b032-ce2fc284c7c9",
        "colab": {
          "base_uri": "https://localhost:8080/",
          "height": 258
        }
      },
      "source": [
        "print('Unique users:',display_unique_users.shape)\n",
        "display_unique_users.head(4)"
      ],
      "execution_count": 0,
      "outputs": [
        {
          "output_type": "stream",
          "text": [
            "Unique users: (80668, 7)\n"
          ],
          "name": "stdout"
        },
        {
          "output_type": "execute_result",
          "data": {
            "text/html": [
              "<div>\n",
              "<style scoped>\n",
              "    .dataframe tbody tr th:only-of-type {\n",
              "        vertical-align: middle;\n",
              "    }\n",
              "\n",
              "    .dataframe tbody tr th {\n",
              "        vertical-align: top;\n",
              "    }\n",
              "\n",
              "    .dataframe thead th {\n",
              "        text-align: right;\n",
              "    }\n",
              "</style>\n",
              "<table border=\"1\" class=\"dataframe\">\n",
              "  <thead>\n",
              "    <tr style=\"text-align: right;\">\n",
              "      <th></th>\n",
              "      <th>UserId</th>\n",
              "      <th>ProductId</th>\n",
              "      <th>ProfileName</th>\n",
              "      <th>Time</th>\n",
              "      <th>Score</th>\n",
              "      <th>Text</th>\n",
              "      <th>COUNT(*)</th>\n",
              "    </tr>\n",
              "  </thead>\n",
              "  <tbody>\n",
              "    <tr>\n",
              "      <th>0</th>\n",
              "      <td>#oc-R115TNMSPFT9I7</td>\n",
              "      <td>B007Y59HVM</td>\n",
              "      <td>Breyton</td>\n",
              "      <td>1331510400</td>\n",
              "      <td>2</td>\n",
              "      <td>Overall its just OK when considering the price...</td>\n",
              "      <td>2</td>\n",
              "    </tr>\n",
              "    <tr>\n",
              "      <th>1</th>\n",
              "      <td>#oc-R11D9D7SHXIJB9</td>\n",
              "      <td>B005HG9ET0</td>\n",
              "      <td>Louis E. Emory \"hoppy\"</td>\n",
              "      <td>1342396800</td>\n",
              "      <td>5</td>\n",
              "      <td>My wife has recurring extreme muscle spasms, u...</td>\n",
              "      <td>3</td>\n",
              "    </tr>\n",
              "    <tr>\n",
              "      <th>2</th>\n",
              "      <td>#oc-R11DNU2NBKQ23Z</td>\n",
              "      <td>B007Y59HVM</td>\n",
              "      <td>Kim Cieszykowski</td>\n",
              "      <td>1348531200</td>\n",
              "      <td>1</td>\n",
              "      <td>This coffee is horrible and unfortunately not ...</td>\n",
              "      <td>2</td>\n",
              "    </tr>\n",
              "    <tr>\n",
              "      <th>3</th>\n",
              "      <td>#oc-R11O5J5ZVQE25C</td>\n",
              "      <td>B005HG9ET0</td>\n",
              "      <td>Penguin Chick</td>\n",
              "      <td>1346889600</td>\n",
              "      <td>5</td>\n",
              "      <td>This will be the bottle that you grab from the...</td>\n",
              "      <td>3</td>\n",
              "    </tr>\n",
              "  </tbody>\n",
              "</table>\n",
              "</div>"
            ],
            "text/plain": [
              "               UserId  ... COUNT(*)\n",
              "0  #oc-R115TNMSPFT9I7  ...        2\n",
              "1  #oc-R11D9D7SHXIJB9  ...        3\n",
              "2  #oc-R11DNU2NBKQ23Z  ...        2\n",
              "3  #oc-R11O5J5ZVQE25C  ...        3\n",
              "\n",
              "[4 rows x 7 columns]"
            ]
          },
          "metadata": {
            "tags": []
          },
          "execution_count": 6
        }
      ]
    },
    {
      "cell_type": "code",
      "metadata": {
        "colab_type": "code",
        "id": "FOq2rxcCy4Fr",
        "outputId": "4fbc2eb4-8d9b-449e-8494-a17c663a314a",
        "colab": {
          "base_uri": "https://localhost:8080/",
          "height": 34
        }
      },
      "source": [
        "print('Total No. of Reviews:',display_unique_users['COUNT(*)'].sum())"
      ],
      "execution_count": 0,
      "outputs": [
        {
          "output_type": "stream",
          "text": [
            "Total No. of Reviews: 393063\n"
          ],
          "name": "stdout"
        }
      ]
    },
    {
      "cell_type": "markdown",
      "metadata": {
        "colab_type": "text",
        "id": "u_bLjSXty4Fu"
      },
      "source": [
        "# Exploratory Data Analysis"
      ]
    },
    {
      "cell_type": "markdown",
      "metadata": {
        "colab_type": "text",
        "id": "3I5fx2jBy4Fv"
      },
      "source": [
        "# Data Cleaning"
      ]
    },
    {
      "cell_type": "code",
      "metadata": {
        "colab_type": "code",
        "id": "39uQPSwXy4Fw",
        "outputId": "ec20afc7-fd9f-40fa-e018-4643a4756307",
        "colab": {
          "base_uri": "https://localhost:8080/",
          "height": 564
        }
      },
      "source": [
        "display_duplicate_reviews= pd.read_sql_query(\"\"\"\n",
        "SELECT *\n",
        "FROM Reviews\n",
        "WHERE Score != 3 AND UserId=\"AR5J8UI46CURR\"\n",
        "ORDER BY ProductID\n",
        "\"\"\", conn)\n",
        "display_duplicate_reviews.head(6)"
      ],
      "execution_count": 0,
      "outputs": [
        {
          "output_type": "execute_result",
          "data": {
            "text/html": [
              "<div>\n",
              "<style scoped>\n",
              "    .dataframe tbody tr th:only-of-type {\n",
              "        vertical-align: middle;\n",
              "    }\n",
              "\n",
              "    .dataframe tbody tr th {\n",
              "        vertical-align: top;\n",
              "    }\n",
              "\n",
              "    .dataframe thead th {\n",
              "        text-align: right;\n",
              "    }\n",
              "</style>\n",
              "<table border=\"1\" class=\"dataframe\">\n",
              "  <thead>\n",
              "    <tr style=\"text-align: right;\">\n",
              "      <th></th>\n",
              "      <th>Id</th>\n",
              "      <th>ProductId</th>\n",
              "      <th>UserId</th>\n",
              "      <th>ProfileName</th>\n",
              "      <th>HelpfulnessNumerator</th>\n",
              "      <th>HelpfulnessDenominator</th>\n",
              "      <th>Score</th>\n",
              "      <th>Time</th>\n",
              "      <th>Summary</th>\n",
              "      <th>Text</th>\n",
              "    </tr>\n",
              "  </thead>\n",
              "  <tbody>\n",
              "    <tr>\n",
              "      <th>0</th>\n",
              "      <td>78445</td>\n",
              "      <td>B000HDL1RQ</td>\n",
              "      <td>AR5J8UI46CURR</td>\n",
              "      <td>Geetha Krishnan</td>\n",
              "      <td>2</td>\n",
              "      <td>2</td>\n",
              "      <td>5</td>\n",
              "      <td>1199577600</td>\n",
              "      <td>LOACKER QUADRATINI VANILLA WAFERS</td>\n",
              "      <td>DELICIOUS WAFERS. I FIND THAT EUROPEAN WAFERS ...</td>\n",
              "    </tr>\n",
              "    <tr>\n",
              "      <th>1</th>\n",
              "      <td>138317</td>\n",
              "      <td>B000HDOPYC</td>\n",
              "      <td>AR5J8UI46CURR</td>\n",
              "      <td>Geetha Krishnan</td>\n",
              "      <td>2</td>\n",
              "      <td>2</td>\n",
              "      <td>5</td>\n",
              "      <td>1199577600</td>\n",
              "      <td>LOACKER QUADRATINI VANILLA WAFERS</td>\n",
              "      <td>DELICIOUS WAFERS. I FIND THAT EUROPEAN WAFERS ...</td>\n",
              "    </tr>\n",
              "    <tr>\n",
              "      <th>2</th>\n",
              "      <td>138277</td>\n",
              "      <td>B000HDOPYM</td>\n",
              "      <td>AR5J8UI46CURR</td>\n",
              "      <td>Geetha Krishnan</td>\n",
              "      <td>2</td>\n",
              "      <td>2</td>\n",
              "      <td>5</td>\n",
              "      <td>1199577600</td>\n",
              "      <td>LOACKER QUADRATINI VANILLA WAFERS</td>\n",
              "      <td>DELICIOUS WAFERS. I FIND THAT EUROPEAN WAFERS ...</td>\n",
              "    </tr>\n",
              "    <tr>\n",
              "      <th>3</th>\n",
              "      <td>73791</td>\n",
              "      <td>B000HDOPZG</td>\n",
              "      <td>AR5J8UI46CURR</td>\n",
              "      <td>Geetha Krishnan</td>\n",
              "      <td>2</td>\n",
              "      <td>2</td>\n",
              "      <td>5</td>\n",
              "      <td>1199577600</td>\n",
              "      <td>LOACKER QUADRATINI VANILLA WAFERS</td>\n",
              "      <td>DELICIOUS WAFERS. I FIND THAT EUROPEAN WAFERS ...</td>\n",
              "    </tr>\n",
              "    <tr>\n",
              "      <th>4</th>\n",
              "      <td>155049</td>\n",
              "      <td>B000PAQ75C</td>\n",
              "      <td>AR5J8UI46CURR</td>\n",
              "      <td>Geetha Krishnan</td>\n",
              "      <td>2</td>\n",
              "      <td>2</td>\n",
              "      <td>5</td>\n",
              "      <td>1199577600</td>\n",
              "      <td>LOACKER QUADRATINI VANILLA WAFERS</td>\n",
              "      <td>DELICIOUS WAFERS. I FIND THAT EUROPEAN WAFERS ...</td>\n",
              "    </tr>\n",
              "  </tbody>\n",
              "</table>\n",
              "</div>"
            ],
            "text/plain": [
              "       Id  ...                                               Text\n",
              "0   78445  ...  DELICIOUS WAFERS. I FIND THAT EUROPEAN WAFERS ...\n",
              "1  138317  ...  DELICIOUS WAFERS. I FIND THAT EUROPEAN WAFERS ...\n",
              "2  138277  ...  DELICIOUS WAFERS. I FIND THAT EUROPEAN WAFERS ...\n",
              "3   73791  ...  DELICIOUS WAFERS. I FIND THAT EUROPEAN WAFERS ...\n",
              "4  155049  ...  DELICIOUS WAFERS. I FIND THAT EUROPEAN WAFERS ...\n",
              "\n",
              "[5 rows x 10 columns]"
            ]
          },
          "metadata": {
            "tags": []
          },
          "execution_count": 8
        }
      ]
    },
    {
      "cell_type": "markdown",
      "metadata": {
        "colab_type": "text",
        "id": "YFgXUyR5y4Fz"
      },
      "source": [
        "It is observed (as shown in the table above) that the reviews data had many duplicate entries.\n",
        "Hence it was necessary to remove duplicates in order to get unbiased results for the analysis of the data"
      ]
    },
    {
      "cell_type": "code",
      "metadata": {
        "colab_type": "code",
        "id": "mqM7lwdly4F0",
        "colab": {}
      },
      "source": [
        "#Sorting data according to ProductId in ascending order\n",
        "sorted_data=filtered_data.sort_values('ProductId', axis=0, ascending=True, inplace=False, kind='quicksort', na_position='last')\n"
      ],
      "execution_count": 0,
      "outputs": []
    },
    {
      "cell_type": "code",
      "metadata": {
        "colab_type": "code",
        "id": "EL_PGL5ly4F4",
        "outputId": "1251baa6-6ff9-4aba-8629-8e9b44925c81",
        "colab": {
          "base_uri": "https://localhost:8080/",
          "height": 34
        }
      },
      "source": [
        "final_data=sorted_data.drop_duplicates(subset={\"UserId\",\"ProfileName\",\"Time\",\"Text\"},keep='first',inplace=False)\n",
        "print('final_data after removing duplicated row entries:',final_data.shape)"
      ],
      "execution_count": 0,
      "outputs": [
        {
          "output_type": "stream",
          "text": [
            "final_data after removing duplicated row entries: (87775, 10)\n"
          ],
          "name": "stdout"
        }
      ]
    },
    {
      "cell_type": "code",
      "metadata": {
        "colab_type": "code",
        "id": "d4wp6m_ty4F7",
        "outputId": "f9edeaf1-2cbb-4e6e-875b-0548b7644b49",
        "colab": {
          "base_uri": "https://localhost:8080/",
          "height": 335
        }
      },
      "source": [
        "display_HelpfulnessNumerator_corrupted_reviews= pd.read_sql_query(\"\"\"\n",
        "SELECT *\n",
        "FROM Reviews\n",
        "WHERE HelpfulnessNumerator > HelpfulnessDenominator \n",
        "ORDER BY ProductID\n",
        "\"\"\", conn)\n",
        "display_HelpfulnessNumerator_corrupted_reviews.head(6)"
      ],
      "execution_count": 0,
      "outputs": [
        {
          "output_type": "execute_result",
          "data": {
            "text/html": [
              "<div>\n",
              "<style scoped>\n",
              "    .dataframe tbody tr th:only-of-type {\n",
              "        vertical-align: middle;\n",
              "    }\n",
              "\n",
              "    .dataframe tbody tr th {\n",
              "        vertical-align: top;\n",
              "    }\n",
              "\n",
              "    .dataframe thead th {\n",
              "        text-align: right;\n",
              "    }\n",
              "</style>\n",
              "<table border=\"1\" class=\"dataframe\">\n",
              "  <thead>\n",
              "    <tr style=\"text-align: right;\">\n",
              "      <th></th>\n",
              "      <th>Id</th>\n",
              "      <th>ProductId</th>\n",
              "      <th>UserId</th>\n",
              "      <th>ProfileName</th>\n",
              "      <th>HelpfulnessNumerator</th>\n",
              "      <th>HelpfulnessDenominator</th>\n",
              "      <th>Score</th>\n",
              "      <th>Time</th>\n",
              "      <th>Summary</th>\n",
              "      <th>Text</th>\n",
              "    </tr>\n",
              "  </thead>\n",
              "  <tbody>\n",
              "    <tr>\n",
              "      <th>0</th>\n",
              "      <td>64422</td>\n",
              "      <td>B000MIDROQ</td>\n",
              "      <td>A161DK06JJMCYF</td>\n",
              "      <td>J. E. Stephens \"Jeanne\"</td>\n",
              "      <td>3</td>\n",
              "      <td>1</td>\n",
              "      <td>5</td>\n",
              "      <td>1224892800</td>\n",
              "      <td>Bought This for My Son at College</td>\n",
              "      <td>My son loves spaghetti so I didn't hesitate or...</td>\n",
              "    </tr>\n",
              "    <tr>\n",
              "      <th>1</th>\n",
              "      <td>44737</td>\n",
              "      <td>B001EQ55RW</td>\n",
              "      <td>A2V0I904FH7ABY</td>\n",
              "      <td>Ram</td>\n",
              "      <td>3</td>\n",
              "      <td>2</td>\n",
              "      <td>4</td>\n",
              "      <td>1212883200</td>\n",
              "      <td>Pure cocoa taste with crunchy almonds inside</td>\n",
              "      <td>It was almost a 'love at first bite' - the per...</td>\n",
              "    </tr>\n",
              "  </tbody>\n",
              "</table>\n",
              "</div>"
            ],
            "text/plain": [
              "      Id  ...                                               Text\n",
              "0  64422  ...  My son loves spaghetti so I didn't hesitate or...\n",
              "1  44737  ...  It was almost a 'love at first bite' - the per...\n",
              "\n",
              "[2 rows x 10 columns]"
            ]
          },
          "metadata": {
            "tags": []
          },
          "execution_count": 11
        }
      ]
    },
    {
      "cell_type": "markdown",
      "metadata": {
        "colab_type": "text",
        "id": "ORgnOECiy4F_"
      },
      "source": [
        "HelpfulnessNumerator > HelpfulnessDenominator ,which is not practically possible hence these two rows too are removed from calcualtions"
      ]
    },
    {
      "cell_type": "code",
      "metadata": {
        "colab_type": "code",
        "id": "xv_CJWrty4F_",
        "outputId": "63cb315e-2f89-4070-c432-f71716f5a773",
        "colab": {
          "base_uri": "https://localhost:8080/",
          "height": 34
        }
      },
      "source": [
        "final_data=final_data[final_data.HelpfulnessNumerator<=final_data.HelpfulnessDenominator]\n",
        "print('final_data after removing corrupted HelpfulnessNumerator:',final_data.shape)"
      ],
      "execution_count": 0,
      "outputs": [
        {
          "output_type": "stream",
          "text": [
            "final_data after removing corrupted HelpfulnessNumerator: (87773, 10)\n"
          ],
          "name": "stdout"
        }
      ]
    },
    {
      "cell_type": "code",
      "metadata": {
        "colab_type": "code",
        "id": "WrMl5t3Ay4GC",
        "outputId": "aec327bd-7ea3-4442-9384-576ad7556a49",
        "colab": {
          "base_uri": "https://localhost:8080/",
          "height": 68
        }
      },
      "source": [
        "final_data['Score'].value_counts()"
      ],
      "execution_count": 0,
      "outputs": [
        {
          "output_type": "execute_result",
          "data": {
            "text/plain": [
              "1    73592\n",
              "0    14181\n",
              "Name: Score, dtype: int64"
            ]
          },
          "metadata": {
            "tags": []
          },
          "execution_count": 13
        }
      ]
    },
    {
      "cell_type": "markdown",
      "metadata": {
        "colab_type": "text",
        "id": "PDYlC6iRy4GG"
      },
      "source": [
        "# PreProcessing review text"
      ]
    },
    {
      "cell_type": "markdown",
      "metadata": {
        "colab_type": "text",
        "id": "KhN4QCGry4GH"
      },
      "source": [
        "1.Begin by removing the html tags\n",
        "\n",
        "2.Remove any punctuations or limited set of special characters like , or . or # etc.\n",
        "\n",
        "3.Check if the word is made up of english letters and is not alpha-numeric\n",
        "\n",
        "4.Check to see if the length of the word is greater than 2 (as it was researched that there is no adjective in 2-letters)\n",
        "\n",
        "5.Convert the word to lowercase\n",
        "\n",
        "6.Remove Stopwords\n",
        "\n",
        "7.Finally Snowball Stemming the word (it was obsereved to be better than Porter Stemming)\n"
      ]
    },
    {
      "cell_type": "code",
      "metadata": {
        "colab_type": "code",
        "id": "2zr9QkgBy4GI",
        "outputId": "812c16b3-febf-43d2-f22b-d92c2da2d429",
        "colab": {
          "base_uri": "https://localhost:8080/",
          "height": 105
        }
      },
      "source": [
        "text_0=final_data['Text'].values[0]\n",
        "print(text_0)\n",
        "print('_'*50)\n",
        "text_100=final_data['Text'].values[100]\n",
        "print(text_100)\n",
        "print('_'*50)"
      ],
      "execution_count": 0,
      "outputs": [
        {
          "output_type": "stream",
          "text": [
            "My dogs loves this chicken but its a product from China, so we wont be buying it anymore.  Its very hard to find any chicken products made in the USA but they are out there, but this one isnt.  Its too bad too because its a good product but I wont take any chances till they know what is going on with the china imports.\n",
            "__________________________________________________\n",
            "My Frenchbull is only given nylabone's to chew. He has had them since he was 7 weeks old. They are safe for him because he has a strong bite and they don't break off in large pieces that he could choke on. The Dinosaur Chew is perfect because it has so many places to hold and bite.  Dylabone is the only product I buy.\n",
            "__________________________________________________\n"
          ],
          "name": "stdout"
        }
      ]
    },
    {
      "cell_type": "code",
      "metadata": {
        "colab_type": "code",
        "id": "fp9PP3Uwy4GL",
        "outputId": "0a4fe6c2-905d-483f-89ef-aa2dee773ea3",
        "colab": {
          "base_uri": "https://localhost:8080/",
          "height": 88
        }
      },
      "source": [
        "import re\n",
        "# remove urls from text python: https://stackoverflow.com/a/40823105/4084039\n",
        "text_0 = re.sub(r\"http\\S+\", \"\", text_0)\n",
        "text_100 = re.sub(r\"http\\S+\", \"\", text_100)\n",
        "\n",
        "print(text_0)\n",
        "print('_'*50)\n",
        "print(text_100)"
      ],
      "execution_count": 0,
      "outputs": [
        {
          "output_type": "stream",
          "text": [
            "My dogs loves this chicken but its a product from China, so we wont be buying it anymore.  Its very hard to find any chicken products made in the USA but they are out there, but this one isnt.  Its too bad too because its a good product but I wont take any chances till they know what is going on with the china imports.\n",
            "__________________________________________________\n",
            "My Frenchbull is only given nylabone's to chew. He has had them since he was 7 weeks old. They are safe for him because he has a strong bite and they don't break off in large pieces that he could choke on. The Dinosaur Chew is perfect because it has so many places to hold and bite.  Dylabone is the only product I buy.\n"
          ],
          "name": "stdout"
        }
      ]
    },
    {
      "cell_type": "code",
      "metadata": {
        "colab_type": "code",
        "id": "srG9J_xvy4GP",
        "outputId": "072fc5a0-916f-4d58-b82b-4959b700bb27",
        "colab": {
          "base_uri": "https://localhost:8080/",
          "height": 105
        }
      },
      "source": [
        "# https://www.crummy.com/software/BeautifulSoup/bs4/doc/\n",
        "# https://stackoverflow.com/questions/16206380/python-beautifulsoup-how-to-remove-all-tags-from-an-element\n",
        "from bs4 import BeautifulSoup\n",
        "\n",
        "soup = BeautifulSoup(text_0, 'lxml')\n",
        "text = soup.get_text()\n",
        "print(text)\n",
        "print(\"=\"*50)\n",
        "\n",
        "soup = BeautifulSoup(text_100, 'lxml')\n",
        "text = soup.get_text()\n",
        "print(text)\n",
        "print(\"=\"*50)"
      ],
      "execution_count": 0,
      "outputs": [
        {
          "output_type": "stream",
          "text": [
            "My dogs loves this chicken but its a product from China, so we wont be buying it anymore.  Its very hard to find any chicken products made in the USA but they are out there, but this one isnt.  Its too bad too because its a good product but I wont take any chances till they know what is going on with the china imports.\n",
            "==================================================\n",
            "My Frenchbull is only given nylabone's to chew. He has had them since he was 7 weeks old. They are safe for him because he has a strong bite and they don't break off in large pieces that he could choke on. The Dinosaur Chew is perfect because it has so many places to hold and bite.  Dylabone is the only product I buy.\n",
            "==================================================\n"
          ],
          "name": "stdout"
        }
      ]
    },
    {
      "cell_type": "code",
      "metadata": {
        "colab_type": "code",
        "id": "NQfK3fQfy4GS",
        "outputId": "c2009259-bd2c-4095-8e50-2ab1c1d69696",
        "colab": {
          "base_uri": "https://localhost:8080/",
          "height": 71
        }
      },
      "source": [
        "# https://stackoverflow.com/a/47091490/4084039\n",
        "\n",
        "def decontracted(phrase):\n",
        "    # specific\n",
        "    phrase = re.sub(r\"won't\", \"will not\", phrase)\n",
        "    phrase = re.sub(r\"can\\'t\", \"can not\", phrase)\n",
        "\n",
        "    # general\n",
        "    phrase = re.sub(r\"n\\'t\", \" not\", phrase)\n",
        "    phrase = re.sub(r\"\\'re\", \" are\", phrase)\n",
        "    phrase = re.sub(r\"\\'s\", \" is\", phrase)\n",
        "    phrase = re.sub(r\"\\'d\", \" would\", phrase)\n",
        "    phrase = re.sub(r\"\\'ll\", \" will\", phrase)\n",
        "    phrase = re.sub(r\"\\'t\", \" not\", phrase)\n",
        "    phrase = re.sub(r\"\\'ve\", \" have\", phrase)\n",
        "    phrase = re.sub(r\"\\'m\", \" am\", phrase)\n",
        "    return phrase\n",
        "\n",
        "text_100 = decontracted(text_100)\n",
        "print(text_100)\n",
        "print(\"=\"*50)"
      ],
      "execution_count": 0,
      "outputs": [
        {
          "output_type": "stream",
          "text": [
            "My Frenchbull is only given nylabone is to chew. He has had them since he was 7 weeks old. They are safe for him because he has a strong bite and they do not break off in large pieces that he could choke on. The Dinosaur Chew is perfect because it has so many places to hold and bite.  Dylabone is the only product I buy.\n",
            "==================================================\n"
          ],
          "name": "stdout"
        }
      ]
    },
    {
      "cell_type": "code",
      "metadata": {
        "colab_type": "code",
        "id": "lDxZo53Sy4GV",
        "outputId": "f2995ac6-1c1e-4fa0-a492-ef78ae091ca3",
        "colab": {
          "base_uri": "https://localhost:8080/",
          "height": 54
        }
      },
      "source": [
        "#remove words with numbers python: https://stackoverflow.com/a/18082370/4084039\n",
        "text_100 = re.sub(\"\\S*\\d\\S*\", \"\", text_100).strip()\n",
        "print(text_100)"
      ],
      "execution_count": 0,
      "outputs": [
        {
          "output_type": "stream",
          "text": [
            "My Frenchbull is only given nylabone is to chew. He has had them since he was  weeks old. They are safe for him because he has a strong bite and they do not break off in large pieces that he could choke on. The Dinosaur Chew is perfect because it has so many places to hold and bite.  Dylabone is the only product I buy.\n"
          ],
          "name": "stdout"
        }
      ]
    },
    {
      "cell_type": "code",
      "metadata": {
        "colab_type": "code",
        "id": "-0Ke6UW5y4GY",
        "outputId": "3a2bb0cb-6f4b-4773-d73b-5d1e348bfc7f",
        "colab": {
          "base_uri": "https://localhost:8080/",
          "height": 54
        }
      },
      "source": [
        "#remove spacial character: https://stackoverflow.com/a/5843547/4084039\n",
        "text_100 = re.sub('[^A-Za-z0-9]+', ' ', text_100)\n",
        "print(text_100)"
      ],
      "execution_count": 0,
      "outputs": [
        {
          "output_type": "stream",
          "text": [
            "My Frenchbull is only given nylabone is to chew He has had them since he was weeks old They are safe for him because he has a strong bite and they do not break off in large pieces that he could choke on The Dinosaur Chew is perfect because it has so many places to hold and bite Dylabone is the only product I buy \n"
          ],
          "name": "stdout"
        }
      ]
    },
    {
      "cell_type": "code",
      "metadata": {
        "colab_type": "code",
        "id": "-rroaTJgy4Ge",
        "colab": {}
      },
      "source": [
        "stopwords= set(['br', 'the', 'i', 'me', 'my', 'myself', 'we', 'our', 'ours', 'ourselves', 'you', \"you're\", \"you've\",\\\n",
        "            \"you'll\", \"you'd\", 'your', 'yours', 'yourself', 'yourselves', 'he', 'him', 'his', 'himself', \\\n",
        "            'she', \"she's\", 'her', 'hers', 'herself', 'it', \"it's\", 'its', 'itself', 'they', 'them', 'their',\\\n",
        "            'theirs', 'themselves', 'what', 'which', 'who', 'whom', 'this', 'that', \"that'll\", 'these', 'those', \\\n",
        "            'am', 'is', 'are', 'was', 'were', 'be', 'been', 'being', 'have', 'has', 'had', 'having', 'do', 'does', \\\n",
        "            'did', 'doing', 'a', 'an', 'the', 'and', 'but', 'if', 'or', 'because', 'as', 'until', 'while', 'of', \\\n",
        "            'at', 'by', 'for', 'with', 'about', 'against', 'between', 'into', 'through', 'during', 'before', 'after',\\\n",
        "            'above', 'below', 'to', 'from', 'up', 'down', 'in', 'out', 'on', 'off', 'over', 'under', 'again', 'further',\\\n",
        "            'then', 'once', 'here', 'there', 'when', 'where', 'why', 'how', 'all', 'any', 'both', 'each', 'few', 'more',\\\n",
        "            'most', 'other', 'some', 'such', 'only', 'own', 'same', 'so', 'than', 'too', 'very', \\\n",
        "            's', 't', 'can', 'will', 'just', 'don', \"don't\", 'should', \"should've\", 'now', 'd', 'll', 'm', 'o', 're', \\\n",
        "            've', 'y', 'ain', 'aren', \"aren't\", 'couldn', \"couldn't\", 'didn', \"didn't\", 'doesn', \"doesn't\", 'hadn',\\\n",
        "            \"hadn't\", 'hasn', \"hasn't\", 'haven', \"haven't\", 'isn', \"isn't\", 'ma', 'mightn', \"mightn't\", 'mustn',\\\n",
        "            \"mustn't\", 'needn', \"needn't\", 'shan', \"shan't\", 'shouldn', \"shouldn't\", 'wasn', \"wasn't\", 'weren', \"weren't\", \\\n",
        "            'won', \"won't\", 'wouldn', \"wouldn't\"])"
      ],
      "execution_count": 0,
      "outputs": []
    },
    {
      "cell_type": "code",
      "metadata": {
        "colab_type": "code",
        "id": "uPlBO57gy4Go",
        "outputId": "f25a5adb-b2eb-49e0-cc30-621932ee375a",
        "colab": {
          "base_uri": "https://localhost:8080/",
          "height": 34
        }
      },
      "source": [
        "# Pre processing all reviews\n",
        "from tqdm import tqdm\n",
        "preprocessed_reviews = []\n",
        "# tqdm is for printing the status bar\n",
        "for Text in tqdm(final_data['Text'].values):\n",
        "    Text = re.sub(r\"http\\S+\", \"\", Text)\n",
        "    Text = BeautifulSoup(Text, 'lxml').get_text()\n",
        "    Text = decontracted(Text)\n",
        "    Text = re.sub(\"\\S*\\d\\S*\", \"\", Text).strip()\n",
        "    Text = re.sub('[^A-Za-z]+', ' ', Text)\n",
        "    # https://gist.github.com/sebleier/554280\n",
        "    Text = ' '.join(e.lower() for e in Text.split() if e.lower() not in stopwords)\n",
        "    preprocessed_reviews.append(Text.strip())"
      ],
      "execution_count": 0,
      "outputs": [
        {
          "output_type": "stream",
          "text": [
            "100%|██████████| 87773/87773 [00:40<00:00, 2172.30it/s]\n"
          ],
          "name": "stderr"
        }
      ]
    },
    {
      "cell_type": "code",
      "metadata": {
        "colab_type": "code",
        "id": "4J21vVnNy4Gt",
        "outputId": "1b4e4172-41b8-48d1-8e06-526a3edca179",
        "colab": {
          "base_uri": "https://localhost:8080/",
          "height": 34
        }
      },
      "source": [
        "warnings.filterwarnings(\"ignore\")\n",
        "# Pre processing all review summary\n",
        "from tqdm import tqdm\n",
        "preprocessed_summary = []\n",
        "# tqdm is for printing the status bar\n",
        "for Text in tqdm(final_data['Summary'].values):\n",
        "    Text = re.sub(r\"http\\S+\", \"\", Text)\n",
        "    Text = BeautifulSoup(Text, 'lxml').get_text()\n",
        "    Text = decontracted(Text)\n",
        "    Text = re.sub(\"\\S*\\d\\S*\", \"\", Text).strip()\n",
        "    Text = re.sub('[^A-Za-z]+', ' ', Text)\n",
        "    # https://gist.github.com/sebleier/554280\n",
        "    Text = ' '.join(e.lower() for e in Text.split() if e.lower() not in stopwords)\n",
        "    preprocessed_summary.append(Text.strip())"
      ],
      "execution_count": 0,
      "outputs": [
        {
          "output_type": "stream",
          "text": [
            "100%|██████████| 87773/87773 [00:35<00:00, 2465.49it/s]\n"
          ],
          "name": "stderr"
        }
      ]
    },
    {
      "cell_type": "markdown",
      "metadata": {
        "colab_type": "text",
        "id": "AK-en-9vy4Gw"
      },
      "source": [
        "# Featurization"
      ]
    },
    {
      "cell_type": "markdown",
      "metadata": {
        "colab_type": "text",
        "id": "ELTfRtaSy4Gw"
      },
      "source": [
        "# BOW"
      ]
    },
    {
      "cell_type": "code",
      "metadata": {
        "colab_type": "code",
        "id": "opdu1jSsy4Gx",
        "outputId": "72c05e64-80ce-4678-94c7-213ae1212250",
        "colab": {
          "base_uri": "https://localhost:8080/",
          "height": 88
        }
      },
      "source": [
        "from sklearn.feature_extraction.text import CountVectorizer\n",
        "\n",
        "CountVect=CountVectorizer()\n",
        "CountVect.fit(preprocessed_reviews)\n",
        "print('first 10 features:',CountVect.get_feature_names()[0:10])\n",
        "\n",
        "trans_preprocessed_reviews=CountVect.transform(preprocessed_reviews)\n",
        "print(trans_preprocessed_reviews.shape)\n",
        "print('unique words in all reviews:',trans_preprocessed_reviews.shape[1])"
      ],
      "execution_count": 0,
      "outputs": [
        {
          "output_type": "stream",
          "text": [
            "first 10 features: ['aa', 'aaa', 'aaaa', 'aaaaa', 'aaaaaaaaaaaa', 'aaaaaaaaaaaaaaa', 'aaaaaaahhhhhh', 'aaaaaaarrrrrggghhh', 'aaaaaawwwwwwwwww', 'aaaaah']\n",
            "(87773, 54904)\n",
            "unique words in all reviews: 54904\n"
          ],
          "name": "stdout"
        }
      ]
    },
    {
      "cell_type": "markdown",
      "metadata": {
        "colab_type": "text",
        "id": "_pmqDYbUy4G3"
      },
      "source": [
        "# BI-Grams,n-grams"
      ]
    },
    {
      "cell_type": "code",
      "metadata": {
        "colab_type": "code",
        "id": "s0deZ2o_y4G4",
        "outputId": "87845bf3-e001-4416-bebc-17872a1651d3",
        "colab": {
          "base_uri": "https://localhost:8080/",
          "height": 68
        }
      },
      "source": [
        "#bi-gram, tri-gram and n-gram\n",
        "\n",
        "#removing stop words like \"not\" should be avoided before building n-grams\n",
        "# count_vect = CountVectorizer(ngram_range=(1,2))\n",
        "# please do read the CountVectorizer documentation http://scikit-learn.org/stable/modules/generated/sklearn.feature_extraction.text.CountVectorizer.html\n",
        "\n",
        "# you can choose these numebrs min_df=10, max_features=5000, of your choice\n",
        "count_vect = CountVectorizer(ngram_range=(1,2), min_df=10, max_features=5000)\n",
        "final_bigram_counts = count_vect.fit_transform(preprocessed_reviews)\n",
        "\n",
        "print(\"the type of count vectorizer \",type(final_bigram_counts))\n",
        "print(\"the shape of out text BOW vectorizer \",final_bigram_counts.get_shape())\n",
        "print(\"the number of unique words including both unigrams and bigrams \", final_bigram_counts.get_shape()[1])"
      ],
      "execution_count": 0,
      "outputs": [
        {
          "output_type": "stream",
          "text": [
            "the type of count vectorizer  <class 'scipy.sparse.csr.csr_matrix'>\n",
            "the shape of out text BOW vectorizer  (87773, 5000)\n",
            "the number of unique words including both unigrams and bigrams  5000\n"
          ],
          "name": "stdout"
        }
      ]
    },
    {
      "cell_type": "markdown",
      "metadata": {
        "colab_type": "text",
        "id": "fGfDwTsFy4G7"
      },
      "source": [
        "# Term Frequency-Inverse Document Frequency"
      ]
    },
    {
      "cell_type": "code",
      "metadata": {
        "colab_type": "code",
        "id": "h3lz-7kVy4G7",
        "outputId": "0a6b3109-2dfd-4680-95f1-38ea03ceddfc",
        "colab": {
          "base_uri": "https://localhost:8080/",
          "height": 88
        }
      },
      "source": [
        "from sklearn.feature_extraction.text import TfidfVectorizer\n",
        "\n",
        "tf_idf=TfidfVectorizer(ngram_range=(1,2), min_df=10)\n",
        "\n",
        "tf_idf.fit(preprocessed_reviews)\n",
        "print('first 10 features:',tf_idf.get_feature_names()[0:10])\n",
        "\n",
        "fianl_tfidf=tf_idf.transform(preprocessed_reviews)\n",
        "print(fianl_tfidf.shape)\n",
        "print('unique words in all reviews:',fianl_tfidf.shape[1])\n"
      ],
      "execution_count": 0,
      "outputs": [
        {
          "output_type": "stream",
          "text": [
            "first 10 features: ['aa', 'aafco', 'aback', 'abandon', 'abandoned', 'abdominal', 'ability', 'able', 'able add', 'able brew']\n",
            "(87773, 51709)\n",
            "unique words in all reviews: 51709\n"
          ],
          "name": "stdout"
        }
      ]
    },
    {
      "cell_type": "markdown",
      "metadata": {
        "colab_type": "text",
        "id": "PPGVsq0Yy4G-"
      },
      "source": [
        "# Word2Vec"
      ]
    },
    {
      "cell_type": "code",
      "metadata": {
        "colab_type": "code",
        "id": "xqVzIBY6y4G_",
        "outputId": "44d9f474-1725-40bb-9638-2ce7e48a66dd",
        "colab": {
          "base_uri": "https://localhost:8080/",
          "height": 54
        }
      },
      "source": [
        "from gensim.models import Word2Vec\n",
        "from gensim.models import KeyedVectors\n",
        "import pickle\n",
        "# Train your own Word2Vec model using your own text corpus\n",
        "i=0\n",
        "list_of_sents=[]\n",
        "for review in preprocessed_reviews:\n",
        "    list_of_sents.append(review.split())\n",
        "print(list_of_sents[0:10])"
      ],
      "execution_count": 0,
      "outputs": [
        {
          "output_type": "stream",
          "text": [
            "[['dogs', 'loves', 'chicken', 'product', 'china', 'wont', 'buying', 'anymore', 'hard', 'find', 'chicken', 'products', 'made', 'usa', 'one', 'isnt', 'bad', 'good', 'product', 'wont', 'take', 'chances', 'till', 'know', 'going', 'china', 'imports'], ['dogs', 'love', 'saw', 'pet', 'store', 'tag', 'attached', 'regarding', 'made', 'china', 'satisfied', 'safe'], ['infestation', 'fruitflies', 'literally', 'everywhere', 'flying', 'around', 'kitchen', 'bought', 'product', 'hoping', 'least', 'get', 'rid', 'weeks', 'fly', 'stuck', 'going', 'around', 'notepad', 'squishing', 'buggers', 'success', 'rate', 'day', 'clearly', 'product', 'useless', 'even', 'dabbed', 'red', 'wine', 'banana', 'top', 'column', 'week', 'really', 'attracted', 'red', 'wine', 'glass', 'still', 'nothing', 'get', 'stuck', 'actually', 'saw', 'second', 'fly', 'land', 'watched', 'flapped', 'wings', 'frantically', 'within', 'secs', 'unstuck', 'product', 'total', 'waste', 'money'], ['worst', 'product', 'gotten', 'long', 'time', 'would', 'rate', 'no', 'star', 'could', 'simply', 'not', 'catch', 'single', 'fly', 'bug', 'sort', 'went', 'hardware', 'store', 'bought', 'old', 'fashioned', 'spiral', 'fly', 'paper', 'effective', 'unuasual', 'influx', 'flys', 'house', 'fall', 'needed', 'something'], ['wish', 'would', 'read', 'reviews', 'making', 'purchase', 'basically', 'cardsotck', 'box', 'sticky', 'outside', 'pink', 'ish', 'things', 'look', 'like', 'entrances', 'trap', 'pictures', 'no', 'inside', 'trap', 'flies', 'stuck', 'outside', 'basically', 'fly', 'paper', 'horribly', 'horribly', 'horribly', 'overpriced', 'favor', 'get', 'fly', 'paper', 'fly', 'strips', 'yuck', 'factor', 'much', 'cheaper'], ['happy', 'item', 'many', 'flies', 'disturbing', 'kitchen', 'put', 'product', 'near', 'window', 'works', 'fantastically'], ['thing', 'item', 'trapped', 'fruit', 'flies', 'not', 'work', 'fly', 'trap', 'would', 'not', 'recommend'], ['nurturing', 'plant', 'work', 'well', 'decided', 'repot', 'larger', 'pot', 'must', 'gotten', 'funky', 'soil', 'soon', 'repotted', 'overrun', 'large', 'colony', 'small', 'flies', 'swatting', 'getting', 'bug', 'guts', 'hand', 'frequently', 'stopped', 'bothering', 'gross', 'exclamations', 'fact', 'city', 'san', 'francisco', 'compost', 'aggravated', 'situation', 'bought', 'one', 'nitfy', 'traps', 'set', 'plant', 'voila', 'instead', 'hands', 'getting', 'daily', 'dose', 'bug', 'guts', 'trap', 'lined', 'tiny', 'suckers', 'months', 'trap', 'pretty', 'much', 'covered', 'gross', 'part', 'need', 'order', 'another', 'one', 'not', 'sure', 'well', 'work', 'larger', 'inserts', 'works', 'really', 'well', 'tiny', 'annoying', 'flies'], ['placed', 'around', 'house', 'several', 'days', 'setup', 'fly', 'attracting', 'trap', 'vicinity', 'literally', 'watched', 'flies', 'avoid', 'trap', 'days', 'excited', 'see', 'one', 'lil', 'bugger', 'land', 'surface', 'disappointed', 'approached', 'examine', 'flew', 'away', 'paper', 'tacky', 'pressure', 'human', 'finger', 'applied', 'small', 'flies', 'hardly', 'trap'], ['please', 'not', 'waste', 'money', 'fly', 'trap', 'absolutely', 'useless', 'bought', 'two', 'product', 'kitchen', 'always', 'bbq', 'go', 'pool', 'fly', 'get', 'house', 'started', 'make', 'jokes', 'product', 'not', 'one', 'fly', 'far', 'gone', 'since', 'hang', 'weeks', 'ago', 'terrible', 'product']]\n"
          ],
          "name": "stdout"
        }
      ]
    },
    {
      "cell_type": "code",
      "metadata": {
        "colab_type": "code",
        "id": "JYlCZ7r0y4HB",
        "outputId": "d6786fe9-f59f-457e-9ba0-32eca69caee2",
        "colab": {
          "base_uri": "https://localhost:8080/",
          "height": 88
        }
      },
      "source": [
        "w2v_model=Word2Vec(list_of_sents,min_count=5,size=50, workers=4)\n",
        "print(w2v_model.wv.most_similar('great'))\n",
        "print('='*50)\n",
        "print(w2v_model.wv.most_similar('worst'))\n",
        " "
      ],
      "execution_count": 0,
      "outputs": [
        {
          "output_type": "stream",
          "text": [
            "[('fantastic', 0.8539525866508484), ('terrific', 0.827070951461792), ('awesome', 0.8237519264221191), ('good', 0.8080753087997437), ('excellent', 0.8049847483634949), ('wonderful', 0.7792403101921082), ('perfect', 0.7597090601921082), ('amazing', 0.7520787119865417), ('nice', 0.7039361000061035), ('decent', 0.6970195770263672)]\n",
            "==================================================\n",
            "[('greatest', 0.8155393004417419), ('tastiest', 0.7137234807014465), ('best', 0.697509765625), ('nastiest', 0.6800364255905151), ('disgusting', 0.6602122187614441), ('awful', 0.6285826563835144), ('horrible', 0.6254494786262512), ('terrible', 0.6251145005226135), ('nicest', 0.6174235343933105), ('coolest', 0.609459400177002)]\n"
          ],
          "name": "stdout"
        }
      ]
    },
    {
      "cell_type": "code",
      "metadata": {
        "colab_type": "code",
        "id": "w4tLlFEOy4HE",
        "outputId": "2a9c733f-709f-4146-91ac-f6e316d85281",
        "colab": {
          "base_uri": "https://localhost:8080/",
          "height": 71
        }
      },
      "source": [
        "w2v_words = list(w2v_model.wv.vocab)\n",
        "print(\"number of words that occured minimum 5 times \",len(w2v_words))\n",
        "print(\"sample words \", w2v_words[0:50])"
      ],
      "execution_count": 0,
      "outputs": [
        {
          "output_type": "stream",
          "text": [
            "number of words that occured minimum 5 times  17386\n",
            "sample words  ['dogs', 'loves', 'chicken', 'product', 'china', 'wont', 'buying', 'anymore', 'hard', 'find', 'products', 'made', 'usa', 'one', 'isnt', 'bad', 'good', 'take', 'chances', 'till', 'know', 'going', 'imports', 'love', 'saw', 'pet', 'store', 'tag', 'attached', 'regarding', 'satisfied', 'safe', 'infestation', 'literally', 'everywhere', 'flying', 'around', 'kitchen', 'bought', 'hoping', 'least', 'get', 'rid', 'weeks', 'fly', 'stuck', 'squishing', 'buggers', 'success', 'rate']\n"
          ],
          "name": "stdout"
        }
      ]
    },
    {
      "cell_type": "markdown",
      "metadata": {
        "colab_type": "text",
        "id": "S82xR30Jy4HJ"
      },
      "source": [
        "# AVG Word2Vec"
      ]
    },
    {
      "cell_type": "code",
      "metadata": {
        "colab_type": "code",
        "id": "9AeXEakDy4HK",
        "outputId": "2765b663-f21f-4191-86d6-4d9a6de83d99",
        "colab": {
          "base_uri": "https://localhost:8080/",
          "height": 289
        }
      },
      "source": [
        "# average Word2Vec\n",
        "# compute average word2vec for each review.\n",
        "sent_vectors = []; # the avg-w2v for each sentence/review is stored in this list\n",
        "for sent in tqdm(list_of_sents): # for each review/sentence\n",
        "    sent_vec = np.zeros(50) # as word vectors are of zero length 50, you might need to change this to 300 if you use google's w2v\n",
        "    cnt_words =0; # num of words with a valid vector in the sentence/review\n",
        "    for word in sent: # for each word in a review/sentence\n",
        "        if word in w2v_words:\n",
        "            vec = w2v_model.wv[word]\n",
        "            sent_vec += vec\n",
        "            cnt_words += 1\n",
        "    if cnt_words != 0:\n",
        "        sent_vec /= cnt_words\n",
        "    sent_vectors.append(sent_vec)\n",
        "print(len(sent_vectors))\n",
        "print(len(sent_vectors[0]))\n",
        "print(sent_vectors[0])"
      ],
      "execution_count": 0,
      "outputs": [
        {
          "output_type": "stream",
          "text": [
            "100%|██████████| 87773/87773 [03:24<00:00, 429.93it/s]"
          ],
          "name": "stderr"
        },
        {
          "output_type": "stream",
          "text": [
            "87773\n",
            "50\n",
            "[ 7.10556955e-01 -1.95897364e-01  4.30784794e-01 -8.13494089e-02\n",
            "  5.88526800e-01  1.90860642e-01 -1.94180813e-01 -2.25011320e-01\n",
            "  4.54657144e-01  6.63545091e-01 -5.47835244e-01  1.30263964e-01\n",
            " -2.20774102e-01  2.86687184e-01  1.50631756e-01  3.85990628e-01\n",
            "  4.49008666e-01  4.08994172e-04 -4.58771055e-01  2.42892876e-01\n",
            " -1.96974628e-01  2.54103302e-01 -1.02386285e+00 -3.79533884e-01\n",
            " -3.35849746e-01  2.15731689e-01 -3.70422408e-01 -7.40643337e-02\n",
            "  1.20696732e-01  7.26868336e-02  2.09818348e-01 -3.90045919e-01\n",
            "  2.54681229e-01  4.81612501e-01  7.05877882e-01  1.21761480e+00\n",
            "  7.54526208e-01  6.70262610e-01  7.14329465e-01 -5.06279303e-01\n",
            " -1.28553496e-03  1.12986525e+00 -4.90623756e-01 -5.35284908e-01\n",
            "  6.88582748e-01 -1.25122487e-01 -1.42176345e-01 -1.85246954e-01\n",
            " -1.16011259e-01 -6.41898552e-01]\n"
          ],
          "name": "stdout"
        },
        {
          "output_type": "stream",
          "text": [
            "\n"
          ],
          "name": "stderr"
        }
      ]
    },
    {
      "cell_type": "markdown",
      "metadata": {
        "colab_type": "text",
        "id": "pgMjnsQxy4HO"
      },
      "source": [
        "# tf-idf weighted word2vec"
      ]
    },
    {
      "cell_type": "code",
      "metadata": {
        "colab_type": "code",
        "id": "1Vc8W64iy4HP",
        "colab": {}
      },
      "source": [
        "# S = [\"abc def pqr\", \"def def def abc\", \"pqr pqr def\"]\n",
        "model = TfidfVectorizer()\n",
        "tf_idf_matrix = model.fit_transform(preprocessed_reviews)\n",
        "# we are converting a dictionary with word as a key, and the idf as a value\n",
        "dictionary = dict(zip(model.get_feature_names(), list(model.idf_)))"
      ],
      "execution_count": 0,
      "outputs": []
    },
    {
      "cell_type": "code",
      "metadata": {
        "colab_type": "code",
        "id": "cgZw5ZcYy4HR",
        "outputId": "6a9fd479-7c9e-43aa-a2e9-43f9e37e58f2",
        "colab": {}
      },
      "source": [
        "# TF-IDF weighted Word2Vec\n",
        "tfidf_feat = model.get_feature_names() # tfidf words/col-names\n",
        "# final_tf_idf is the sparse matrix with row= sentence, col=word and cell_val = tfidf\n",
        "\n",
        "tfidf_sent_vectors = []; # the tfidf-w2v for each sentence/review is stored in this list\n",
        "for sent in tqdm(list_of_sents): # for each review/sentence \n",
        "    sent_vec = np.zeros(50) # as word vectors are of zero length\n",
        "    weight_sum =0; # num of words with a valid vector in the sentence/review\n",
        "    for word in sent: # for each word in a review/sentence\n",
        "        if word in w2v_words and word in tfidf_feat:\n",
        "            #K-NN-Brute-Force-on-BOWec = w2v_model.wv[word]\n",
        "            # dictionary[word] = idf value of word in whole courpus\n",
        "            # sent.count(word) = tf valeus of word in this review\n",
        "            tf_idf = dictionary[word]*(sent.count(word)/len(sent))\n",
        "            sent_vec += (vec * tf_idf)\n",
        "            weight_sum += tf_idf\n",
        "    if weight_sum != 0:\n",
        "        sent_vec /= weight_sum\n",
        "    tfidf_sent_vectors.append(sent_vec)"
      ],
      "execution_count": 0,
      "outputs": [
        {
          "output_type": "stream",
          "text": [
            "100%|██████████████████████████████████████████████████████████████████████████| 87773/87773 [1:16:42<00:00, 19.07it/s]\n"
          ],
          "name": "stderr"
        }
      ]
    },
    {
      "cell_type": "markdown",
      "metadata": {
        "colab_type": "text",
        "id": "uJ0gRKkvy4HT"
      },
      "source": [
        "# Decision Trees on BOW"
      ]
    },
    {
      "cell_type": "code",
      "metadata": {
        "colab_type": "code",
        "id": "wfwUdcfuy4HU",
        "colab": {}
      },
      "source": [
        "from sklearn.tree import DecisionTreeClassifier\n",
        "from sklearn.model_selection import train_test_split\n",
        "from sklearn.feature_extraction.text import CountVectorizer\n",
        "from sklearn.metrics  import  roc_auc_score\n",
        "from sklearn.preprocessing import StandardScaler\n",
        "\n",
        "X=preprocessed_reviews\n",
        "y=np.array(final_data['Score'])\n",
        "\n",
        "X_1, X_test, y_1, y_test = train_test_split(X, y, test_size=0.3, random_state=0)\n",
        "X_train, X_cv, y_train, y_cv = train_test_split(X_1, y_1, test_size=0.3)\n",
        "\n",
        "text_model=CountVectorizer()\n",
        "\n",
        "X_train_bow=text_model.fit_transform(X_train)\n",
        "X_cv_bow=text_model.transform(X_cv)\n",
        "X_test_bow=text_model.transform(X_test)\n",
        "\n",
        "scalar = StandardScaler(with_mean=False)\n",
        "X_train_bow = scalar.fit_transform(X_train_bow)\n",
        "X_test_bow= scalar.transform(X_test_bow)\n",
        "X_cv_bow=scalar.transform(X_cv_bow)\n",
        "\n",
        "auc_cv=[]\n",
        "auc_train=[]\n",
        "\n",
        "depths=[1,5,10,50,100,500,1000]\n",
        "best_m=[]\n",
        "min_samples=[2,5,10,15,100,500]\n",
        "\n",
        "for d in depths:\n",
        "    ms,temp=0,0\n",
        "    for m in min_samples:\n",
        "      model=DecisionTreeClassifier(max_depth=d,min_samples_split=m)\n",
        "      model.fit(X_train_bow, y_train)\n",
        "      pred = model.predict_proba(X_cv_bow)[:,1]\n",
        "      roc=roc_auc_score(y_cv,pred)\n",
        "      if(roc>temp):\n",
        "        temp=roc\n",
        "        ms=m\n",
        "    model=DecisionTreeClassifier(max_depth=d,min_samples_split=ms)\n",
        "    model.fit(X_train_bow,y_train)\n",
        "    pred=model.predict_proba(X_cv_bow)[:,1]\n",
        "    auc_cv.append(roc_auc_score(y_cv,pred))\n",
        "    best_m.append(ms)\n",
        "    pred1=model.predict_proba(X_train_bow)[:,1]\n",
        "    auc_train.append(roc_auc_score(y_train,pred1))  "
      ],
      "execution_count": 0,
      "outputs": []
    },
    {
      "cell_type": "code",
      "metadata": {
        "colab_type": "code",
        "id": "aprr07xfCqmg",
        "outputId": "843e0f4e-f330-46f8-a98e-8d9ab0e88e99",
        "colab": {
          "base_uri": "https://localhost:8080/",
          "height": 329
        }
      },
      "source": [
        "optimal_depth= depths[auc_cv.index(max(auc_cv))]\n",
        "optimal_min_samples_split=best_m[auc_cv.index(max(auc_cv))]\n",
        "\n",
        "plt.plot(depths, auc_train, label='AUC train')\n",
        "plt.plot(depths, auc_cv, label='AUC CV')\n",
        "plt.title('AUC vs depth')\n",
        "plt.xlabel('depth')\n",
        "plt.ylabel('AUC')\n",
        "plt.legend()\n",
        "plt.show()\n",
        "\n",
        "print('optimal depth for which auc is maximum : ',optimal_depth)\n",
        "print('optimal minimum samples split for which auc is maximum : ',optimal_min_samples_split)"
      ],
      "execution_count": 0,
      "outputs": [
        {
          "output_type": "display_data",
          "data": {
            "image/png": "[encoded data removed]",
            "text/plain": [
              "<Figure size 432x288 with 1 Axes>"
            ]
          },
          "metadata": {
            "tags": []
          }
        },
        {
          "output_type": "stream",
          "text": [
            "optimal depth for which auc is maximum :  50\n",
            "optimal minimum samples split for which auc is maximum :  500\n"
          ],
          "name": "stdout"
        }
      ]
    },
    {
      "cell_type": "code",
      "metadata": {
        "id": "g4oY2jnD6ANy",
        "colab_type": "code",
        "colab": {}
      },
      "source": [
        "#training our model for max_depth=50,min_samples_split=500\n",
        "#ROC curve\n",
        "from sklearn.metrics  import roc_curve\n",
        "\n",
        "model=DecisionTreeClassifier(max_depth=50,min_samples_split=500)\n",
        "model.fit(X_train_bow,y_train)\n",
        "pred=model.predict_proba(X_test_bow)[:,1]\n",
        "fpr1, tpr1, thresholds1 = roc_curve(y_test, pred)\n",
        "pred1=model.predict_proba(X_train_bow)[:,1]\n",
        "fpr2,tpr2,thresholds2=roc_curve(y_train,pred1)"
      ],
      "execution_count": 0,
      "outputs": []
    },
    {
      "cell_type": "code",
      "metadata": {
        "id": "5BbhXoal6Ah_",
        "colab_type": "code",
        "outputId": "d2b59990-c252-44c8-eba4-a92900aca7cb",
        "colab": {
          "base_uri": "https://localhost:8080/",
          "height": 295
        }
      },
      "source": [
        "plt.plot(fpr1, tpr1, label='Test ROC ,auc='+str(roc_auc_score(y_test,pred)))\n",
        "plt.plot(fpr2, tpr2, label='Train ROC ,auc='+str(roc_auc_score(y_train,pred1)))\n",
        "plt.title('ROC')\n",
        "plt.xlabel('FPR')\n",
        "plt.ylabel('TPR')\n",
        "plt.legend()\n",
        "plt.show()"
      ],
      "execution_count": 0,
      "outputs": [
        {
          "output_type": "display_data",
          "data": {
            "image/png": "[encoded data removed]",
            "text/plain": [
              "<Figure size 432x288 with 1 Axes>"
            ]
          },
          "metadata": {
            "tags": []
          }
        }
      ]
    },
    {
      "cell_type": "code",
      "metadata": {
        "colab_type": "code",
        "id": "rZ7w4zV8y4Hb",
        "outputId": "d374e86e-b901-4348-af5c-2005640e045f",
        "colab": {
          "base_uri": "https://localhost:8080/",
          "height": 295
        }
      },
      "source": [
        "from sklearn.metrics  import  confusion_matrix\n",
        "pred=model.predict(X_test_bow)\n",
        "con_mat=confusion_matrix(y_test,pred)\n",
        "class_label = [\"0\", \"1\"]\n",
        "df = pd.DataFrame(con_mat, index = class_label, columns = class_label)\n",
        "sns.heatmap(df, annot = True,fmt=\"d\")\n",
        "plt.title(\"Confusion Matrix\")\n",
        "plt.xlabel(\"Predicted Label\")\n",
        "plt.ylabel(\"True Label\")\n",
        "plt.show()"
      ],
      "execution_count": 0,
      "outputs": [
        {
          "output_type": "display_data",
          "data": {
            "image/png": "[encoded data removed]",
            "text/plain": [
              "<Figure size 432x288 with 2 Axes>"
            ]
          },
          "metadata": {
            "tags": []
          }
        }
      ]
    },
    {
      "cell_type": "code",
      "metadata": {
        "id": "cNojJij2_U1f",
        "colab_type": "code",
        "outputId": "fd139788-2d4f-407d-9d3c-ec22a378439b",
        "colab": {
          "base_uri": "https://localhost:8080/",
          "height": 357
        }
      },
      "source": [
        "features = text_model.get_feature_names()\n",
        "\n",
        "weights=model.feature_importances_\n",
        "weights=np.argsort(weights)[::-1]\n",
        "for i in weights[0:20]:\n",
        "    print(features[i])"
      ],
      "execution_count": 0,
      "outputs": [
        {
          "output_type": "stream",
          "text": [
            "not\n",
            "great\n",
            "money\n",
            "disappointed\n",
            "worst\n",
            "horrible\n",
            "best\n",
            "return\n",
            "awful\n",
            "delicious\n",
            "love\n",
            "terrible\n",
            "good\n",
            "nice\n",
            "perfect\n",
            "loves\n",
            "bad\n",
            "disappointing\n",
            "waste\n",
            "excellent\n"
          ],
          "name": "stdout"
        }
      ]
    },
    {
      "cell_type": "code",
      "metadata": {
        "colab_type": "code",
        "id": "oVg3KvY6y4He",
        "colab": {}
      },
      "source": [
        "from sklearn.tree import export_graphviz\n",
        "target = ['negative','positive']\n",
        "export_graphviz(model,out_file='bow.dot',class_names=target,rounded = True, proportion = False,max_depth=3,feature_names=features)"
      ],
      "execution_count": 0,
      "outputs": []
    },
    {
      "cell_type": "markdown",
      "metadata": {
        "colab_type": "text",
        "id": "3bwpw2nUGs6H"
      },
      "source": [
        "# Decision Trees on on tf-idf"
      ]
    },
    {
      "cell_type": "code",
      "metadata": {
        "colab_type": "code",
        "id": "qaUt6Pxuy4Hg",
        "colab": {}
      },
      "source": [
        "from sklearn.feature_extraction.text import TfidfVectorizer\n",
        "from sklearn.preprocessing import StandardScaler\n",
        "\n",
        "X=preprocessed_reviews\n",
        "y=np.array(final_data['Score'])\n",
        "\n",
        "tf_idf = TfidfVectorizer(ngram_range=(1,2), min_df=10)\n",
        "\n",
        "X_1, X_test, y_1, y_test = train_test_split(X, y, test_size=0.3, random_state=0)\n",
        "X_train, X_cv, y_train, y_cv = train_test_split(X_1, y_1, test_size=0.3)\n",
        "\n",
        "X_train_tf_idf=tf_idf.fit_transform(X_train)\n",
        "X_cv_tf_idf=tf_idf.transform(X_cv)\n",
        "X_test_tf_idf=tf_idf.transform(X_test)\n",
        "\n",
        "scalar=StandardScaler(with_mean=False)\n",
        "\n",
        "X_train_tf_idf=scalar.fit_transform(X_train_tf_idf)\n",
        "X_cv_tf_idf=scalar.transform(X_cv_tf_idf)\n",
        "X_test_tf_idf=scalar.transform(X_test_tf_idf)\n",
        "\n",
        "auc_cv=[]\n",
        "auc_train=[]\n",
        "depths=[1,5,10,50,100,500,1000]\n",
        "best_m=[]\n",
        "min_samples=[2,5,10,15,100,500]\n",
        "\n",
        "for d in depths:\n",
        "    ms,temp=0,0\n",
        "    for m in min_samples:\n",
        "      model=DecisionTreeClassifier(max_depth=d,min_samples_split=m)\n",
        "      model.fit(X_train_tf_idf, y_train)\n",
        "      pred = model.predict_proba(X_cv_tf_idf)[:,1]\n",
        "      roc=roc_auc_score(y_cv,pred)\n",
        "      if(roc>temp):\n",
        "        temp=roc\n",
        "        ms=m\n",
        "    model=DecisionTreeClassifier(max_depth=d,min_samples_split=ms)\n",
        "    model.fit(X_train_tf_idf,y_train)\n",
        "    pred=model.predict_proba(X_cv_tf_idf)[:,1]\n",
        "    auc_cv.append(roc_auc_score(y_cv,pred))\n",
        "    best_m.append(ms)\n",
        "    pred1=model.predict_proba(X_train_tf_idf)[:,1]\n",
        "    auc_train.append(roc_auc_score(y_train,pred1))"
      ],
      "execution_count": 0,
      "outputs": []
    },
    {
      "cell_type": "code",
      "metadata": {
        "id": "ySRPvE71wH1x",
        "colab_type": "code",
        "outputId": "5e8bf9a4-b4e4-4682-ed67-2903c3284607",
        "colab": {
          "base_uri": "https://localhost:8080/",
          "height": 329
        }
      },
      "source": [
        "optimal_depth= depths[auc_cv.index(max(auc_cv))]\n",
        "optimal_min_samples_split=best_m[auc_cv.index(max(auc_cv))]\n",
        "\n",
        "plt.plot(depths, auc_train, label='AUC train')\n",
        "plt.plot(depths, auc_cv, label='AUC CV')\n",
        "plt.title('AUC vs depth')\n",
        "plt.xlabel('depth')\n",
        "plt.ylabel('AUC')\n",
        "plt.legend()\n",
        "plt.show()\n",
        "\n",
        "print('optimal depth for which auc is maximum : ',optimal_depth)\n",
        "print('optimal minimum samples split for which auc is maximum : ',optimal_min_samples_split)"
      ],
      "execution_count": 0,
      "outputs": [
        {
          "output_type": "display_data",
          "data": {
            "image/png": "[encoded data removed]",
            "text/plain": [
              "<Figure size 432x288 with 1 Axes>"
            ]
          },
          "metadata": {
            "tags": []
          }
        },
        {
          "output_type": "stream",
          "text": [
            "optimal depth for which auc is maximum :  50\n",
            "optimal minimum samples split for which auc is maximum :  500\n"
          ],
          "name": "stdout"
        }
      ]
    },
    {
      "cell_type": "code",
      "metadata": {
        "colab_type": "code",
        "id": "Qfb45ne5y4Hl",
        "colab": {}
      },
      "source": [
        "#training our model for max_depth=50,min_samples_split=500\n",
        "#ROC curve\n",
        "from sklearn.metrics  import roc_curve\n",
        "\n",
        "model=DecisionTreeClassifier(max_depth=50,min_samples_split=500)\n",
        "model.fit(X_train_tf_idf,y_train)\n",
        "pred=model.predict_proba(X_test_tf_idf)[:,1]\n",
        "fpr1, tpr1, thresholds1 = roc_curve(y_test, pred)\n",
        "pred1=model.predict_proba(X_train_tf_idf)[:,1]\n",
        "fpr2,tpr2,thresholds2=roc_curve(y_train,pred1)"
      ],
      "execution_count": 0,
      "outputs": []
    },
    {
      "cell_type": "code",
      "metadata": {
        "colab_type": "code",
        "id": "vne7jExRS1SD",
        "outputId": "69167360-4a27-41e1-90ef-862b3828605b",
        "colab": {
          "base_uri": "https://localhost:8080/",
          "height": 295
        }
      },
      "source": [
        "plt.plot(fpr1, tpr1, label='Test ROC ,auc='+str(roc_auc_score(y_test,pred)))\n",
        "plt.plot(fpr2, tpr2, label='Train ROC ,auc='+str(roc_auc_score(y_train,pred1)))\n",
        "plt.title('ROC')\n",
        "plt.xlabel('FPR')\n",
        "plt.ylabel('TPR')\n",
        "plt.legend()\n",
        "plt.show()"
      ],
      "execution_count": 0,
      "outputs": [
        {
          "output_type": "display_data",
          "data": {
            "image/png": "[encoded data removed]",
            "text/plain": [
              "<Figure size 432x288 with 1 Axes>"
            ]
          },
          "metadata": {
            "tags": []
          }
        }
      ]
    },
    {
      "cell_type": "code",
      "metadata": {
        "colab_type": "code",
        "id": "JRyyeGPaS1sm",
        "outputId": "16a5f2f4-c489-44ae-8141-b027d55973f4",
        "colab": {
          "base_uri": "https://localhost:8080/",
          "height": 295
        }
      },
      "source": [
        "pred=model.predict(X_test_tf_idf)\n",
        "con_mat=confusion_matrix(y_test,pred)\n",
        "class_label = [\"0\", \"1\"]\n",
        "df = pd.DataFrame(con_mat, index = class_label, columns = class_label)\n",
        "sns.heatmap(df, annot = True,fmt=\"d\")\n",
        "plt.title(\"Confusion Matrix\")\n",
        "plt.xlabel(\"Predicted Label\")\n",
        "plt.ylabel(\"True Label\")\n",
        "plt.show()"
      ],
      "execution_count": 0,
      "outputs": [
        {
          "output_type": "display_data",
          "data": {
            "image/png": "[encoded data removed]",
            "text/plain": [
              "<Figure size 432x288 with 2 Axes>"
            ]
          },
          "metadata": {
            "tags": []
          }
        }
      ]
    },
    {
      "cell_type": "code",
      "metadata": {
        "id": "MGAAuH4fy7GO",
        "colab_type": "code",
        "outputId": "beb5463a-dd3b-4b02-cff0-48988bd17001",
        "colab": {
          "base_uri": "https://localhost:8080/",
          "height": 357
        }
      },
      "source": [
        "features = tf_idf.get_feature_names()\n",
        "\n",
        "weights=model.feature_importances_\n",
        "weights=np.argsort(weights)[::-1]\n",
        "for i in weights[0:20]:\n",
        "    print(features[i])"
      ],
      "execution_count": 0,
      "outputs": [
        {
          "output_type": "stream",
          "text": [
            "not\n",
            "great\n",
            "disappointed\n",
            "worst\n",
            "not buy\n",
            "awful\n",
            "terrible\n",
            "money\n",
            "bad\n",
            "return\n",
            "not worth\n",
            "not recommend\n",
            "horrible\n",
            "disappointment\n",
            "disappointing\n",
            "waste money\n",
            "threw\n",
            "delicious\n",
            "love\n",
            "refund\n"
          ],
          "name": "stdout"
        }
      ]
    },
    {
      "cell_type": "code",
      "metadata": {
        "id": "LeeM3AKUwe2f",
        "colab_type": "code",
        "colab": {}
      },
      "source": [
        "from sklearn.tree import export_graphviz\n",
        "target = ['negative','positive']\n",
        "export_graphviz(model,out_file='tf_idf.dot',class_names=target,rounded = True, proportion = False,max_depth=3,feature_names=features)"
      ],
      "execution_count": 0,
      "outputs": []
    },
    {
      "cell_type": "markdown",
      "metadata": {
        "colab_type": "text",
        "id": "QCaXJvsoUBNE"
      },
      "source": [
        "# Decision Tree on AvgWord2Vec"
      ]
    },
    {
      "cell_type": "code",
      "metadata": {
        "colab_type": "code",
        "id": "W6Ppj61oUBpS",
        "outputId": "fc23555f-1727-4425-ccdb-bdca1eda63d9",
        "colab": {
          "base_uri": "https://localhost:8080/",
          "height": 170
        }
      },
      "source": [
        "X=preprocessed_reviews\n",
        "y=np.array(final_data['Score'])\n",
        "\n",
        "tf_idf = TfidfVectorizer(ngram_range=(1,2), min_df=10)\n",
        "\n",
        "X_1, X_test, y_1, y_test = train_test_split(X, y, test_size=0.3, random_state=0)\n",
        "X_train, X_cv, y_train, y_cv = train_test_split(X_1, y_1, test_size=0.3)\n",
        "\n",
        "#word2vec for train\n",
        "list_of_sentances_train=[]\n",
        "for sentance in X_train:\n",
        "    list_of_sentances_train.append(sentance.split())\n",
        "w2v_model=Word2Vec(list_of_sentances_train,min_count=5,size=50, workers=4)\n",
        "w2v_words = list(w2v_model.wv.vocab)\n",
        "sent_vectors_train = []; \n",
        "for sent in tqdm(list_of_sentances_train):\n",
        "    sent_vec = np.zeros(50) \n",
        "    cnt_words =0;\n",
        "    for word in sent: \n",
        "        if word in w2v_words:\n",
        "            vec = w2v_model.wv[word]\n",
        "            sent_vec += vec\n",
        "            cnt_words += 1\n",
        "    if cnt_words != 0:\n",
        "        sent_vec /= cnt_words\n",
        "    sent_vectors_train.append(sent_vec)\n",
        "print(len(sent_vectors_train))\n",
        "print(len(sent_vectors_train[0]))\n",
        "\n",
        "#for cross validation\n",
        "list_of_sentances_cv=[]\n",
        "for sentance in X_cv:\n",
        "    list_of_sentances_cv.append(sentance.split())\n",
        "sent_vectors_cv = []; \n",
        "for sent in tqdm(list_of_sentances_cv):\n",
        "    sent_vec = np.zeros(50) \n",
        "    cnt_words =0;\n",
        "    for word in sent: \n",
        "        if word in w2v_words:\n",
        "            vec = w2v_model.wv[word]\n",
        "            sent_vec += vec\n",
        "            cnt_words += 1\n",
        "    if cnt_words != 0:\n",
        "        sent_vec /= cnt_words\n",
        "    sent_vectors_cv.append(sent_vec)\n",
        "print(len(sent_vectors_cv))\n",
        "print(len(sent_vectors_cv[0]))   \n",
        "\n",
        "#for test data\n",
        "list_of_sentances_test=[]\n",
        "for sentance in X_test:\n",
        "    list_of_sentances_test.append(sentance.split())\n",
        "sent_vectors_test = []; \n",
        "for sent in tqdm(list_of_sentances_test):\n",
        "    sent_vec = np.zeros(50) \n",
        "    cnt_words =0;\n",
        "    for word in sent: \n",
        "        if word in w2v_words:\n",
        "            vec = w2v_model.wv[word]\n",
        "            sent_vec += vec\n",
        "            cnt_words += 1\n",
        "    if cnt_words != 0:\n",
        "        sent_vec /= cnt_words\n",
        "    sent_vectors_test.append(sent_vec)\n",
        "print(len(sent_vectors_test))\n",
        "print(len(sent_vectors_test[0]))\n"
      ],
      "execution_count": 0,
      "outputs": [
        {
          "output_type": "stream",
          "text": [
            "100%|██████████| 43008/43008 [01:15<00:00, 568.93it/s]\n",
            "  0%|          | 54/18433 [00:00<00:34, 534.73it/s]"
          ],
          "name": "stderr"
        },
        {
          "output_type": "stream",
          "text": [
            "43008\n",
            "50\n"
          ],
          "name": "stdout"
        },
        {
          "output_type": "stream",
          "text": [
            "100%|██████████| 18433/18433 [00:32<00:00, 567.55it/s]\n",
            "  0%|          | 0/26332 [00:00<?, ?it/s]"
          ],
          "name": "stderr"
        },
        {
          "output_type": "stream",
          "text": [
            "18433\n",
            "50\n"
          ],
          "name": "stdout"
        },
        {
          "output_type": "stream",
          "text": [
            "100%|██████████| 26332/26332 [00:46<00:00, 566.73it/s]"
          ],
          "name": "stderr"
        },
        {
          "output_type": "stream",
          "text": [
            "26332\n",
            "50\n"
          ],
          "name": "stdout"
        },
        {
          "output_type": "stream",
          "text": [
            "\n"
          ],
          "name": "stderr"
        }
      ]
    },
    {
      "cell_type": "code",
      "metadata": {
        "colab_type": "code",
        "id": "tWz8-BSzUEwu",
        "colab": {}
      },
      "source": [
        "#applying DT on avg W2Vec\n",
        "X_train_avgw2v=sent_vectors_train\n",
        "X_cv_avgw2v=sent_vectors_cv\n",
        "X_test_avgw2v=sent_vectors_test\n",
        "\n",
        "\n",
        "auc_cv=[]\n",
        "auc_train=[]\n",
        "depths=[1,5,10,50,100,500,1000]\n",
        "best_m=[]\n",
        "min_samples=[2,5,10,15,100,500]\n",
        "\n",
        "for d in depths:\n",
        "    ms,temp=0,0\n",
        "    for m in min_samples:\n",
        "      model=DecisionTreeClassifier(max_depth=d,min_samples_split=m)\n",
        "      model.fit(X_train_avgw2v, y_train)\n",
        "      pred = model.predict_proba(X_cv_avgw2v)[:,1]\n",
        "      roc=roc_auc_score(y_cv,pred)\n",
        "      if(roc>temp):\n",
        "        temp=roc\n",
        "        ms=m\n",
        "    model=DecisionTreeClassifier(max_depth=d,min_samples_split=ms)\n",
        "    model.fit(X_train_avgw2v,y_train)\n",
        "    pred=model.predict_proba(X_cv_avgw2v)[:,1]\n",
        "    auc_cv.append(roc_auc_score(y_cv,pred))\n",
        "    best_m.append(ms)\n",
        "    pred1=model.predict_proba(X_train_avgw2v)[:,1]\n",
        "    auc_train.append(roc_auc_score(y_train,pred1))"
      ],
      "execution_count": 0,
      "outputs": []
    },
    {
      "cell_type": "code",
      "metadata": {
        "colab_type": "code",
        "id": "E46Hz9zxVmk7",
        "outputId": "c0a9b127-7073-4dec-eb6e-f1d51de3cec2",
        "colab": {
          "base_uri": "https://localhost:8080/",
          "height": 329
        }
      },
      "source": [
        "optimal_depth= depths[auc_cv.index(max(auc_cv))]\n",
        "optimal_min_samples_split=best_m[auc_cv.index(max(auc_cv))]\n",
        "\n",
        "plt.plot(depths, auc_train, label='AUC train')\n",
        "plt.plot(depths, auc_cv, label='AUC CV')\n",
        "plt.title('AUC vs depth')\n",
        "plt.xlabel('depth')\n",
        "plt.ylabel('AUC')\n",
        "plt.legend()\n",
        "plt.show()\n",
        "\n",
        "print('optimal depth for which auc is maximum : ',optimal_depth)\n",
        "print('optimal minimum samples split for which auc is maximum : ',optimal_min_samples_split)"
      ],
      "execution_count": 0,
      "outputs": [
        {
          "output_type": "display_data",
          "data": {
            "image/png": "[encoded data removed]",
            "text/plain": [
              "<Figure size 432x288 with 1 Axes>"
            ]
          },
          "metadata": {
            "tags": []
          }
        },
        {
          "output_type": "stream",
          "text": [
            "optimal depth for which auc is maximum :  10\n",
            "optimal minimum samples split for which auc is maximum :  500\n"
          ],
          "name": "stdout"
        }
      ]
    },
    {
      "cell_type": "code",
      "metadata": {
        "colab_type": "code",
        "id": "WPd46Z0gVm11",
        "colab": {}
      },
      "source": [
        "#training our model for max_depth=50,min_samples_split=500\n",
        "#ROC curve\n",
        "from sklearn.metrics  import roc_curve\n",
        "\n",
        "model=DecisionTreeClassifier(max_depth=10,min_samples_split=500)\n",
        "model.fit(X_train_avgw2v,y_train)\n",
        "pred=model.predict_proba(X_test_avgw2v)[:,1]\n",
        "fpr1, tpr1, thresholds1 = roc_curve(y_test, pred)\n",
        "pred1=model.predict_proba(X_train_avgw2v)[:,1]\n",
        "fpr2,tpr2,thresholds2=roc_curve(y_train,pred1)"
      ],
      "execution_count": 0,
      "outputs": []
    },
    {
      "cell_type": "code",
      "metadata": {
        "colab_type": "code",
        "id": "O6GK6HIhVofE",
        "outputId": "0f86f8de-f393-4b9d-db12-35f255e485a4",
        "colab": {
          "base_uri": "https://localhost:8080/",
          "height": 295
        }
      },
      "source": [
        "plt.plot(fpr1, tpr1, label='Test ROC ,auc='+str(roc_auc_score(y_test,pred)))\n",
        "plt.plot(fpr2, tpr2, label='Train ROC ,auc='+str(roc_auc_score(y_train,pred1)))\n",
        "plt.title('ROC')\n",
        "plt.xlabel('FPR')\n",
        "plt.ylabel('TPR')\n",
        "plt.legend()\n",
        "plt.show()"
      ],
      "execution_count": 0,
      "outputs": [
        {
          "output_type": "display_data",
          "data": {
            "image/png": "[encoded data removed]",
            "text/plain": [
              "<Figure size 432x288 with 1 Axes>"
            ]
          },
          "metadata": {
            "tags": []
          }
        }
      ]
    },
    {
      "cell_type": "code",
      "metadata": {
        "colab_type": "code",
        "id": "815AogfdWKyd",
        "outputId": "94c95990-df0a-46aa-b17c-30db08abedb3",
        "colab": {
          "base_uri": "https://localhost:8080/",
          "height": 295
        }
      },
      "source": [
        "pred=model.predict(X_test_avgw2v)\n",
        "con_mat=confusion_matrix(y_test,pred)\n",
        "class_label = [\"0\", \"1\"]\n",
        "df = pd.DataFrame(con_mat, index = class_label, columns = class_label)\n",
        "sns.heatmap(df, annot = True,fmt=\"d\")\n",
        "plt.title(\"Confusion Matrix\")\n",
        "plt.xlabel(\"Predicted Label\")\n",
        "plt.ylabel(\"True Label\")\n",
        "plt.show()"
      ],
      "execution_count": 0,
      "outputs": [
        {
          "output_type": "display_data",
          "data": {
            "image/png": "[encoded data removed]",
            "text/plain": [
              "<Figure size 432x288 with 2 Axes>"
            ]
          },
          "metadata": {
            "tags": []
          }
        }
      ]
    },
    {
      "cell_type": "markdown",
      "metadata": {
        "id": "ngZoW2uz1MOk",
        "colab_type": "text"
      },
      "source": [
        "# Decision Tree on Tf-IdfWord2Vec\n",
        "\n"
      ]
    },
    {
      "cell_type": "code",
      "metadata": {
        "id": "pXXyHl2_1Mq5",
        "colab_type": "code",
        "outputId": "fa212d64-3841-45f1-f82e-07ec1534ef49",
        "colab": {
          "base_uri": "https://localhost:8080/",
          "height": 68
        }
      },
      "source": [
        "X=preprocessed_reviews\n",
        "y=np.array(final_data['Score'])\n",
        "\n",
        "\n",
        "X_1, X_test, y_1, y_test = train_test_split(X, y, test_size=0.3, random_state=0)\n",
        "X_train, X_cv, y_train, y_cv = train_test_split(X_1, y_1, test_size=0.3)\n",
        "\n",
        "list_of_sentances_train=[]\n",
        "for sentance in X_train:\n",
        "    list_of_sentances_train.append(sentance.split())\n",
        "w2v_model=Word2Vec(list_of_sentances_train,min_count=5,size=50, workers=4) \n",
        "w2v_words = list(w2v_model.wv.vocab)\n",
        "tf_idf = TfidfVectorizer(ngram_range=(1,2),min_df=10, max_features=500)\n",
        "\n",
        "tf_idf_matrix=tf_idf.fit_transform(X_train)\n",
        "\n",
        "\n",
        "tfidf_feat = tf_idf.get_feature_names() \n",
        "dictionary = dict(zip(tf_idf.get_feature_names(), list(tf_idf.idf_)))\n",
        "\n",
        "#for train data\n",
        "\n",
        "tfidf_sent_vectors_train = [] \n",
        "\n",
        "for sent in tqdm(list_of_sentances_train): \n",
        "    sent_vec = np.zeros(50)\n",
        "    weight_sum =0;\n",
        "    for word in sent: \n",
        "        if word in w2v_words and word in tfidf_feat:\n",
        "            vec = w2v_model.wv[word]\n",
        "            tf_idf = dictionary[word]*(sent.count(word)/len(sent))\n",
        "            sent_vec += (vec * tf_idf)\n",
        "            weight_sum += tf_idf\n",
        "    if weight_sum != 0:\n",
        "        sent_vec /= weight_sum\n",
        "    tfidf_sent_vectors_train.append(sent_vec)\n",
        "\n",
        "\n",
        "#for cross validation data\n",
        "list_of_sentances_cv=[]\n",
        "for sentance in X_cv:\n",
        "    list_of_sentances_cv.append(sentance.split())\n",
        "    \n",
        "tfidf_sent_vectors_cv = []\n",
        "\n",
        "for sent in tqdm(list_of_sentances_cv): \n",
        "    sent_vec = np.zeros(50)\n",
        "    weight_sum =0;\n",
        "    for word in sent: \n",
        "        if word in w2v_words and word in tfidf_feat:\n",
        "            vec = w2v_model.wv[word]\n",
        "            tf_idf = dictionary[word]*(sent.count(word)/len(sent))\n",
        "            sent_vec += (vec * tf_idf)\n",
        "            weight_sum += tf_idf\n",
        "    if weight_sum != 0:\n",
        "        sent_vec /= weight_sum\n",
        "    tfidf_sent_vectors_cv.append(sent_vec)\n",
        "\n",
        "\n",
        "#for test data\n",
        "list_of_sentances_test=[]\n",
        "for sentance in X_test:\n",
        "    list_of_sentances_test.append(sentance.split())\n",
        "tfidf_sent_vectors_test = []\n",
        "\n",
        "for sent in tqdm(list_of_sentances_test): \n",
        "    sent_vec = np.zeros(50)\n",
        "    weight_sum =0;\n",
        "    for word in sent: \n",
        "        if word in w2v_words and word in tfidf_feat:\n",
        "            vec = w2v_model.wv[word]\n",
        "            tf_idf = dictionary[word]*(sent.count(word)/len(sent))\n",
        "            sent_vec += (vec * tf_idf)\n",
        "            weight_sum += tf_idf\n",
        "    if weight_sum != 0:\n",
        "        sent_vec /= weight_sum\n",
        "    tfidf_sent_vectors_test.append(sent_vec)\n"
      ],
      "execution_count": 0,
      "outputs": [
        {
          "output_type": "stream",
          "text": [
            "100%|██████████| 43008/43008 [01:38<00:00, 437.39it/s]\n",
            "100%|██████████| 18433/18433 [00:42<00:00, 436.47it/s]\n",
            "100%|██████████| 26332/26332 [00:57<00:00, 458.63it/s]\n"
          ],
          "name": "stderr"
        }
      ]
    },
    {
      "cell_type": "code",
      "metadata": {
        "id": "W67ayiSp1M6F",
        "colab_type": "code",
        "colab": {}
      },
      "source": [
        "X_train_tfidfw2v=tfidf_sent_vectors_train\n",
        "X_cv_tfidfw2v=tfidf_sent_vectors_cv\n",
        "X_test_tfidfw2v=tfidf_sent_vectors_test\n",
        "\n",
        "auc_cv=[]\n",
        "auc_train=[]\n",
        "depths=[1,5,10,50,100,500,1000]\n",
        "best_m=[]\n",
        "min_samples=[2,5,10,15,100,500]\n",
        "\n",
        "for d in depths:\n",
        "    ms,temp=0,0\n",
        "    for m in min_samples:\n",
        "      model=DecisionTreeClassifier(max_depth=d,min_samples_split=m)\n",
        "      model.fit(X_train_tfidfw2v, y_train)\n",
        "      pred = model.predict_proba(X_cv_tfidfw2v)[:,1]\n",
        "      roc=roc_auc_score(y_cv,pred)\n",
        "      if(roc>temp):\n",
        "        temp=roc\n",
        "        ms=m\n",
        "    model=DecisionTreeClassifier(max_depth=d,min_samples_split=ms)\n",
        "    model.fit(X_train_tfidfw2v,y_train)\n",
        "    pred=model.predict_proba(X_cv_tfidfw2v)[:,1]\n",
        "    auc_cv.append(roc_auc_score(y_cv,pred))\n",
        "    best_m.append(ms)\n",
        "    pred1=model.predict_proba(X_train_tfidfw2v)[:,1]\n",
        "    auc_train.append(roc_auc_score(y_train,pred1))"
      ],
      "execution_count": 0,
      "outputs": []
    },
    {
      "cell_type": "code",
      "metadata": {
        "id": "JZe0dltO1NUq",
        "colab_type": "code",
        "outputId": "9f7b15ec-6f6c-418e-d794-770c14f22767",
        "colab": {
          "base_uri": "https://localhost:8080/",
          "height": 329
        }
      },
      "source": [
        "optimal_depth= depths[auc_cv.index(max(auc_cv))]\n",
        "optimal_min_samples_split=best_m[auc_cv.index(max(auc_cv))]\n",
        "\n",
        "plt.plot(depths, auc_train, label='AUC train')\n",
        "plt.plot(depths, auc_cv, label='AUC CV')\n",
        "plt.title('AUC vs depth')\n",
        "plt.xlabel('depth')\n",
        "plt.ylabel('AUC')\n",
        "plt.legend()\n",
        "plt.show()\n",
        "\n",
        "print('optimal depth for which auc is maximum : ',optimal_depth)\n",
        "print('optimal minimum samples split for which auc is maximum : ',optimal_min_samples_split)"
      ],
      "execution_count": 0,
      "outputs": [
        {
          "output_type": "display_data",
          "data": {
            "image/png": "[encoded data removed]",
            "text/plain": [
              "<Figure size 432x288 with 1 Axes>"
            ]
          },
          "metadata": {
            "tags": []
          }
        },
        {
          "output_type": "stream",
          "text": [
            "optimal depth for which auc is maximum :  10\n",
            "optimal minimum samples split for which auc is maximum :  500\n"
          ],
          "name": "stdout"
        }
      ]
    },
    {
      "cell_type": "code",
      "metadata": {
        "id": "CX3qW9gv1Ngj",
        "colab_type": "code",
        "colab": {}
      },
      "source": [
        "#training our model for max_depth=50,min_samples_split=500\n",
        "#ROC curve\n",
        "from sklearn.metrics  import roc_curve\n",
        "\n",
        "model=DecisionTreeClassifier(max_depth=10,min_samples_split=500)\n",
        "model.fit(X_train_tfidfw2v,y_train)\n",
        "pred=model.predict_proba(X_test_tfidfw2v)[:,1]\n",
        "fpr1, tpr1, thresholds1 = roc_curve(y_test, pred)\n",
        "pred1=model.predict_proba(X_train_tfidfw2v)[:,1]\n",
        "fpr2,tpr2,thresholds2=roc_curve(y_train,pred1)"
      ],
      "execution_count": 0,
      "outputs": []
    },
    {
      "cell_type": "code",
      "metadata": {
        "id": "V78XDWhq7fwb",
        "colab_type": "code",
        "outputId": "b6fae634-decf-4702-dc7b-11377984a6c5",
        "colab": {
          "base_uri": "https://localhost:8080/",
          "height": 295
        }
      },
      "source": [
        "plt.plot(fpr1, tpr1, label='Test ROC ,auc='+str(roc_auc_score(y_test,pred)))\n",
        "plt.plot(fpr2, tpr2, label='Train ROC ,auc='+str(roc_auc_score(y_train,pred1)))\n",
        "plt.title('ROC')\n",
        "plt.xlabel('FPR')\n",
        "plt.ylabel('TPR')\n",
        "plt.legend()\n",
        "plt.show()"
      ],
      "execution_count": 0,
      "outputs": [
        {
          "output_type": "display_data",
          "data": {
            "image/png": "[encoded data removed]",
            "text/plain": [
              "<Figure size 432x288 with 1 Axes>"
            ]
          },
          "metadata": {
            "tags": []
          }
        }
      ]
    },
    {
      "cell_type": "code",
      "metadata": {
        "id": "wpswMcdu4Xqc",
        "colab_type": "code",
        "outputId": "86d74d7f-3d8e-44dc-d33d-df74dbbcf206",
        "colab": {
          "base_uri": "https://localhost:8080/",
          "height": 295
        }
      },
      "source": [
        "pred=model.predict(X_test_tfidfw2v)\n",
        "con_mat=confusion_matrix(y_test,pred)\n",
        "class_label = [\"0\", \"1\"]\n",
        "df = pd.DataFrame(con_mat, index = class_label, columns = class_label)\n",
        "sns.heatmap(df, annot = True,fmt=\"d\")\n",
        "plt.title(\"Confusion Matrix\")\n",
        "plt.xlabel(\"Predicted Label\")\n",
        "plt.ylabel(\"True Label\")\n",
        "plt.show()"
      ],
      "execution_count": 0,
      "outputs": [
        {
          "output_type": "display_data",
          "data": {
            "image/png": "[encoded data removed]",
            "text/plain": [
              "<Figure size 432x288 with 2 Axes>"
            ]
          },
          "metadata": {
            "tags": []
          }
        }
      ]
    },
    {
      "cell_type": "markdown",
      "metadata": {
        "id": "BDmMDhLZ74Wz",
        "colab_type": "text"
      },
      "source": [
        "## Conclusion"
      ]
    },
    {
      "cell_type": "code",
      "metadata": {
        "id": "XwJ80IoD73lv",
        "colab_type": "code",
        "outputId": "ed78931d-d83b-4eea-b727-71ebbd00799a",
        "colab": {
          "base_uri": "https://localhost:8080/",
          "height": 153
        }
      },
      "source": [
        "from prettytable import PrettyTable    \n",
        "x = PrettyTable()\n",
        "x.field_names = [\"Vectorizer\",\"Best depth\", \"Best min_samples_split\", \"AUC\"]\n",
        "x.add_row(['BOW','50','500','0.8248161'])\n",
        "x.add_row(['TFIDF','50','500','0.8034'])\n",
        "x.add_row(['AVG W2vec','10','500','0.8248858'])\n",
        "x.add_row(['TFIDF W2vec','10','500','0.7578'])\n",
        "print(x)"
      ],
      "execution_count": 0,
      "outputs": [
        {
          "output_type": "stream",
          "text": [
            "+-------------+------------+------------------------+-----------+\n",
            "|  Vectorizer | Best depth | Best min_samples_split |    AUC    |\n",
            "+-------------+------------+------------------------+-----------+\n",
            "|     BOW     |     50     |          500           | 0.8248161 |\n",
            "|    TFIDF    |     50     |          500           |   0.8034  |\n",
            "|  AVG W2vec  |     10     |          500           | 0.8248858 |\n",
            "| TFIDF W2vec |     10     |          500           |   0.7578  |\n",
            "+-------------+------------+------------------------+-----------+\n"
          ],
          "name": "stdout"
        }
      ]
    },
    {
      "cell_type": "code",
      "metadata": {
        "id": "ACpBCxkZ89hm",
        "colab_type": "code",
        "colab": {}
      },
      "source": [
        ""
      ],
      "execution_count": 0,
      "outputs": []
    }
  ]
}