{
 "cells": [
  {
   "cell_type": "markdown",
   "metadata": {},
   "source": [
    "# Loading Data"
   ]
  },
  {
   "cell_type": "code",
   "execution_count": 63,
   "metadata": {},
   "outputs": [
    {
     "name": "stderr",
     "output_type": "stream",
     "text": [
      "D:\\Python1\\lib\\site-packages\\ipykernel_launcher.py:17: FutureWarning: Method .as_matrix will be removed in a future version. Use .values instead.\n"
     ]
    }
   ],
   "source": [
    "import pandas as pd\n",
    "import seaborn as sns\n",
    "import matplotlib.pyplot as plt\n",
    "import numpy as np\n",
    "from sklearn.datasets import load_boston\n",
    "from sklearn.preprocessing import StandardScaler\n",
    "from sklearn.model_selection  import train_test_split\n",
    "from sklearn.linear_model import SGDRegressor\n",
    "from sklearn.metrics import mean_squared_error\n",
    "\n",
    "X = load_boston().data\n",
    "Y = load_boston().target\n",
    "\n",
    "df=pd.DataFrame(X)\n",
    "#some intuition\n",
    "df[13]=df[10]//df[12]  #here we set a column 13 such that df[13]=Boston_data['Medv']//Boston_data['B']\n",
    "X=df.as_matrix()\n"
   ]
  },
  {
   "cell_type": "markdown",
   "metadata": {},
   "source": [
    "# Train_test_split"
   ]
  },
  {
   "cell_type": "code",
   "execution_count": 64,
   "metadata": {},
   "outputs": [
    {
     "name": "stdout",
     "output_type": "stream",
     "text": [
      "          0         1         2         3         4         5         6  \\\n",
      "0 -0.431024  2.569022 -1.267370 -0.282166 -1.340054  0.102435 -1.751328   \n",
      "1 -0.431978 -0.477752 -1.235724 -0.282166 -0.564048  0.980322 -0.382070   \n",
      "2  1.461914 -0.477752  1.014046 -0.282166  1.658151 -0.464389  0.672580   \n",
      "3 -0.433089  0.436280 -0.778290 -0.282166 -0.996142 -0.377292 -1.704852   \n",
      "4  0.772042 -0.477752  1.014046 -0.282166  1.243693  0.276630  1.062264   \n",
      "\n",
      "          7         8         9        10        11        12        13  price  \n",
      "0  1.935397 -0.474174 -0.253558 -1.649552  0.077328 -1.079907  0.408108   22.5  \n",
      "1 -0.449103 -0.709354 -1.244803 -0.274700  0.424886 -1.070356  1.194179   37.2  \n",
      "2 -0.930124  1.760030  1.596768  0.825181 -3.552132  2.883877 -1.164035    8.4  \n",
      "3  1.452134 -0.591764 -0.944426 -0.732984  0.424886 -0.607801 -0.377963   23.4  \n",
      "4 -0.975393  1.760030  1.596768  0.825181  0.365221  0.577923 -0.377963   13.1  \n"
     ]
    }
   ],
   "source": [
    "X_train, X_test, y_train, y_test=train_test_split(X, Y, test_size=0.33, random_state=7)\n",
    "\n",
    "scaler = StandardScaler()\n",
    "X_train = scaler.fit_transform(X_train)\n",
    "X_test=scaler.transform(X_test)\n",
    "\n",
    "df_X_train=pd.DataFrame(X_train)\n",
    "#df_y_train=pd.DataFrame(y_train)\n",
    "df_X_train['price']=y_train\n",
    "print(df_X_train.head(5))\n"
   ]
  },
  {
   "cell_type": "markdown",
   "metadata": {},
   "source": [
    "# Manual SGD"
   ]
  },
  {
   "cell_type": "code",
   "execution_count": 65,
   "metadata": {},
   "outputs": [
    {
     "name": "stdout",
     "output_type": "stream",
     "text": [
      "[[-0.96104483  0.27538426 -0.42490673  0.52134394 -1.83191539  3.29081001\n",
      "   0.03691671 -2.5186672   1.565091   -1.1880337  -2.54848034  0.77607255\n",
      "  -0.55935464  3.25967954]]\n",
      "[22.72629834]\n"
     ]
    }
   ],
   "source": [
    "# batch_size should be selected as a multiple of 2 for good results\n",
    "\n",
    "\n",
    "W=np.random.randn(1,14)\n",
    "B=0\n",
    "iteration=1000\n",
    "lr_rate=0.01\n",
    "k=32 #intialise W to random no and B to zero\n",
    "\n",
    "while iteration>=0:\n",
    "    w=W\n",
    "    b=B\n",
    "    temp_vectors=np.zeros(shape=(1,14))\n",
    "    temp_intercept=0\n",
    "    data=df_X_train.sample(32) #sampling random k=batch size=32 data\n",
    "    x=np.array(data.drop('price',axis=1))\n",
    "    y=np.array(data['price'])\n",
    "    \n",
    "    for i in range(k):\n",
    "        temp_vectors+=(-2)*x[i]*(y[i]-(np.dot(w,x[i])+b))#partial differentiation wrt w dl/dw=1/k(-2x)*(y-wTx-b)\n",
    "        temp_intercept+=(-2)*(y[i]-(np.dot(w,x[i])+b))#partial differentiation wrt b dl/db=1/k(-2)*(y-wTx-b)\n",
    "        \n",
    "    W=(w-lr_rate*(temp_vectors)/k)\n",
    "    B=(b-lr_rate*(temp_intercept)/k)\n",
    "    \n",
    "    iteration=iteration-1\n",
    "    \n",
    "    \n",
    "    \n",
    "print(W)\n",
    "print(B)"
   ]
  },
  {
   "cell_type": "code",
   "execution_count": 66,
   "metadata": {},
   "outputs": [
    {
     "name": "stderr",
     "output_type": "stream",
     "text": [
      "D:\\Python1\\lib\\site-packages\\ipykernel_launcher.py:6: DeprecationWarning: np.asscalar(a) is deprecated since NumPy v1.16, use a.item() instead\n",
      "  \n"
     ]
    }
   ],
   "source": [
    "#prediction on x_test\n",
    "#https://www.geeksforgeeks.org/numpy-asscalar-in-python/\n",
    "y_predicted_lr=[]\n",
    "for i in range(len(X_test)):\n",
    "    val=np.dot(W,X_test[i])+B  #val= wTx+b\n",
    "    y_predicted_lr.append(np.asscalar(val))"
   ]
  },
  {
   "cell_type": "markdown",
   "metadata": {},
   "source": [
    "# Scatter plot of actual price vs Manually predicted price"
   ]
  },
  {
   "cell_type": "code",
   "execution_count": 67,
   "metadata": {},
   "outputs": [
    {
     "data": {
      "image/png": "[encoded data removed]",
      "text/plain": [
       "<Figure size 432x288 with 1 Axes>"
      ]
     },
     "metadata": {},
     "output_type": "display_data"
    }
   ],
   "source": [
    "#Scatter plot of actual price vs predicted price\n",
    "\n",
    "plt.scatter(y_test,y_predicted_lr)\n",
    "plt.xlabel('Actual price')\n",
    "plt.ylabel('Predictd price')\n",
    "plt.title('Actual price vs Predicted price')\n",
    "plt.show()"
   ]
  },
  {
   "cell_type": "markdown",
   "metadata": {},
   "source": [
    "# Sklearn SGD"
   ]
  },
  {
   "cell_type": "code",
   "execution_count": 68,
   "metadata": {},
   "outputs": [
    {
     "data": {
      "image/png": "[encoded data removed]",
      "text/plain": [
       "<Figure size 432x288 with 1 Axes>"
      ]
     },
     "metadata": {},
     "output_type": "display_data"
    }
   ],
   "source": [
    "\n",
    "model=SGDRegressor(learning_rate='constant',eta0=0.01,penalty=None,max_iter=1000)\n",
    "model.fit(X_train,y_train)\n",
    "y_predicted_sgd=model.predict(X_test)\n",
    "\n",
    "#Scatter plot of actual price vs predicted price\n",
    "\n",
    "plt.scatter(y_test,y_predicted_sgd)\n",
    "plt.xlabel('Actual price')\n",
    "plt.ylabel('Predictd price')\n",
    "plt.title('Actual price vs Predicted price ( Sklearn SGD)')\n",
    "plt.show()"
   ]
  },
  {
   "cell_type": "markdown",
   "metadata": {},
   "source": [
    "Manual SGD & Sklearn SGD scatter plots are similar."
   ]
  },
  {
   "cell_type": "markdown",
   "metadata": {},
   "source": [
    "# Mean_squared_error"
   ]
  },
  {
   "cell_type": "code",
   "execution_count": 69,
   "metadata": {},
   "outputs": [
    {
     "name": "stdout",
     "output_type": "stream",
     "text": [
      "Mean_squared_error_manual= 21.810527613818678\n",
      "Mean_squared_error_SklearnSGD= 21.165342394475466\n"
     ]
    }
   ],
   "source": [
    "print(\"Mean_squared_error_manual=\",mean_squared_error(y_test,y_predicted_lr))\n",
    "print(\"Mean_squared_error_SklearnSGD=\",mean_squared_error(y_test,y_predicted_sgd))"
   ]
  },
  {
   "cell_type": "markdown",
   "metadata": {},
   "source": [
    "Mean_squared_error is approximately same with Manual and sklearn SGD"
   ]
  },
  {
   "cell_type": "code",
   "execution_count": null,
   "metadata": {},
   "outputs": [],
   "source": []
  }
 ],
 "metadata": {
  "kernelspec": {
   "display_name": "Python 3",
   "language": "python",
   "name": "python3"
  },
  "language_info": {
   "codemirror_mode": {
    "name": "ipython",
    "version": 3
   },
   "file_extension": ".py",
   "mimetype": "text/x-python",
   "name": "python",
   "nbconvert_exporter": "python",
   "pygments_lexer": "ipython3",
   "version": "3.6.5"
  }
 },
 "nbformat": 4,
 "nbformat_minor": 2
}
