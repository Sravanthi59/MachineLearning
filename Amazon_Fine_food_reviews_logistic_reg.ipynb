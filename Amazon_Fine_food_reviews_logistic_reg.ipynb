{
  "nbformat": 4,
  "nbformat_minor": 0,
  "metadata": {
    "colab": {
      "name": "Amazon_Fine_food_reviews_logistic_reg.ipynb",
      "provenance": [],
      "collapsed_sections": [
        "AK-en-9vy4Gw"
      ],
      "toc_visible": true
    },
    "kernelspec": {
      "display_name": "Python 3",
      "language": "python",
      "name": "python3"
    },
    "language_info": {
      "codemirror_mode": {
        "name": "ipython",
        "version": 3
      },
      "file_extension": ".py",
      "mimetype": "text/x-python",
      "name": "python",
      "nbconvert_exporter": "python",
      "pygments_lexer": "ipython3",
      "version": "3.6.5"
    }
  },
  "cells": [
    {
      "cell_type": "code",
      "metadata": {
        "colab_type": "code",
        "id": "rR0oMfqly4FU",
        "colab": {}
      },
      "source": [
        "import warnings\n",
        "warnings.filterwarnings(\"ignore\")\n",
        "\n",
        "\n",
        "import sqlite3\n",
        "import pandas as pd\n",
        "import numpy as np\n",
        "import matplotlib.pyplot as plt\n",
        "import seaborn as sns\n",
        "\n",
        "from tqdm import tqdm\n",
        "from gensim.models import Word2Vec"
      ],
      "execution_count": 0,
      "outputs": []
    },
    {
      "cell_type": "code",
      "metadata": {
        "colab_type": "code",
        "id": "zMyQc3Q8y4Fb",
        "outputId": "17c79ad2-ce07-4a06-e158-73360b020ae4",
        "colab": {
          "base_uri": "https://localhost:8080/",
          "height": 34
        }
      },
      "source": [
        "%cd /content/drive/My\\ Drive/datasets/amazon_food_reviews/\n",
        "\n"
      ],
      "execution_count": 0,
      "outputs": [
        {
          "output_type": "stream",
          "text": [
            "/content/drive/My Drive/datasets/amazon_food_reviews\n"
          ],
          "name": "stdout"
        }
      ]
    },
    {
      "cell_type": "code",
      "metadata": {
        "colab_type": "code",
        "id": "hfyZC6-W7aYi",
        "outputId": "0ff84fb1-66f5-419e-fc32-95616e07b9d6",
        "colab": {
          "base_uri": "https://localhost:8080/",
          "height": 54
        }
      },
      "source": [
        "from google.colab import drive\n",
        "drive.mount('/content/drive')"
      ],
      "execution_count": 0,
      "outputs": [
        {
          "output_type": "stream",
          "text": [
            "Drive already mounted at /content/drive; to attempt to forcibly remount, call drive.mount(\"/content/drive\", force_remount=True).\n"
          ],
          "name": "stdout"
        }
      ]
    },
    {
      "cell_type": "markdown",
      "metadata": {
        "colab_type": "text",
        "id": "hvQSZ0xpy4Ff"
      },
      "source": [
        "# Reading Data"
      ]
    },
    {
      "cell_type": "code",
      "metadata": {
        "colab_type": "code",
        "id": "XI3l9y3Ay4Fg",
        "outputId": "a4e34fcf-b133-41b3-c772-cf2feaf8bcbb",
        "colab": {
          "base_uri": "https://localhost:8080/",
          "height": 451
        }
      },
      "source": [
        "\n",
        "# using SQLite Table to read data.\n",
        "conn = sqlite3.connect('database.sqlite')\n",
        "\n",
        "filtered_data = pd.read_sql_query(\" SELECT * FROM Reviews WHERE Score != 3 LIMIT 100000\", conn)\n",
        "\n",
        "#print(filtered_data.columns)\n",
        "#print(filtered_data.head(2))\n",
        "# Give reviews with Score>3 a positive rating(1), and reviews with a score<3 a negative rating(0).\n",
        "def rating(x):\n",
        "    if x < 3:\n",
        "        return 0\n",
        "    return 1\n",
        "\n",
        "#changing reviews with score less than 3 to be positive and vice-versa\n",
        "actualScore = filtered_data['Score']\n",
        "positiveNegative = actualScore.map(rating) \n",
        "filtered_data['Score'] = positiveNegative\n",
        "print(\"Number of data points in our data :\", filtered_data.shape)\n",
        "filtered_data.head(3)"
      ],
      "execution_count": 0,
      "outputs": [
        {
          "output_type": "stream",
          "text": [
            "Number of data points in our data : (100000, 10)\n"
          ],
          "name": "stdout"
        },
        {
          "output_type": "execute_result",
          "data": {
            "text/html": [
              "<div>\n",
              "<style scoped>\n",
              "    .dataframe tbody tr th:only-of-type {\n",
              "        vertical-align: middle;\n",
              "    }\n",
              "\n",
              "    .dataframe tbody tr th {\n",
              "        vertical-align: top;\n",
              "    }\n",
              "\n",
              "    .dataframe thead th {\n",
              "        text-align: right;\n",
              "    }\n",
              "</style>\n",
              "<table border=\"1\" class=\"dataframe\">\n",
              "  <thead>\n",
              "    <tr style=\"text-align: right;\">\n",
              "      <th></th>\n",
              "      <th>Id</th>\n",
              "      <th>ProductId</th>\n",
              "      <th>UserId</th>\n",
              "      <th>ProfileName</th>\n",
              "      <th>HelpfulnessNumerator</th>\n",
              "      <th>HelpfulnessDenominator</th>\n",
              "      <th>Score</th>\n",
              "      <th>Time</th>\n",
              "      <th>Summary</th>\n",
              "      <th>Text</th>\n",
              "    </tr>\n",
              "  </thead>\n",
              "  <tbody>\n",
              "    <tr>\n",
              "      <th>0</th>\n",
              "      <td>1</td>\n",
              "      <td>B001E4KFG0</td>\n",
              "      <td>A3SGXH7AUHU8GW</td>\n",
              "      <td>delmartian</td>\n",
              "      <td>1</td>\n",
              "      <td>1</td>\n",
              "      <td>1</td>\n",
              "      <td>1303862400</td>\n",
              "      <td>Good Quality Dog Food</td>\n",
              "      <td>I have bought several of the Vitality canned d...</td>\n",
              "    </tr>\n",
              "    <tr>\n",
              "      <th>1</th>\n",
              "      <td>2</td>\n",
              "      <td>B00813GRG4</td>\n",
              "      <td>A1D87F6ZCVE5NK</td>\n",
              "      <td>dll pa</td>\n",
              "      <td>0</td>\n",
              "      <td>0</td>\n",
              "      <td>0</td>\n",
              "      <td>1346976000</td>\n",
              "      <td>Not as Advertised</td>\n",
              "      <td>Product arrived labeled as Jumbo Salted Peanut...</td>\n",
              "    </tr>\n",
              "    <tr>\n",
              "      <th>2</th>\n",
              "      <td>3</td>\n",
              "      <td>B000LQOCH0</td>\n",
              "      <td>ABXLMWJIXXAIN</td>\n",
              "      <td>Natalia Corres \"Natalia Corres\"</td>\n",
              "      <td>1</td>\n",
              "      <td>1</td>\n",
              "      <td>1</td>\n",
              "      <td>1219017600</td>\n",
              "      <td>\"Delight\" says it all</td>\n",
              "      <td>This is a confection that has been around a fe...</td>\n",
              "    </tr>\n",
              "  </tbody>\n",
              "</table>\n",
              "</div>"
            ],
            "text/plain": [
              "   Id  ...                                               Text\n",
              "0   1  ...  I have bought several of the Vitality canned d...\n",
              "1   2  ...  Product arrived labeled as Jumbo Salted Peanut...\n",
              "2   3  ...  This is a confection that has been around a fe...\n",
              "\n",
              "[3 rows x 10 columns]"
            ]
          },
          "metadata": {
            "tags": []
          },
          "execution_count": 163
        }
      ]
    },
    {
      "cell_type": "code",
      "metadata": {
        "colab_type": "code",
        "id": "2t8G2xMmy4Fk",
        "colab": {}
      },
      "source": [
        "display_unique_users = pd.read_sql_query(\"\"\"SELECT UserId, ProductId, ProfileName, Time, Score, Text, COUNT(*) FROM Reviews\n",
        "GROUP BY UserId\n",
        "HAVING COUNT(*)>1\n",
        "\"\"\", conn)"
      ],
      "execution_count": 0,
      "outputs": []
    },
    {
      "cell_type": "code",
      "metadata": {
        "colab_type": "code",
        "id": "EI56YBANy4Fn",
        "outputId": "7a4fae85-251e-4043-c45a-254acc9c9d55",
        "colab": {
          "base_uri": "https://localhost:8080/",
          "height": 258
        }
      },
      "source": [
        "print('Unique users:',display_unique_users.shape)\n",
        "display_unique_users.head(4)"
      ],
      "execution_count": 0,
      "outputs": [
        {
          "output_type": "stream",
          "text": [
            "Unique users: (80668, 7)\n"
          ],
          "name": "stdout"
        },
        {
          "output_type": "execute_result",
          "data": {
            "text/html": [
              "<div>\n",
              "<style scoped>\n",
              "    .dataframe tbody tr th:only-of-type {\n",
              "        vertical-align: middle;\n",
              "    }\n",
              "\n",
              "    .dataframe tbody tr th {\n",
              "        vertical-align: top;\n",
              "    }\n",
              "\n",
              "    .dataframe thead th {\n",
              "        text-align: right;\n",
              "    }\n",
              "</style>\n",
              "<table border=\"1\" class=\"dataframe\">\n",
              "  <thead>\n",
              "    <tr style=\"text-align: right;\">\n",
              "      <th></th>\n",
              "      <th>UserId</th>\n",
              "      <th>ProductId</th>\n",
              "      <th>ProfileName</th>\n",
              "      <th>Time</th>\n",
              "      <th>Score</th>\n",
              "      <th>Text</th>\n",
              "      <th>COUNT(*)</th>\n",
              "    </tr>\n",
              "  </thead>\n",
              "  <tbody>\n",
              "    <tr>\n",
              "      <th>0</th>\n",
              "      <td>#oc-R115TNMSPFT9I7</td>\n",
              "      <td>B007Y59HVM</td>\n",
              "      <td>Breyton</td>\n",
              "      <td>1331510400</td>\n",
              "      <td>2</td>\n",
              "      <td>Overall its just OK when considering the price...</td>\n",
              "      <td>2</td>\n",
              "    </tr>\n",
              "    <tr>\n",
              "      <th>1</th>\n",
              "      <td>#oc-R11D9D7SHXIJB9</td>\n",
              "      <td>B005HG9ET0</td>\n",
              "      <td>Louis E. Emory \"hoppy\"</td>\n",
              "      <td>1342396800</td>\n",
              "      <td>5</td>\n",
              "      <td>My wife has recurring extreme muscle spasms, u...</td>\n",
              "      <td>3</td>\n",
              "    </tr>\n",
              "    <tr>\n",
              "      <th>2</th>\n",
              "      <td>#oc-R11DNU2NBKQ23Z</td>\n",
              "      <td>B007Y59HVM</td>\n",
              "      <td>Kim Cieszykowski</td>\n",
              "      <td>1348531200</td>\n",
              "      <td>1</td>\n",
              "      <td>This coffee is horrible and unfortunately not ...</td>\n",
              "      <td>2</td>\n",
              "    </tr>\n",
              "    <tr>\n",
              "      <th>3</th>\n",
              "      <td>#oc-R11O5J5ZVQE25C</td>\n",
              "      <td>B005HG9ET0</td>\n",
              "      <td>Penguin Chick</td>\n",
              "      <td>1346889600</td>\n",
              "      <td>5</td>\n",
              "      <td>This will be the bottle that you grab from the...</td>\n",
              "      <td>3</td>\n",
              "    </tr>\n",
              "  </tbody>\n",
              "</table>\n",
              "</div>"
            ],
            "text/plain": [
              "               UserId  ... COUNT(*)\n",
              "0  #oc-R115TNMSPFT9I7  ...        2\n",
              "1  #oc-R11D9D7SHXIJB9  ...        3\n",
              "2  #oc-R11DNU2NBKQ23Z  ...        2\n",
              "3  #oc-R11O5J5ZVQE25C  ...        3\n",
              "\n",
              "[4 rows x 7 columns]"
            ]
          },
          "metadata": {
            "tags": []
          },
          "execution_count": 165
        }
      ]
    },
    {
      "cell_type": "code",
      "metadata": {
        "colab_type": "code",
        "id": "FOq2rxcCy4Fr",
        "outputId": "c763393a-476e-4804-a14e-811c4ced3f88",
        "colab": {
          "base_uri": "https://localhost:8080/",
          "height": 34
        }
      },
      "source": [
        "print('Total No. of Reviews:',display_unique_users['COUNT(*)'].sum())"
      ],
      "execution_count": 0,
      "outputs": [
        {
          "output_type": "stream",
          "text": [
            "Total No. of Reviews: 393063\n"
          ],
          "name": "stdout"
        }
      ]
    },
    {
      "cell_type": "markdown",
      "metadata": {
        "colab_type": "text",
        "id": "u_bLjSXty4Fu"
      },
      "source": [
        "# Exploratory Data Analysis"
      ]
    },
    {
      "cell_type": "markdown",
      "metadata": {
        "colab_type": "text",
        "id": "3I5fx2jBy4Fv"
      },
      "source": [
        "# Data Cleaning"
      ]
    },
    {
      "cell_type": "code",
      "metadata": {
        "colab_type": "code",
        "id": "39uQPSwXy4Fw",
        "outputId": "ec342048-3c00-4147-9f13-0443800b81d1",
        "colab": {
          "base_uri": "https://localhost:8080/",
          "height": 564
        }
      },
      "source": [
        "display_duplicate_reviews= pd.read_sql_query(\"\"\"\n",
        "SELECT *\n",
        "FROM Reviews\n",
        "WHERE Score != 3 AND UserId=\"AR5J8UI46CURR\"\n",
        "ORDER BY ProductID\n",
        "\"\"\", conn)\n",
        "display_duplicate_reviews.head(6)"
      ],
      "execution_count": 0,
      "outputs": [
        {
          "output_type": "execute_result",
          "data": {
            "text/html": [
              "<div>\n",
              "<style scoped>\n",
              "    .dataframe tbody tr th:only-of-type {\n",
              "        vertical-align: middle;\n",
              "    }\n",
              "\n",
              "    .dataframe tbody tr th {\n",
              "        vertical-align: top;\n",
              "    }\n",
              "\n",
              "    .dataframe thead th {\n",
              "        text-align: right;\n",
              "    }\n",
              "</style>\n",
              "<table border=\"1\" class=\"dataframe\">\n",
              "  <thead>\n",
              "    <tr style=\"text-align: right;\">\n",
              "      <th></th>\n",
              "      <th>Id</th>\n",
              "      <th>ProductId</th>\n",
              "      <th>UserId</th>\n",
              "      <th>ProfileName</th>\n",
              "      <th>HelpfulnessNumerator</th>\n",
              "      <th>HelpfulnessDenominator</th>\n",
              "      <th>Score</th>\n",
              "      <th>Time</th>\n",
              "      <th>Summary</th>\n",
              "      <th>Text</th>\n",
              "    </tr>\n",
              "  </thead>\n",
              "  <tbody>\n",
              "    <tr>\n",
              "      <th>0</th>\n",
              "      <td>78445</td>\n",
              "      <td>B000HDL1RQ</td>\n",
              "      <td>AR5J8UI46CURR</td>\n",
              "      <td>Geetha Krishnan</td>\n",
              "      <td>2</td>\n",
              "      <td>2</td>\n",
              "      <td>5</td>\n",
              "      <td>1199577600</td>\n",
              "      <td>LOACKER QUADRATINI VANILLA WAFERS</td>\n",
              "      <td>DELICIOUS WAFERS. I FIND THAT EUROPEAN WAFERS ...</td>\n",
              "    </tr>\n",
              "    <tr>\n",
              "      <th>1</th>\n",
              "      <td>138317</td>\n",
              "      <td>B000HDOPYC</td>\n",
              "      <td>AR5J8UI46CURR</td>\n",
              "      <td>Geetha Krishnan</td>\n",
              "      <td>2</td>\n",
              "      <td>2</td>\n",
              "      <td>5</td>\n",
              "      <td>1199577600</td>\n",
              "      <td>LOACKER QUADRATINI VANILLA WAFERS</td>\n",
              "      <td>DELICIOUS WAFERS. I FIND THAT EUROPEAN WAFERS ...</td>\n",
              "    </tr>\n",
              "    <tr>\n",
              "      <th>2</th>\n",
              "      <td>138277</td>\n",
              "      <td>B000HDOPYM</td>\n",
              "      <td>AR5J8UI46CURR</td>\n",
              "      <td>Geetha Krishnan</td>\n",
              "      <td>2</td>\n",
              "      <td>2</td>\n",
              "      <td>5</td>\n",
              "      <td>1199577600</td>\n",
              "      <td>LOACKER QUADRATINI VANILLA WAFERS</td>\n",
              "      <td>DELICIOUS WAFERS. I FIND THAT EUROPEAN WAFERS ...</td>\n",
              "    </tr>\n",
              "    <tr>\n",
              "      <th>3</th>\n",
              "      <td>73791</td>\n",
              "      <td>B000HDOPZG</td>\n",
              "      <td>AR5J8UI46CURR</td>\n",
              "      <td>Geetha Krishnan</td>\n",
              "      <td>2</td>\n",
              "      <td>2</td>\n",
              "      <td>5</td>\n",
              "      <td>1199577600</td>\n",
              "      <td>LOACKER QUADRATINI VANILLA WAFERS</td>\n",
              "      <td>DELICIOUS WAFERS. I FIND THAT EUROPEAN WAFERS ...</td>\n",
              "    </tr>\n",
              "    <tr>\n",
              "      <th>4</th>\n",
              "      <td>155049</td>\n",
              "      <td>B000PAQ75C</td>\n",
              "      <td>AR5J8UI46CURR</td>\n",
              "      <td>Geetha Krishnan</td>\n",
              "      <td>2</td>\n",
              "      <td>2</td>\n",
              "      <td>5</td>\n",
              "      <td>1199577600</td>\n",
              "      <td>LOACKER QUADRATINI VANILLA WAFERS</td>\n",
              "      <td>DELICIOUS WAFERS. I FIND THAT EUROPEAN WAFERS ...</td>\n",
              "    </tr>\n",
              "  </tbody>\n",
              "</table>\n",
              "</div>"
            ],
            "text/plain": [
              "       Id  ...                                               Text\n",
              "0   78445  ...  DELICIOUS WAFERS. I FIND THAT EUROPEAN WAFERS ...\n",
              "1  138317  ...  DELICIOUS WAFERS. I FIND THAT EUROPEAN WAFERS ...\n",
              "2  138277  ...  DELICIOUS WAFERS. I FIND THAT EUROPEAN WAFERS ...\n",
              "3   73791  ...  DELICIOUS WAFERS. I FIND THAT EUROPEAN WAFERS ...\n",
              "4  155049  ...  DELICIOUS WAFERS. I FIND THAT EUROPEAN WAFERS ...\n",
              "\n",
              "[5 rows x 10 columns]"
            ]
          },
          "metadata": {
            "tags": []
          },
          "execution_count": 167
        }
      ]
    },
    {
      "cell_type": "markdown",
      "metadata": {
        "colab_type": "text",
        "id": "YFgXUyR5y4Fz"
      },
      "source": [
        "It is observed (as shown in the table above) that the reviews data had many duplicate entries.\n",
        "Hence it was necessary to remove duplicates in order to get unbiased results for the analysis of the data"
      ]
    },
    {
      "cell_type": "code",
      "metadata": {
        "colab_type": "code",
        "id": "mqM7lwdly4F0",
        "colab": {}
      },
      "source": [
        "#Sorting data according to ProductId in ascending order\n",
        "sorted_data=filtered_data.sort_values('ProductId', axis=0, ascending=True, inplace=False, kind='quicksort', na_position='last')\n"
      ],
      "execution_count": 0,
      "outputs": []
    },
    {
      "cell_type": "code",
      "metadata": {
        "colab_type": "code",
        "id": "EL_PGL5ly4F4",
        "outputId": "bd2a874e-e484-4440-b112-183cbab251b5",
        "colab": {
          "base_uri": "https://localhost:8080/",
          "height": 34
        }
      },
      "source": [
        "final_data=sorted_data.drop_duplicates(subset={\"UserId\",\"ProfileName\",\"Time\",\"Text\"},keep='first',inplace=False)\n",
        "print('final_data after removing duplicated row entries:',final_data.shape)"
      ],
      "execution_count": 0,
      "outputs": [
        {
          "output_type": "stream",
          "text": [
            "final_data after removing duplicated row entries: (87775, 10)\n"
          ],
          "name": "stdout"
        }
      ]
    },
    {
      "cell_type": "code",
      "metadata": {
        "colab_type": "code",
        "id": "d4wp6m_ty4F7",
        "outputId": "2f8534b7-9001-4316-a38d-063c9cef97fc",
        "colab": {
          "base_uri": "https://localhost:8080/",
          "height": 335
        }
      },
      "source": [
        "display_HelpfulnessNumerator_corrupted_reviews= pd.read_sql_query(\"\"\"\n",
        "SELECT *\n",
        "FROM Reviews\n",
        "WHERE HelpfulnessNumerator > HelpfulnessDenominator \n",
        "ORDER BY ProductID\n",
        "\"\"\", conn)\n",
        "display_HelpfulnessNumerator_corrupted_reviews.head(6)"
      ],
      "execution_count": 0,
      "outputs": [
        {
          "output_type": "execute_result",
          "data": {
            "text/html": [
              "<div>\n",
              "<style scoped>\n",
              "    .dataframe tbody tr th:only-of-type {\n",
              "        vertical-align: middle;\n",
              "    }\n",
              "\n",
              "    .dataframe tbody tr th {\n",
              "        vertical-align: top;\n",
              "    }\n",
              "\n",
              "    .dataframe thead th {\n",
              "        text-align: right;\n",
              "    }\n",
              "</style>\n",
              "<table border=\"1\" class=\"dataframe\">\n",
              "  <thead>\n",
              "    <tr style=\"text-align: right;\">\n",
              "      <th></th>\n",
              "      <th>Id</th>\n",
              "      <th>ProductId</th>\n",
              "      <th>UserId</th>\n",
              "      <th>ProfileName</th>\n",
              "      <th>HelpfulnessNumerator</th>\n",
              "      <th>HelpfulnessDenominator</th>\n",
              "      <th>Score</th>\n",
              "      <th>Time</th>\n",
              "      <th>Summary</th>\n",
              "      <th>Text</th>\n",
              "    </tr>\n",
              "  </thead>\n",
              "  <tbody>\n",
              "    <tr>\n",
              "      <th>0</th>\n",
              "      <td>64422</td>\n",
              "      <td>B000MIDROQ</td>\n",
              "      <td>A161DK06JJMCYF</td>\n",
              "      <td>J. E. Stephens \"Jeanne\"</td>\n",
              "      <td>3</td>\n",
              "      <td>1</td>\n",
              "      <td>5</td>\n",
              "      <td>1224892800</td>\n",
              "      <td>Bought This for My Son at College</td>\n",
              "      <td>My son loves spaghetti so I didn't hesitate or...</td>\n",
              "    </tr>\n",
              "    <tr>\n",
              "      <th>1</th>\n",
              "      <td>44737</td>\n",
              "      <td>B001EQ55RW</td>\n",
              "      <td>A2V0I904FH7ABY</td>\n",
              "      <td>Ram</td>\n",
              "      <td>3</td>\n",
              "      <td>2</td>\n",
              "      <td>4</td>\n",
              "      <td>1212883200</td>\n",
              "      <td>Pure cocoa taste with crunchy almonds inside</td>\n",
              "      <td>It was almost a 'love at first bite' - the per...</td>\n",
              "    </tr>\n",
              "  </tbody>\n",
              "</table>\n",
              "</div>"
            ],
            "text/plain": [
              "      Id  ...                                               Text\n",
              "0  64422  ...  My son loves spaghetti so I didn't hesitate or...\n",
              "1  44737  ...  It was almost a 'love at first bite' - the per...\n",
              "\n",
              "[2 rows x 10 columns]"
            ]
          },
          "metadata": {
            "tags": []
          },
          "execution_count": 170
        }
      ]
    },
    {
      "cell_type": "markdown",
      "metadata": {
        "colab_type": "text",
        "id": "ORgnOECiy4F_"
      },
      "source": [
        "HelpfulnessNumerator > HelpfulnessDenominator ,which is not practically possible hence these two rows too are removed from calcualtions"
      ]
    },
    {
      "cell_type": "code",
      "metadata": {
        "colab_type": "code",
        "id": "xv_CJWrty4F_",
        "outputId": "fe744a6f-485d-4dde-f9d1-1667b75b3d5f",
        "colab": {
          "base_uri": "https://localhost:8080/",
          "height": 34
        }
      },
      "source": [
        "final_data=final_data[final_data.HelpfulnessNumerator<=final_data.HelpfulnessDenominator]\n",
        "print('final_data after removing corrupted HelpfulnessNumerator:',final_data.shape)"
      ],
      "execution_count": 0,
      "outputs": [
        {
          "output_type": "stream",
          "text": [
            "final_data after removing corrupted HelpfulnessNumerator: (87773, 10)\n"
          ],
          "name": "stdout"
        }
      ]
    },
    {
      "cell_type": "code",
      "metadata": {
        "colab_type": "code",
        "id": "WrMl5t3Ay4GC",
        "outputId": "85462d81-798f-46f4-f868-693989f0b6d8",
        "colab": {
          "base_uri": "https://localhost:8080/",
          "height": 68
        }
      },
      "source": [
        "final_data['Score'].value_counts()"
      ],
      "execution_count": 0,
      "outputs": [
        {
          "output_type": "execute_result",
          "data": {
            "text/plain": [
              "1    73592\n",
              "0    14181\n",
              "Name: Score, dtype: int64"
            ]
          },
          "metadata": {
            "tags": []
          },
          "execution_count": 172
        }
      ]
    },
    {
      "cell_type": "markdown",
      "metadata": {
        "colab_type": "text",
        "id": "PDYlC6iRy4GG"
      },
      "source": [
        "# PreProcessing review text"
      ]
    },
    {
      "cell_type": "markdown",
      "metadata": {
        "colab_type": "text",
        "id": "KhN4QCGry4GH"
      },
      "source": [
        "1.Begin by removing the html tags\n",
        "\n",
        "2.Remove any punctuations or limited set of special characters like , or . or # etc.\n",
        "\n",
        "3.Check if the word is made up of english letters and is not alpha-numeric\n",
        "\n",
        "4.Check to see if the length of the word is greater than 2 (as it was researched that there is no adjective in 2-letters)\n",
        "\n",
        "5.Convert the word to lowercase\n",
        "\n",
        "6.Remove Stopwords\n",
        "\n",
        "7.Finally Snowball Stemming the word (it was obsereved to be better than Porter Stemming)\n"
      ]
    },
    {
      "cell_type": "code",
      "metadata": {
        "colab_type": "code",
        "id": "2zr9QkgBy4GI",
        "outputId": "7177207f-0032-46c5-a2a2-54c55cce5c35",
        "colab": {
          "base_uri": "https://localhost:8080/",
          "height": 105
        }
      },
      "source": [
        "text_0=final_data['Text'].values[0]\n",
        "print(text_0)\n",
        "print('_'*50)\n",
        "text_100=final_data['Text'].values[100]\n",
        "print(text_100)\n",
        "print('_'*50)"
      ],
      "execution_count": 0,
      "outputs": [
        {
          "output_type": "stream",
          "text": [
            "My dogs loves this chicken but its a product from China, so we wont be buying it anymore.  Its very hard to find any chicken products made in the USA but they are out there, but this one isnt.  Its too bad too because its a good product but I wont take any chances till they know what is going on with the china imports.\n",
            "__________________________________________________\n",
            "My Frenchbull is only given nylabone's to chew. He has had them since he was 7 weeks old. They are safe for him because he has a strong bite and they don't break off in large pieces that he could choke on. The Dinosaur Chew is perfect because it has so many places to hold and bite.  Dylabone is the only product I buy.\n",
            "__________________________________________________\n"
          ],
          "name": "stdout"
        }
      ]
    },
    {
      "cell_type": "code",
      "metadata": {
        "colab_type": "code",
        "id": "fp9PP3Uwy4GL",
        "outputId": "f16a2f55-7e1f-445e-8e62-d10927b71321",
        "colab": {
          "base_uri": "https://localhost:8080/",
          "height": 88
        }
      },
      "source": [
        "import re\n",
        "# remove urls from text python: https://stackoverflow.com/a/40823105/4084039\n",
        "text_0 = re.sub(r\"http\\S+\", \"\", text_0)\n",
        "text_100 = re.sub(r\"http\\S+\", \"\", text_100)\n",
        "\n",
        "print(text_0)\n",
        "print('_'*50)\n",
        "print(text_100)"
      ],
      "execution_count": 0,
      "outputs": [
        {
          "output_type": "stream",
          "text": [
            "My dogs loves this chicken but its a product from China, so we wont be buying it anymore.  Its very hard to find any chicken products made in the USA but they are out there, but this one isnt.  Its too bad too because its a good product but I wont take any chances till they know what is going on with the china imports.\n",
            "__________________________________________________\n",
            "My Frenchbull is only given nylabone's to chew. He has had them since he was 7 weeks old. They are safe for him because he has a strong bite and they don't break off in large pieces that he could choke on. The Dinosaur Chew is perfect because it has so many places to hold and bite.  Dylabone is the only product I buy.\n"
          ],
          "name": "stdout"
        }
      ]
    },
    {
      "cell_type": "code",
      "metadata": {
        "colab_type": "code",
        "id": "srG9J_xvy4GP",
        "outputId": "bb53a927-67af-4eb7-c9bc-b6eea8fb3b8e",
        "colab": {
          "base_uri": "https://localhost:8080/",
          "height": 105
        }
      },
      "source": [
        "# https://www.crummy.com/software/BeautifulSoup/bs4/doc/\n",
        "# https://stackoverflow.com/questions/16206380/python-beautifulsoup-how-to-remove-all-tags-from-an-element\n",
        "from bs4 import BeautifulSoup\n",
        "\n",
        "soup = BeautifulSoup(text_0, 'lxml')\n",
        "text = soup.get_text()\n",
        "print(text)\n",
        "print(\"=\"*50)\n",
        "\n",
        "soup = BeautifulSoup(text_100, 'lxml')\n",
        "text = soup.get_text()\n",
        "print(text)\n",
        "print(\"=\"*50)"
      ],
      "execution_count": 0,
      "outputs": [
        {
          "output_type": "stream",
          "text": [
            "My dogs loves this chicken but its a product from China, so we wont be buying it anymore.  Its very hard to find any chicken products made in the USA but they are out there, but this one isnt.  Its too bad too because its a good product but I wont take any chances till they know what is going on with the china imports.\n",
            "==================================================\n",
            "My Frenchbull is only given nylabone's to chew. He has had them since he was 7 weeks old. They are safe for him because he has a strong bite and they don't break off in large pieces that he could choke on. The Dinosaur Chew is perfect because it has so many places to hold and bite.  Dylabone is the only product I buy.\n",
            "==================================================\n"
          ],
          "name": "stdout"
        }
      ]
    },
    {
      "cell_type": "code",
      "metadata": {
        "colab_type": "code",
        "id": "NQfK3fQfy4GS",
        "outputId": "6e47b48a-09ac-49ed-adfe-3686a7acead7",
        "colab": {
          "base_uri": "https://localhost:8080/",
          "height": 71
        }
      },
      "source": [
        "# https://stackoverflow.com/a/47091490/4084039\n",
        "\n",
        "def decontracted(phrase):\n",
        "    # specific\n",
        "    phrase = re.sub(r\"won't\", \"will not\", phrase)\n",
        "    phrase = re.sub(r\"can\\'t\", \"can not\", phrase)\n",
        "\n",
        "    # general\n",
        "    phrase = re.sub(r\"n\\'t\", \" not\", phrase)\n",
        "    phrase = re.sub(r\"\\'re\", \" are\", phrase)\n",
        "    phrase = re.sub(r\"\\'s\", \" is\", phrase)\n",
        "    phrase = re.sub(r\"\\'d\", \" would\", phrase)\n",
        "    phrase = re.sub(r\"\\'ll\", \" will\", phrase)\n",
        "    phrase = re.sub(r\"\\'t\", \" not\", phrase)\n",
        "    phrase = re.sub(r\"\\'ve\", \" have\", phrase)\n",
        "    phrase = re.sub(r\"\\'m\", \" am\", phrase)\n",
        "    return phrase\n",
        "\n",
        "text_100 = decontracted(text_100)\n",
        "print(text_100)\n",
        "print(\"=\"*50)"
      ],
      "execution_count": 0,
      "outputs": [
        {
          "output_type": "stream",
          "text": [
            "My Frenchbull is only given nylabone is to chew. He has had them since he was 7 weeks old. They are safe for him because he has a strong bite and they do not break off in large pieces that he could choke on. The Dinosaur Chew is perfect because it has so many places to hold and bite.  Dylabone is the only product I buy.\n",
            "==================================================\n"
          ],
          "name": "stdout"
        }
      ]
    },
    {
      "cell_type": "code",
      "metadata": {
        "colab_type": "code",
        "id": "lDxZo53Sy4GV",
        "outputId": "9904909c-61bf-4adc-8fb7-cccb1ffeccbf",
        "colab": {
          "base_uri": "https://localhost:8080/",
          "height": 54
        }
      },
      "source": [
        "#remove words with numbers python: https://stackoverflow.com/a/18082370/4084039\n",
        "text_100 = re.sub(\"\\S*\\d\\S*\", \"\", text_100).strip()\n",
        "print(text_100)"
      ],
      "execution_count": 0,
      "outputs": [
        {
          "output_type": "stream",
          "text": [
            "My Frenchbull is only given nylabone is to chew. He has had them since he was  weeks old. They are safe for him because he has a strong bite and they do not break off in large pieces that he could choke on. The Dinosaur Chew is perfect because it has so many places to hold and bite.  Dylabone is the only product I buy.\n"
          ],
          "name": "stdout"
        }
      ]
    },
    {
      "cell_type": "code",
      "metadata": {
        "colab_type": "code",
        "id": "-0Ke6UW5y4GY",
        "outputId": "dd8a21bb-abf8-4551-a38d-52fae29614a6",
        "colab": {
          "base_uri": "https://localhost:8080/",
          "height": 54
        }
      },
      "source": [
        "#remove spacial character: https://stackoverflow.com/a/5843547/4084039\n",
        "text_100 = re.sub('[^A-Za-z0-9]+', ' ', text_100)\n",
        "print(text_100)"
      ],
      "execution_count": 0,
      "outputs": [
        {
          "output_type": "stream",
          "text": [
            "My Frenchbull is only given nylabone is to chew He has had them since he was weeks old They are safe for him because he has a strong bite and they do not break off in large pieces that he could choke on The Dinosaur Chew is perfect because it has so many places to hold and bite Dylabone is the only product I buy \n"
          ],
          "name": "stdout"
        }
      ]
    },
    {
      "cell_type": "code",
      "metadata": {
        "colab_type": "code",
        "id": "-rroaTJgy4Ge",
        "colab": {}
      },
      "source": [
        "stopwords= set(['br', 'the', 'i', 'me', 'my', 'myself', 'we', 'our', 'ours', 'ourselves', 'you', \"you're\", \"you've\",\\\n",
        "            \"you'll\", \"you'd\", 'your', 'yours', 'yourself', 'yourselves', 'he', 'him', 'his', 'himself', \\\n",
        "            'she', \"she's\", 'her', 'hers', 'herself', 'it', \"it's\", 'its', 'itself', 'they', 'them', 'their',\\\n",
        "            'theirs', 'themselves', 'what', 'which', 'who', 'whom', 'this', 'that', \"that'll\", 'these', 'those', \\\n",
        "            'am', 'is', 'are', 'was', 'were', 'be', 'been', 'being', 'have', 'has', 'had', 'having', 'do', 'does', \\\n",
        "            'did', 'doing', 'a', 'an', 'the', 'and', 'but', 'if', 'or', 'because', 'as', 'until', 'while', 'of', \\\n",
        "            'at', 'by', 'for', 'with', 'about', 'against', 'between', 'into', 'through', 'during', 'before', 'after',\\\n",
        "            'above', 'below', 'to', 'from', 'up', 'down', 'in', 'out', 'on', 'off', 'over', 'under', 'again', 'further',\\\n",
        "            'then', 'once', 'here', 'there', 'when', 'where', 'why', 'how', 'all', 'any', 'both', 'each', 'few', 'more',\\\n",
        "            'most', 'other', 'some', 'such', 'only', 'own', 'same', 'so', 'than', 'too', 'very', \\\n",
        "            's', 't', 'can', 'will', 'just', 'don', \"don't\", 'should', \"should've\", 'now', 'd', 'll', 'm', 'o', 're', \\\n",
        "            've', 'y', 'ain', 'aren', \"aren't\", 'couldn', \"couldn't\", 'didn', \"didn't\", 'doesn', \"doesn't\", 'hadn',\\\n",
        "            \"hadn't\", 'hasn', \"hasn't\", 'haven', \"haven't\", 'isn', \"isn't\", 'ma', 'mightn', \"mightn't\", 'mustn',\\\n",
        "            \"mustn't\", 'needn', \"needn't\", 'shan', \"shan't\", 'shouldn', \"shouldn't\", 'wasn', \"wasn't\", 'weren', \"weren't\", \\\n",
        "            'won', \"won't\", 'wouldn', \"wouldn't\"])"
      ],
      "execution_count": 0,
      "outputs": []
    },
    {
      "cell_type": "code",
      "metadata": {
        "colab_type": "code",
        "id": "uPlBO57gy4Go",
        "outputId": "9638c423-e301-4984-c658-6fc59e338a91",
        "colab": {
          "base_uri": "https://localhost:8080/",
          "height": 34
        }
      },
      "source": [
        "# Pre processing all reviews\n",
        "from tqdm import tqdm\n",
        "preprocessed_reviews = []\n",
        "# tqdm is for printing the status bar\n",
        "for Text in tqdm(final_data['Text'].values):\n",
        "    Text = re.sub(r\"http\\S+\", \"\", Text)\n",
        "    Text = BeautifulSoup(Text, 'lxml').get_text()\n",
        "    Text = decontracted(Text)\n",
        "    Text = re.sub(\"\\S*\\d\\S*\", \"\", Text).strip()\n",
        "    Text = re.sub('[^A-Za-z]+', ' ', Text)\n",
        "    # https://gist.github.com/sebleier/554280\n",
        "    Text = ' '.join(e.lower() for e in Text.split() if e.lower() not in stopwords)\n",
        "    preprocessed_reviews.append(Text.strip())"
      ],
      "execution_count": 0,
      "outputs": [
        {
          "output_type": "stream",
          "text": [
            "100%|██████████| 87773/87773 [00:37<00:00, 2337.89it/s]\n"
          ],
          "name": "stderr"
        }
      ]
    },
    {
      "cell_type": "code",
      "metadata": {
        "colab_type": "code",
        "id": "4J21vVnNy4Gt",
        "outputId": "ccfe6bfb-d4ae-4875-ca91-ce966c71c1e5",
        "colab": {
          "base_uri": "https://localhost:8080/",
          "height": 34
        }
      },
      "source": [
        "warnings.filterwarnings(\"ignore\")\n",
        "# Pre processing all review summary\n",
        "from tqdm import tqdm\n",
        "preprocessed_summary = []\n",
        "# tqdm is for printing the status bar\n",
        "for Text in tqdm(final_data['Summary'].values):\n",
        "    Text = re.sub(r\"http\\S+\", \"\", Text)\n",
        "    Text = BeautifulSoup(Text, 'lxml').get_text()\n",
        "    Text = decontracted(Text)\n",
        "    Text = re.sub(\"\\S*\\d\\S*\", \"\", Text).strip()\n",
        "    Text = re.sub('[^A-Za-z]+', ' ', Text)\n",
        "    # https://gist.github.com/sebleier/554280\n",
        "    Text = ' '.join(e.lower() for e in Text.split() if e.lower() not in stopwords)\n",
        "    preprocessed_summary.append(Text.strip())"
      ],
      "execution_count": 0,
      "outputs": [
        {
          "output_type": "stream",
          "text": [
            "100%|██████████| 87773/87773 [00:31<00:00, 2830.69it/s]\n"
          ],
          "name": "stderr"
        }
      ]
    },
    {
      "cell_type": "markdown",
      "metadata": {
        "colab_type": "text",
        "id": "AK-en-9vy4Gw"
      },
      "source": [
        "# Featurization"
      ]
    },
    {
      "cell_type": "markdown",
      "metadata": {
        "colab_type": "text",
        "id": "ELTfRtaSy4Gw"
      },
      "source": [
        "# BOW"
      ]
    },
    {
      "cell_type": "code",
      "metadata": {
        "colab_type": "code",
        "id": "opdu1jSsy4Gx",
        "outputId": "72c05e64-80ce-4678-94c7-213ae1212250",
        "colab": {
          "base_uri": "https://localhost:8080/",
          "height": 88
        }
      },
      "source": [
        "from sklearn.feature_extraction.text import CountVectorizer\n",
        "\n",
        "CountVect=CountVectorizer()\n",
        "CountVect.fit(preprocessed_reviews)\n",
        "print('first 10 features:',CountVect.get_feature_names()[0:10])\n",
        "\n",
        "trans_preprocessed_reviews=CountVect.transform(preprocessed_reviews)\n",
        "print(trans_preprocessed_reviews.shape)\n",
        "print('unique words in all reviews:',trans_preprocessed_reviews.shape[1])"
      ],
      "execution_count": 0,
      "outputs": [
        {
          "output_type": "stream",
          "text": [
            "first 10 features: ['aa', 'aaa', 'aaaa', 'aaaaa', 'aaaaaaaaaaaa', 'aaaaaaaaaaaaaaa', 'aaaaaaahhhhhh', 'aaaaaaarrrrrggghhh', 'aaaaaawwwwwwwwww', 'aaaaah']\n",
            "(87773, 54904)\n",
            "unique words in all reviews: 54904\n"
          ],
          "name": "stdout"
        }
      ]
    },
    {
      "cell_type": "markdown",
      "metadata": {
        "colab_type": "text",
        "id": "_pmqDYbUy4G3"
      },
      "source": [
        "# BI-Grams,n-grams"
      ]
    },
    {
      "cell_type": "code",
      "metadata": {
        "colab_type": "code",
        "id": "s0deZ2o_y4G4",
        "outputId": "87845bf3-e001-4416-bebc-17872a1651d3",
        "colab": {
          "base_uri": "https://localhost:8080/",
          "height": 68
        }
      },
      "source": [
        "#bi-gram, tri-gram and n-gram\n",
        "\n",
        "#removing stop words like \"not\" should be avoided before building n-grams\n",
        "# count_vect = CountVectorizer(ngram_range=(1,2))\n",
        "# please do read the CountVectorizer documentation http://scikit-learn.org/stable/modules/generated/sklearn.feature_extraction.text.CountVectorizer.html\n",
        "\n",
        "# you can choose these numebrs min_df=10, max_features=5000, of your choice\n",
        "count_vect = CountVectorizer(ngram_range=(1,2), min_df=10, max_features=5000)\n",
        "final_bigram_counts = count_vect.fit_transform(preprocessed_reviews)\n",
        "\n",
        "print(\"the type of count vectorizer \",type(final_bigram_counts))\n",
        "print(\"the shape of out text BOW vectorizer \",final_bigram_counts.get_shape())\n",
        "print(\"the number of unique words including both unigrams and bigrams \", final_bigram_counts.get_shape()[1])"
      ],
      "execution_count": 0,
      "outputs": [
        {
          "output_type": "stream",
          "text": [
            "the type of count vectorizer  <class 'scipy.sparse.csr.csr_matrix'>\n",
            "the shape of out text BOW vectorizer  (87773, 5000)\n",
            "the number of unique words including both unigrams and bigrams  5000\n"
          ],
          "name": "stdout"
        }
      ]
    },
    {
      "cell_type": "markdown",
      "metadata": {
        "colab_type": "text",
        "id": "fGfDwTsFy4G7"
      },
      "source": [
        "# Term Frequency-Inverse Document Frequency"
      ]
    },
    {
      "cell_type": "code",
      "metadata": {
        "colab_type": "code",
        "id": "h3lz-7kVy4G7",
        "outputId": "0a6b3109-2dfd-4680-95f1-38ea03ceddfc",
        "colab": {
          "base_uri": "https://localhost:8080/",
          "height": 88
        }
      },
      "source": [
        "from sklearn.feature_extraction.text import TfidfVectorizer\n",
        "\n",
        "tf_idf=TfidfVectorizer(ngram_range=(1,2), min_df=10)\n",
        "\n",
        "tf_idf.fit(preprocessed_reviews)\n",
        "print('first 10 features:',tf_idf.get_feature_names()[0:10])\n",
        "\n",
        "fianl_tfidf=tf_idf.transform(preprocessed_reviews)\n",
        "print(fianl_tfidf.shape)\n",
        "print('unique words in all reviews:',fianl_tfidf.shape[1])\n"
      ],
      "execution_count": 0,
      "outputs": [
        {
          "output_type": "stream",
          "text": [
            "first 10 features: ['aa', 'aafco', 'aback', 'abandon', 'abandoned', 'abdominal', 'ability', 'able', 'able add', 'able brew']\n",
            "(87773, 51709)\n",
            "unique words in all reviews: 51709\n"
          ],
          "name": "stdout"
        }
      ]
    },
    {
      "cell_type": "markdown",
      "metadata": {
        "colab_type": "text",
        "id": "PPGVsq0Yy4G-"
      },
      "source": [
        "# Word2Vec"
      ]
    },
    {
      "cell_type": "code",
      "metadata": {
        "colab_type": "code",
        "id": "xqVzIBY6y4G_",
        "outputId": "44d9f474-1725-40bb-9638-2ce7e48a66dd",
        "colab": {
          "base_uri": "https://localhost:8080/",
          "height": 54
        }
      },
      "source": [
        "from gensim.models import Word2Vec\n",
        "from gensim.models import KeyedVectors\n",
        "import pickle\n",
        "# Train your own Word2Vec model using your own text corpus\n",
        "i=0\n",
        "list_of_sents=[]\n",
        "for review in preprocessed_reviews:\n",
        "    list_of_sents.append(review.split())\n",
        "print(list_of_sents[0:10])"
      ],
      "execution_count": 0,
      "outputs": [
        {
          "output_type": "stream",
          "text": [
            "[['dogs', 'loves', 'chicken', 'product', 'china', 'wont', 'buying', 'anymore', 'hard', 'find', 'chicken', 'products', 'made', 'usa', 'one', 'isnt', 'bad', 'good', 'product', 'wont', 'take', 'chances', 'till', 'know', 'going', 'china', 'imports'], ['dogs', 'love', 'saw', 'pet', 'store', 'tag', 'attached', 'regarding', 'made', 'china', 'satisfied', 'safe'], ['infestation', 'fruitflies', 'literally', 'everywhere', 'flying', 'around', 'kitchen', 'bought', 'product', 'hoping', 'least', 'get', 'rid', 'weeks', 'fly', 'stuck', 'going', 'around', 'notepad', 'squishing', 'buggers', 'success', 'rate', 'day', 'clearly', 'product', 'useless', 'even', 'dabbed', 'red', 'wine', 'banana', 'top', 'column', 'week', 'really', 'attracted', 'red', 'wine', 'glass', 'still', 'nothing', 'get', 'stuck', 'actually', 'saw', 'second', 'fly', 'land', 'watched', 'flapped', 'wings', 'frantically', 'within', 'secs', 'unstuck', 'product', 'total', 'waste', 'money'], ['worst', 'product', 'gotten', 'long', 'time', 'would', 'rate', 'no', 'star', 'could', 'simply', 'not', 'catch', 'single', 'fly', 'bug', 'sort', 'went', 'hardware', 'store', 'bought', 'old', 'fashioned', 'spiral', 'fly', 'paper', 'effective', 'unuasual', 'influx', 'flys', 'house', 'fall', 'needed', 'something'], ['wish', 'would', 'read', 'reviews', 'making', 'purchase', 'basically', 'cardsotck', 'box', 'sticky', 'outside', 'pink', 'ish', 'things', 'look', 'like', 'entrances', 'trap', 'pictures', 'no', 'inside', 'trap', 'flies', 'stuck', 'outside', 'basically', 'fly', 'paper', 'horribly', 'horribly', 'horribly', 'overpriced', 'favor', 'get', 'fly', 'paper', 'fly', 'strips', 'yuck', 'factor', 'much', 'cheaper'], ['happy', 'item', 'many', 'flies', 'disturbing', 'kitchen', 'put', 'product', 'near', 'window', 'works', 'fantastically'], ['thing', 'item', 'trapped', 'fruit', 'flies', 'not', 'work', 'fly', 'trap', 'would', 'not', 'recommend'], ['nurturing', 'plant', 'work', 'well', 'decided', 'repot', 'larger', 'pot', 'must', 'gotten', 'funky', 'soil', 'soon', 'repotted', 'overrun', 'large', 'colony', 'small', 'flies', 'swatting', 'getting', 'bug', 'guts', 'hand', 'frequently', 'stopped', 'bothering', 'gross', 'exclamations', 'fact', 'city', 'san', 'francisco', 'compost', 'aggravated', 'situation', 'bought', 'one', 'nitfy', 'traps', 'set', 'plant', 'voila', 'instead', 'hands', 'getting', 'daily', 'dose', 'bug', 'guts', 'trap', 'lined', 'tiny', 'suckers', 'months', 'trap', 'pretty', 'much', 'covered', 'gross', 'part', 'need', 'order', 'another', 'one', 'not', 'sure', 'well', 'work', 'larger', 'inserts', 'works', 'really', 'well', 'tiny', 'annoying', 'flies'], ['placed', 'around', 'house', 'several', 'days', 'setup', 'fly', 'attracting', 'trap', 'vicinity', 'literally', 'watched', 'flies', 'avoid', 'trap', 'days', 'excited', 'see', 'one', 'lil', 'bugger', 'land', 'surface', 'disappointed', 'approached', 'examine', 'flew', 'away', 'paper', 'tacky', 'pressure', 'human', 'finger', 'applied', 'small', 'flies', 'hardly', 'trap'], ['please', 'not', 'waste', 'money', 'fly', 'trap', 'absolutely', 'useless', 'bought', 'two', 'product', 'kitchen', 'always', 'bbq', 'go', 'pool', 'fly', 'get', 'house', 'started', 'make', 'jokes', 'product', 'not', 'one', 'fly', 'far', 'gone', 'since', 'hang', 'weeks', 'ago', 'terrible', 'product']]\n"
          ],
          "name": "stdout"
        }
      ]
    },
    {
      "cell_type": "code",
      "metadata": {
        "colab_type": "code",
        "id": "JYlCZ7r0y4HB",
        "outputId": "d6786fe9-f59f-457e-9ba0-32eca69caee2",
        "colab": {
          "base_uri": "https://localhost:8080/",
          "height": 88
        }
      },
      "source": [
        "w2v_model=Word2Vec(list_of_sents,min_count=5,size=50, workers=4)\n",
        "print(w2v_model.wv.most_similar('great'))\n",
        "print('='*50)\n",
        "print(w2v_model.wv.most_similar('worst'))\n",
        " "
      ],
      "execution_count": 0,
      "outputs": [
        {
          "output_type": "stream",
          "text": [
            "[('fantastic', 0.8539525866508484), ('terrific', 0.827070951461792), ('awesome', 0.8237519264221191), ('good', 0.8080753087997437), ('excellent', 0.8049847483634949), ('wonderful', 0.7792403101921082), ('perfect', 0.7597090601921082), ('amazing', 0.7520787119865417), ('nice', 0.7039361000061035), ('decent', 0.6970195770263672)]\n",
            "==================================================\n",
            "[('greatest', 0.8155393004417419), ('tastiest', 0.7137234807014465), ('best', 0.697509765625), ('nastiest', 0.6800364255905151), ('disgusting', 0.6602122187614441), ('awful', 0.6285826563835144), ('horrible', 0.6254494786262512), ('terrible', 0.6251145005226135), ('nicest', 0.6174235343933105), ('coolest', 0.609459400177002)]\n"
          ],
          "name": "stdout"
        }
      ]
    },
    {
      "cell_type": "code",
      "metadata": {
        "colab_type": "code",
        "id": "w4tLlFEOy4HE",
        "outputId": "2a9c733f-709f-4146-91ac-f6e316d85281",
        "colab": {
          "base_uri": "https://localhost:8080/",
          "height": 71
        }
      },
      "source": [
        "w2v_words = list(w2v_model.wv.vocab)\n",
        "print(\"number of words that occured minimum 5 times \",len(w2v_words))\n",
        "print(\"sample words \", w2v_words[0:50])"
      ],
      "execution_count": 0,
      "outputs": [
        {
          "output_type": "stream",
          "text": [
            "number of words that occured minimum 5 times  17386\n",
            "sample words  ['dogs', 'loves', 'chicken', 'product', 'china', 'wont', 'buying', 'anymore', 'hard', 'find', 'products', 'made', 'usa', 'one', 'isnt', 'bad', 'good', 'take', 'chances', 'till', 'know', 'going', 'imports', 'love', 'saw', 'pet', 'store', 'tag', 'attached', 'regarding', 'satisfied', 'safe', 'infestation', 'literally', 'everywhere', 'flying', 'around', 'kitchen', 'bought', 'hoping', 'least', 'get', 'rid', 'weeks', 'fly', 'stuck', 'squishing', 'buggers', 'success', 'rate']\n"
          ],
          "name": "stdout"
        }
      ]
    },
    {
      "cell_type": "markdown",
      "metadata": {
        "colab_type": "text",
        "id": "S82xR30Jy4HJ"
      },
      "source": [
        "# AVG Word2Vec"
      ]
    },
    {
      "cell_type": "code",
      "metadata": {
        "colab_type": "code",
        "id": "9AeXEakDy4HK",
        "outputId": "2765b663-f21f-4191-86d6-4d9a6de83d99",
        "colab": {
          "base_uri": "https://localhost:8080/",
          "height": 289
        }
      },
      "source": [
        "# average Word2Vec\n",
        "# compute average word2vec for each review.\n",
        "sent_vectors = []; # the avg-w2v for each sentence/review is stored in this list\n",
        "for sent in tqdm(list_of_sents): # for each review/sentence\n",
        "    sent_vec = np.zeros(50) # as word vectors are of zero length 50, you might need to change this to 300 if you use google's w2v\n",
        "    cnt_words =0; # num of words with a valid vector in the sentence/review\n",
        "    for word in sent: # for each word in a review/sentence\n",
        "        if word in w2v_words:\n",
        "            vec = w2v_model.wv[word]\n",
        "            sent_vec += vec\n",
        "            cnt_words += 1\n",
        "    if cnt_words != 0:\n",
        "        sent_vec /= cnt_words\n",
        "    sent_vectors.append(sent_vec)\n",
        "print(len(sent_vectors))\n",
        "print(len(sent_vectors[0]))\n",
        "print(sent_vectors[0])"
      ],
      "execution_count": 0,
      "outputs": [
        {
          "output_type": "stream",
          "text": [
            "100%|██████████| 87773/87773 [03:24<00:00, 429.93it/s]"
          ],
          "name": "stderr"
        },
        {
          "output_type": "stream",
          "text": [
            "87773\n",
            "50\n",
            "[ 7.10556955e-01 -1.95897364e-01  4.30784794e-01 -8.13494089e-02\n",
            "  5.88526800e-01  1.90860642e-01 -1.94180813e-01 -2.25011320e-01\n",
            "  4.54657144e-01  6.63545091e-01 -5.47835244e-01  1.30263964e-01\n",
            " -2.20774102e-01  2.86687184e-01  1.50631756e-01  3.85990628e-01\n",
            "  4.49008666e-01  4.08994172e-04 -4.58771055e-01  2.42892876e-01\n",
            " -1.96974628e-01  2.54103302e-01 -1.02386285e+00 -3.79533884e-01\n",
            " -3.35849746e-01  2.15731689e-01 -3.70422408e-01 -7.40643337e-02\n",
            "  1.20696732e-01  7.26868336e-02  2.09818348e-01 -3.90045919e-01\n",
            "  2.54681229e-01  4.81612501e-01  7.05877882e-01  1.21761480e+00\n",
            "  7.54526208e-01  6.70262610e-01  7.14329465e-01 -5.06279303e-01\n",
            " -1.28553496e-03  1.12986525e+00 -4.90623756e-01 -5.35284908e-01\n",
            "  6.88582748e-01 -1.25122487e-01 -1.42176345e-01 -1.85246954e-01\n",
            " -1.16011259e-01 -6.41898552e-01]\n"
          ],
          "name": "stdout"
        },
        {
          "output_type": "stream",
          "text": [
            "\n"
          ],
          "name": "stderr"
        }
      ]
    },
    {
      "cell_type": "markdown",
      "metadata": {
        "colab_type": "text",
        "id": "pgMjnsQxy4HO"
      },
      "source": [
        "# tf-idf weighted word2vec"
      ]
    },
    {
      "cell_type": "code",
      "metadata": {
        "colab_type": "code",
        "id": "1Vc8W64iy4HP",
        "colab": {}
      },
      "source": [
        "# S = [\"abc def pqr\", \"def def def abc\", \"pqr pqr def\"]\n",
        "model = TfidfVectorizer()\n",
        "tf_idf_matrix = model.fit_transform(preprocessed_reviews)\n",
        "# we are converting a dictionary with word as a key, and the idf as a value\n",
        "dictionary = dict(zip(model.get_feature_names(), list(model.idf_)))"
      ],
      "execution_count": 0,
      "outputs": []
    },
    {
      "cell_type": "code",
      "metadata": {
        "colab_type": "code",
        "id": "cgZw5ZcYy4HR",
        "outputId": "6a9fd479-7c9e-43aa-a2e9-43f9e37e58f2",
        "colab": {}
      },
      "source": [
        "# TF-IDF weighted Word2Vec\n",
        "tfidf_feat = model.get_feature_names() # tfidf words/col-names\n",
        "# final_tf_idf is the sparse matrix with row= sentence, col=word and cell_val = tfidf\n",
        "\n",
        "tfidf_sent_vectors = []; # the tfidf-w2v for each sentence/review is stored in this list\n",
        "for sent in tqdm(list_of_sents): # for each review/sentence \n",
        "    sent_vec = np.zeros(50) # as word vectors are of zero length\n",
        "    weight_sum =0; # num of words with a valid vector in the sentence/review\n",
        "    for word in sent: # for each word in a review/sentence\n",
        "        if word in w2v_words and word in tfidf_feat:\n",
        "            #K-NN-Brute-Force-on-BOWec = w2v_model.wv[word]\n",
        "            # dictionary[word] = idf value of word in whole courpus\n",
        "            # sent.count(word) = tf valeus of word in this review\n",
        "            tf_idf = dictionary[word]*(sent.count(word)/len(sent))\n",
        "            sent_vec += (vec * tf_idf)\n",
        "            weight_sum += tf_idf\n",
        "    if weight_sum != 0:\n",
        "        sent_vec /= weight_sum\n",
        "    tfidf_sent_vectors.append(sent_vec)"
      ],
      "execution_count": 0,
      "outputs": [
        {
          "output_type": "stream",
          "text": [
            "100%|██████████████████████████████████████████████████████████████████████████| 87773/87773 [1:16:42<00:00, 19.07it/s]\n"
          ],
          "name": "stderr"
        }
      ]
    },
    {
      "cell_type": "markdown",
      "metadata": {
        "colab_type": "text",
        "id": "uJ0gRKkvy4HT"
      },
      "source": [
        "# Logistic Regression on BOW (L1 Regularization)"
      ]
    },
    {
      "cell_type": "code",
      "metadata": {
        "colab_type": "code",
        "id": "wfwUdcfuy4HU",
        "colab": {}
      },
      "source": [
        "from sklearn.linear_model import LogisticRegression\n",
        "from sklearn.model_selection import train_test_split\n",
        "from sklearn.feature_extraction.text import CountVectorizer\n",
        "from sklearn.metrics  import  roc_auc_score\n",
        "from sklearn.preprocessing import StandardScaler\n",
        "\n",
        "X=preprocessed_reviews\n",
        "y=np.array(final_data['Score'])\n",
        "\n",
        "X_1, X_test, y_1, y_test = train_test_split(X, y, test_size=0.3, random_state=0)\n",
        "X_train, X_cv, y_train, y_cv = train_test_split(X_1, y_1, test_size=0.3)\n",
        "\n",
        "text_model=CountVectorizer()\n",
        "\n",
        "X_train_bow=text_model.fit_transform(X_train)\n",
        "X_cv_bow=text_model.transform(X_cv)\n",
        "X_test_bow=text_model.transform(X_test)\n",
        "\n",
        "scalar = StandardScaler(with_mean=False)\n",
        "X_train_bow = scalar.fit_transform(X_train_bow)\n",
        "X_test_bow= scalar.transform(X_test_bow)\n",
        "X_cv_bow=scalar.transform(X_cv_bow)\n",
        "\n",
        "auc_cv=[]\n",
        "auc_train=[]\n",
        "\n",
        "C = [10**-3, 10**-2, 10**0, 10**2,10**3,10**4]#C=1/lambda\n",
        "\n",
        "for i in C:\n",
        "    model=LogisticRegression(penalty='l1', C=i, solver='liblinear')\n",
        "    model.fit(X_train_bow, y_train)\n",
        "    pred = model.predict_proba(X_cv_bow)[:,1]\n",
        "    auc_cv.append(roc_auc_score(y_cv,pred))\n",
        "    pred1=model.predict_proba(X_train_bow)[:,1]\n",
        "    auc_train.append(roc_auc_score(y_train,pred1))\n",
        "\n",
        " \n"
      ],
      "execution_count": 0,
      "outputs": []
    },
    {
      "cell_type": "code",
      "metadata": {
        "colab_type": "code",
        "id": "aprr07xfCqmg",
        "colab": {}
      },
      "source": [
        "import math\n",
        "C = [10**-3, 10**-2, 10**0, 10**2,10**3,10**4]#C=1/lambda\n",
        "optimal_c= C[auc_cv.index(max(auc_cv))]\n",
        "C=[math.log(x) for x in C]#converting values of C into logarithmplt.plot(C, auc_train, label='AUC train')\n",
        "\n",
        "\n"
      ],
      "execution_count": 0,
      "outputs": []
    },
    {
      "cell_type": "code",
      "metadata": {
        "id": "UN-YOIQZ-8d3",
        "colab_type": "code",
        "outputId": "c5af8b36-b994-4fe5-c0b3-ed6d46b6c96a",
        "colab": {
          "base_uri": "https://localhost:8080/",
          "height": 329
        }
      },
      "source": [
        "plt.plot(C, auc_train, label='AUC train')\n",
        "plt.plot(C, auc_cv, label='AUC CV')\n",
        "plt.title('AUC vs C')\n",
        "plt.xlabel('C')\n",
        "plt.ylabel('AUC')\n",
        "plt.legend()\n",
        "plt.show()\n",
        "\n",
        "print('optimal lambda : ',1/optimal_c)\n",
        "print('optimal c : ',optimal_c)"
      ],
      "execution_count": 0,
      "outputs": [
        {
          "output_type": "display_data",
          "data": {
            "image/png": "[encoded data removed]",
            "text/plain": [
              "<Figure size 432x288 with 1 Axes>"
            ]
          },
          "metadata": {
            "tags": []
          }
        },
        {
          "output_type": "stream",
          "text": [
            "optimal lambda :  100.0\n",
            "optimal c :  0.01\n"
          ],
          "name": "stdout"
        }
      ]
    },
    {
      "cell_type": "code",
      "metadata": {
        "colab_type": "code",
        "id": "8bcgNL3Xy4HW",
        "colab": {}
      },
      "source": [
        "from sklearn.metrics  import roc_curve\n",
        "\n",
        "model=LogisticRegression(penalty='l1', C=optimal_c, solver='liblinear')\n",
        "model.fit(X_train_bow,y_train)\n",
        "pred=model.predict_proba(X_test_bow)[:,1]\n",
        "fpr1, tpr1, thresholds1 = roc_curve(y_test, pred)\n",
        "pred1=model.predict_proba(X_train_bow)[:,1]\n",
        "fpr2,tpr2,thresholds2=roc_curve(y_train,pred1)"
      ],
      "execution_count": 0,
      "outputs": []
    },
    {
      "cell_type": "code",
      "metadata": {
        "colab_type": "code",
        "id": "_z-F65bQy4HY",
        "outputId": "425a2958-88e0-4505-add9-4959e01caec9",
        "colab": {
          "base_uri": "https://localhost:8080/",
          "height": 295
        }
      },
      "source": [
        "plt.plot(fpr1, tpr1, label='Test ROC ,auc='+str(roc_auc_score(y_test,pred)))\n",
        "plt.plot(fpr2, tpr2, label='Train ROC ,auc='+str(roc_auc_score(y_train,pred1)))\n",
        "plt.title('ROC')\n",
        "plt.xlabel('FPR')\n",
        "plt.ylabel('TPR')\n",
        "plt.legend()\n",
        "plt.show()"
      ],
      "execution_count": 0,
      "outputs": [
        {
          "output_type": "display_data",
          "data": {
            "image/png": "[encoded data removed]",
            "text/plain": [
              "<Figure size 432x288 with 1 Axes>"
            ]
          },
          "metadata": {
            "tags": []
          }
        }
      ]
    },
    {
      "cell_type": "code",
      "metadata": {
        "colab_type": "code",
        "id": "rZ7w4zV8y4Hb",
        "outputId": "90dc3944-bc1b-4983-cfcb-6361d48f048d",
        "colab": {
          "base_uri": "https://localhost:8080/",
          "height": 295
        }
      },
      "source": [
        "from sklearn.metrics  import  confusion_matrix\n",
        "pred=model.predict(X_test_bow)\n",
        "con_mat=confusion_matrix(y_test,pred)\n",
        "class_label = [\"0\", \"1\"]\n",
        "df = pd.DataFrame(con_mat, index = class_label, columns = class_label)\n",
        "sns.heatmap(df, annot = True,fmt=\"d\")\n",
        "plt.title(\"Confusion Matrix\")\n",
        "plt.xlabel(\"Predicted Label\")\n",
        "plt.ylabel(\"True Label\")\n",
        "plt.show()"
      ],
      "execution_count": 0,
      "outputs": [
        {
          "output_type": "display_data",
          "data": {
            "image/png": "[encoded data removed]",
            "text/plain": [
              "<Figure size 432x288 with 2 Axes>"
            ]
          },
          "metadata": {
            "tags": []
          }
        }
      ]
    },
    {
      "cell_type": "code",
      "metadata": {
        "colab_type": "code",
        "id": "oVg3KvY6y4He",
        "outputId": "7dcdae56-5579-4ead-a56f-98064b87aaa2",
        "colab": {
          "base_uri": "https://localhost:8080/",
          "height": 34
        }
      },
      "source": [
        "model=LogisticRegression(penalty='l1',C=optimal_c,solver='liblinear')\n",
        "model.fit(X_train_bow,y_train)\n",
        "weight=model.coef_\n",
        "#Sparsity of vector weight=no of zero in weight vector\n",
        "print('No of non zero element in weight vector(BOW(l1) =>Imp Features) : ',np.count_nonzero(weight))"
      ],
      "execution_count": 0,
      "outputs": [
        {
          "output_type": "stream",
          "text": [
            "No of non zero element in weight vector(BOW(l1) =>Imp Features) :  2933\n"
          ],
          "name": "stdout"
        }
      ]
    },
    {
      "cell_type": "code",
      "metadata": {
        "id": "nMlrmQTGLdVa",
        "colab_type": "code",
        "outputId": "3b257874-c99f-4d9d-8942-6c71446d157f",
        "colab": {
          "base_uri": "https://localhost:8080/",
          "height": 34
        }
      },
      "source": [
        "print(weight.shape)"
      ],
      "execution_count": 0,
      "outputs": [
        {
          "output_type": "stream",
          "text": [
            "(1, 39218)\n"
          ],
          "name": "stdout"
        }
      ]
    },
    {
      "cell_type": "markdown",
      "metadata": {
        "id": "Sww_Jw2sskH7",
        "colab_type": "text"
      },
      "source": [
        "## Logistic Regression BOW (L2 Regularization)"
      ]
    },
    {
      "cell_type": "code",
      "metadata": {
        "id": "Yyozt_rwr0Hm",
        "colab_type": "code",
        "colab": {}
      },
      "source": [
        "\n",
        "C = [10**-4,10**-3, 10**-2, 10**0, 10**2,10**3,10**4]#C=1/lambda\n",
        "auc_train=[]\n",
        "auc_cv=[]\n",
        "for i in C:\n",
        "    model=LogisticRegression(penalty='l2',C=i)\n",
        "    model.fit(X_train_bow,y_train)\n",
        "    pred=model.predict_proba(X_cv_bow)[:,1]\n",
        "    auc_cv.append(roc_auc_score(y_cv,pred))\n",
        "    pred1=model.predict_proba(X_train_bow)[:,1]\n",
        "    auc_train.append(roc_auc_score(y_train,pred1))"
      ],
      "execution_count": 0,
      "outputs": []
    },
    {
      "cell_type": "code",
      "metadata": {
        "id": "WhQyhupdr0oF",
        "colab_type": "code",
        "colab": {}
      },
      "source": [
        "import math\n",
        "C = [10**-4,10**-3, 10**-2, 10**0, 10**2,10**3,10**4]#C=1/lambda\n",
        "optimal_c= C[auc_cv.index(max(auc_cv))]\n",
        "C=[math.log(x) for x in C]#converting values of C into logarithm\n",
        "\n",
        "\n",
        "\n"
      ],
      "execution_count": 0,
      "outputs": []
    },
    {
      "cell_type": "code",
      "metadata": {
        "id": "VcEeYyY1r02y",
        "colab_type": "code",
        "outputId": "ccad7184-0287-454c-c203-ba41d0e13e55",
        "colab": {
          "base_uri": "https://localhost:8080/",
          "height": 329
        }
      },
      "source": [
        "plt.plot(C, auc_train, label='AUC train')\n",
        "plt.plot(C, auc_cv, label='AUC CV')\n",
        "plt.title('AUC vs C')\n",
        "plt.xlabel('C')\n",
        "plt.ylabel('AUC')\n",
        "plt.legend()\n",
        "plt.show()\n",
        "\n",
        "print('optimal lambda : ',1/optimal_c)\n",
        "print('optimal c : ',optimal_c)"
      ],
      "execution_count": 0,
      "outputs": [
        {
          "output_type": "display_data",
          "data": {
            "image/png": "[encoded data removed]",
            "text/plain": [
              "<Figure size 432x288 with 1 Axes>"
            ]
          },
          "metadata": {
            "tags": []
          }
        },
        {
          "output_type": "stream",
          "text": [
            "optimal lambda :  10000.0\n",
            "optimal c :  0.0001\n"
          ],
          "name": "stdout"
        }
      ]
    },
    {
      "cell_type": "code",
      "metadata": {
        "id": "wkJ1Ps-xr1FL",
        "colab_type": "code",
        "colab": {}
      },
      "source": [
        "from sklearn.metrics  import roc_curve\n",
        "\n",
        "model=LogisticRegression(penalty='l2', C=optimal_c)\n",
        "model.fit(X_train_bow,y_train)\n",
        "pred=model.predict_proba(X_test_bow)[:,1]\n",
        "fpr1, tpr1, thresholds1 = roc_curve(y_test, pred)\n",
        "pred1=model.predict_proba(X_train_bow)[:,1]\n",
        "fpr2,tpr2,thresholds2=roc_curve(y_train,pred1)"
      ],
      "execution_count": 0,
      "outputs": []
    },
    {
      "cell_type": "code",
      "metadata": {
        "id": "z3D4mksQr1kS",
        "colab_type": "code",
        "outputId": "628ef49a-6b93-45cb-88f8-375520344d6c",
        "colab": {
          "base_uri": "https://localhost:8080/",
          "height": 295
        }
      },
      "source": [
        "plt.plot(fpr1, tpr1, label='Test ROC ,auc='+str(roc_auc_score(y_test,pred)))\n",
        "plt.plot(fpr2, tpr2, label='Train ROC ,auc='+str(roc_auc_score(y_train,pred1)))\n",
        "plt.title('ROC')\n",
        "plt.xlabel('FPR')\n",
        "plt.ylabel('TPR')\n",
        "plt.legend()\n",
        "plt.show()"
      ],
      "execution_count": 0,
      "outputs": [
        {
          "output_type": "display_data",
          "data": {
            "image/png": "[encoded data removed]",
            "text/plain": [
              "<Figure size 432x288 with 1 Axes>"
            ]
          },
          "metadata": {
            "tags": []
          }
        }
      ]
    },
    {
      "cell_type": "code",
      "metadata": {
        "id": "Ng1Gb50_u_do",
        "colab_type": "code",
        "outputId": "b24cfbef-7564-4288-921a-e04b39c8af7f",
        "colab": {
          "base_uri": "https://localhost:8080/",
          "height": 295
        }
      },
      "source": [
        "from sklearn.metrics  import  confusion_matrix\n",
        "pred=model.predict(X_test_bow)\n",
        "con_mat=confusion_matrix(y_test,pred)\n",
        "class_label = [\"0\", \"1\"]\n",
        "df = pd.DataFrame(con_mat, index = class_label, columns = class_label)\n",
        "sns.heatmap(df, annot = True,fmt=\"d\")\n",
        "plt.title(\"Confusion Matrix\")\n",
        "plt.xlabel(\"Predicted Label\")\n",
        "plt.ylabel(\"True Label\")\n",
        "plt.show()"
      ],
      "execution_count": 0,
      "outputs": [
        {
          "output_type": "display_data",
          "data": {
            "image/png": "[encoded data removed]",
            "text/plain": [
              "<Figure size 432x288 with 2 Axes>"
            ]
          },
          "metadata": {
            "tags": []
          }
        }
      ]
    },
    {
      "cell_type": "markdown",
      "metadata": {
        "id": "WRkRKfysvzRL",
        "colab_type": "text"
      },
      "source": [
        "# Feature Importance in BOW"
      ]
    },
    {
      "cell_type": "code",
      "metadata": {
        "id": "EslcJ3Q3vxid",
        "colab_type": "code",
        "outputId": "2ac87915-3422-4185-d58f-3ef9f4a4dc69",
        "colab": {
          "base_uri": "https://localhost:8080/",
          "height": 221
        }
      },
      "source": [
        "weight=model.coef_\n",
        "print(weight.shape)\n",
        "\n",
        "features = text_model.get_feature_names()\n",
        "pos_indx=np.argsort(weight)[:,::-1]\n",
        "\n",
        "neg_indx=np.argsort(weight)\n",
        "\n",
        "print('Top 10 positive features :')\n",
        "for i in list(pos_indx[0][0:10]):\n",
        "    print(features[i])"
      ],
      "execution_count": 0,
      "outputs": [
        {
          "output_type": "stream",
          "text": [
            "(1, 39218)\n",
            "Top 10 positive features :\n",
            "great\n",
            "best\n",
            "love\n",
            "delicious\n",
            "perfect\n",
            "good\n",
            "loves\n",
            "nice\n",
            "favorite\n",
            "excellent\n"
          ],
          "name": "stdout"
        }
      ]
    },
    {
      "cell_type": "code",
      "metadata": {
        "id": "p2SzROLrvxxr",
        "colab_type": "code",
        "outputId": "e656cbb2-7ae0-4710-83f3-8983716a029e",
        "colab": {
          "base_uri": "https://localhost:8080/",
          "height": 221
        }
      },
      "source": [
        "print(neg_indx.shape)\n",
        "print('Top 10 positive features :')\n",
        "for i in list(neg_indx[0][0:10]):\n",
        "    print(features[i])"
      ],
      "execution_count": 0,
      "outputs": [
        {
          "output_type": "stream",
          "text": [
            "(1, 39218)\n",
            "Top 10 positive features :\n",
            "not\n",
            "disappointed\n",
            "worst\n",
            "terrible\n",
            "horrible\n",
            "bad\n",
            "awful\n",
            "money\n",
            "disappointing\n",
            "waste\n"
          ],
          "name": "stdout"
        }
      ]
    },
    {
      "cell_type": "markdown",
      "metadata": {
        "colab_type": "text",
        "id": "3bwpw2nUGs6H"
      },
      "source": [
        "# Logistic Regression TF-IDF (L1 Regularization)"
      ]
    },
    {
      "cell_type": "code",
      "metadata": {
        "colab_type": "code",
        "id": "qaUt6Pxuy4Hg",
        "colab": {}
      },
      "source": [
        "from sklearn.feature_extraction.text import TfidfVectorizer\n",
        "\n",
        "X=preprocessed_reviews\n",
        "y=np.array(final_data['Score'])\n",
        "\n",
        "tf_idf = TfidfVectorizer(ngram_range=(1,2), min_df=10)\n",
        "\n",
        "X_1, X_test, y_1, y_test = train_test_split(X, y, test_size=0.3, random_state=0)\n",
        "X_train, X_cv, y_train, y_cv = train_test_split(X_1, y_1, test_size=0.3)\n",
        "\n",
        "X_train_tf_idf=tf_idf.fit_transform(X_train)\n",
        "X_cv_tf_idf=tf_idf.transform(X_cv)\n",
        "X_test_tf_idf=tf_idf.transform(X_test)\n",
        "\n",
        "scalar = StandardScaler(with_mean=False)\n",
        "X_train_tf_idf = scalar.fit_transform(X_train_tf_idf)\n",
        "X_test_tf_idf= scalar.transform(X_test_tf_idf)\n",
        "X_cv_tf_idf=scalar.transform(X_cv_tf_idf)\n",
        "\n",
        "auc_cv=[]\n",
        "auc_train=[]\n",
        "\n",
        "C = [10**-3, 10**-2, 10**0, 10**2,10**3,10**4]#C=1/lambda\n",
        "\n",
        "for i in C:\n",
        "    model=LogisticRegression(penalty='l1', C=i, solver='liblinear')\n",
        "    model.fit(X_train_tf_idf, y_train)\n",
        "    pred = model.predict_proba(X_cv_tf_idf)[:,1]\n",
        "    auc_cv.append(roc_auc_score(y_cv,pred))\n",
        "    pred1=model.predict_proba(X_train_tf_idf)[:,1]\n",
        "    auc_train.append(roc_auc_score(y_train,pred1))"
      ],
      "execution_count": 0,
      "outputs": []
    },
    {
      "cell_type": "code",
      "metadata": {
        "colab_type": "code",
        "id": "CQ1P7Chvy4Hj",
        "colab": {}
      },
      "source": [
        "import math\n",
        "C = [10**-3, 10**-2, 10**0, 10**2,10**3,10**4]#C=1/lambda\n",
        "optimal_c= C[auc_cv.index(max(auc_cv))]\n",
        "C=[math.log(x) for x in C]#converting values of C into logarithm"
      ],
      "execution_count": 0,
      "outputs": []
    },
    {
      "cell_type": "code",
      "metadata": {
        "colab_type": "code",
        "id": "Qfb45ne5y4Hl",
        "outputId": "740f02c2-8c0a-45ef-c130-3fa01e9b3c8f",
        "colab": {
          "base_uri": "https://localhost:8080/",
          "height": 329
        }
      },
      "source": [
        "plt.plot(C, auc_train, label='AUC train')\n",
        "plt.plot(C, auc_cv, label='AUC CV')\n",
        "plt.title('AUC vs C')\n",
        "plt.xlabel('C')\n",
        "plt.ylabel('AUC')\n",
        "plt.legend()\n",
        "plt.show()\n",
        "\n",
        "print('optimal lambda : ',1/optimal_c)\n",
        "print('optimal c : ',optimal_c)"
      ],
      "execution_count": 0,
      "outputs": [
        {
          "output_type": "display_data",
          "data": {
            "image/png": "[encoded data removed]",
            "text/plain": [
              "<Figure size 432x288 with 1 Axes>"
            ]
          },
          "metadata": {
            "tags": []
          }
        },
        {
          "output_type": "stream",
          "text": [
            "optimal lambda :  100.0\n",
            "optimal c :  0.01\n"
          ],
          "name": "stdout"
        }
      ]
    },
    {
      "cell_type": "code",
      "metadata": {
        "colab_type": "code",
        "id": "vne7jExRS1SD",
        "colab": {}
      },
      "source": [
        "from sklearn.metrics  import roc_curve\n",
        "\n",
        "model=LogisticRegression(penalty='l1', C=optimal_c,solver='liblinear')\n",
        "model.fit(X_train_tf_idf,y_train)\n",
        "pred=model.predict_proba(X_test_tf_idf)[:,1]\n",
        "fpr1, tpr1, thresholds1 = roc_curve(y_test, pred)\n",
        "pred1=model.predict_proba(X_train_tf_idf)[:,1]\n",
        "fpr2,tpr2,thresholds2=roc_curve(y_train,pred1)"
      ],
      "execution_count": 0,
      "outputs": []
    },
    {
      "cell_type": "code",
      "metadata": {
        "colab_type": "code",
        "id": "JRyyeGPaS1sm",
        "outputId": "bee328bb-3c22-444e-f9f8-a0a43bcaf534",
        "colab": {
          "base_uri": "https://localhost:8080/",
          "height": 295
        }
      },
      "source": [
        "plt.plot(fpr1, tpr1, label='Test ROC ,auc='+str(roc_auc_score(y_test,pred)))\n",
        "plt.plot(fpr2, tpr2, label='Train ROC ,auc='+str(roc_auc_score(y_train,pred1)))\n",
        "plt.title('ROC')\n",
        "plt.xlabel('FPR')\n",
        "plt.ylabel('TPR')\n",
        "plt.legend()\n",
        "plt.show()"
      ],
      "execution_count": 0,
      "outputs": [
        {
          "output_type": "display_data",
          "data": {
            "image/png": "[encoded data removed]",
            "text/plain": [
              "<Figure size 432x288 with 1 Axes>"
            ]
          },
          "metadata": {
            "tags": []
          }
        }
      ]
    },
    {
      "cell_type": "code",
      "metadata": {
        "id": "1EwQNH8M15N2",
        "colab_type": "code",
        "outputId": "e350ff4c-7d85-431f-b6fe-a92cf8902ab4",
        "colab": {
          "base_uri": "https://localhost:8080/",
          "height": 295
        }
      },
      "source": [
        "from sklearn.metrics  import  confusion_matrix\n",
        "pred=model.predict(X_test_tf_idf)\n",
        "con_mat=confusion_matrix(y_test,pred)\n",
        "class_label = [\"0\", \"1\"]\n",
        "df = pd.DataFrame(con_mat, index = class_label, columns = class_label)\n",
        "sns.heatmap(df, annot = True,fmt=\"d\")\n",
        "plt.title(\"Confusion Matrix\")\n",
        "plt.xlabel(\"Predicted Label\")\n",
        "plt.ylabel(\"True Label\")\n",
        "plt.show()"
      ],
      "execution_count": 0,
      "outputs": [
        {
          "output_type": "display_data",
          "data": {
            "image/png": "[encoded data removed]",
            "text/plain": [
              "<Figure size 432x288 with 2 Axes>"
            ]
          },
          "metadata": {
            "tags": []
          }
        }
      ]
    },
    {
      "cell_type": "code",
      "metadata": {
        "id": "OcfQyG9B8vQ-",
        "colab_type": "code",
        "outputId": "809b7584-1b60-4722-a8ad-8a9d92a0aab5",
        "colab": {
          "base_uri": "https://localhost:8080/",
          "height": 51
        }
      },
      "source": [
        "weight=model.coef_\n",
        "print(weight.shape)\n",
        "#Sparsity of vector weight=no of zero in weight vector\n",
        "print('No of non zero element in weight vector(tf-idf(l1) => Imp Features) : ',np.count_nonzero(weight))"
      ],
      "execution_count": 0,
      "outputs": [
        {
          "output_type": "stream",
          "text": [
            "(1, 25538)\n",
            "No of non zero element in weight vector(tf-idf(l1) => Imp Features) :  2019\n"
          ],
          "name": "stdout"
        }
      ]
    },
    {
      "cell_type": "markdown",
      "metadata": {
        "colab_type": "text",
        "id": "QCaXJvsoUBNE"
      },
      "source": [
        "# Logistic Regression TF-IDF (L2 Regularization)"
      ]
    },
    {
      "cell_type": "code",
      "metadata": {
        "id": "xy1e8_9T3DuR",
        "colab_type": "code",
        "colab": {}
      },
      "source": [
        "C = [10**-4,10**-3, 10**-2, 10**0, 10**2,10**3,10**4]#C=1/lambda\n",
        "auc_train=[]\n",
        "auc_cv=[]\n",
        "for i in C:\n",
        "    model=LogisticRegression(penalty='l2',C=i)\n",
        "    model.fit(X_train_tf_idf,y_train)\n",
        "    pred=model.predict_proba(X_cv_tf_idf)[:,1]\n",
        "    auc_cv.append(roc_auc_score(y_cv,pred))\n",
        "    pred1=model.predict_proba(X_train_tf_idf)[:,1]\n",
        "    auc_train.append(roc_auc_score(y_train,pred1))"
      ],
      "execution_count": 0,
      "outputs": []
    },
    {
      "cell_type": "code",
      "metadata": {
        "id": "1ISG1Aqo3D98",
        "colab_type": "code",
        "colab": {}
      },
      "source": [
        "import math\n",
        "C = [10**-4,10**-3, 10**-2, 10**0, 10**2,10**3,10**4]#C=1/lambda\n",
        "optimal_c= C[auc_cv.index(max(auc_cv))]\n",
        "C=[math.log(x) for x in C]#converting values of C into logarithmplt.plot(C, auc_train, label='AUC train')\n"
      ],
      "execution_count": 0,
      "outputs": []
    },
    {
      "cell_type": "code",
      "metadata": {
        "id": "R_ThiDla3EWX",
        "colab_type": "code",
        "outputId": "5675118a-df8e-401e-b5c6-a73d4be233e2",
        "colab": {
          "base_uri": "https://localhost:8080/",
          "height": 329
        }
      },
      "source": [
        "plt.plot(C, auc_train, label='AUC train')\n",
        "plt.plot(C, auc_cv, label='AUC CV')\n",
        "plt.title('AUC vs C')\n",
        "plt.xlabel('C')\n",
        "plt.ylabel('AUC')\n",
        "plt.legend()\n",
        "plt.show()\n",
        "\n",
        "print('optimal lambda : ',1/optimal_c)\n",
        "print('optimal c : ',optimal_c)"
      ],
      "execution_count": 0,
      "outputs": [
        {
          "output_type": "display_data",
          "data": {
            "image/png": "[encoded data removed]",
            "text/plain": [
              "<Figure size 432x288 with 1 Axes>"
            ]
          },
          "metadata": {
            "tags": []
          }
        },
        {
          "output_type": "stream",
          "text": [
            "optimal lambda :  10000.0\n",
            "optimal c :  0.0001\n"
          ],
          "name": "stdout"
        }
      ]
    },
    {
      "cell_type": "code",
      "metadata": {
        "id": "XS9kOfzQ3E9M",
        "colab_type": "code",
        "colab": {}
      },
      "source": [
        "from sklearn.metrics  import roc_curve\n",
        "\n",
        "model=LogisticRegression(penalty='l2', C=optimal_c)\n",
        "model.fit(X_train_tf_idf,y_train)\n",
        "pred=model.predict_proba(X_test_tf_idf)[:,1]\n",
        "fpr1, tpr1, thresholds1 = roc_curve(y_test, pred)\n",
        "pred1=model.predict_proba(X_train_tf_idf)[:,1]\n",
        "fpr2,tpr2,thresholds2=roc_curve(y_train,pred1)"
      ],
      "execution_count": 0,
      "outputs": []
    },
    {
      "cell_type": "code",
      "metadata": {
        "id": "BofJtSg-3FLI",
        "colab_type": "code",
        "outputId": "ef5f547a-40c7-4cff-f248-6d4411d63ebf",
        "colab": {
          "base_uri": "https://localhost:8080/",
          "height": 295
        }
      },
      "source": [
        "plt.plot(fpr1, tpr1, label='Test ROC ,auc='+str(roc_auc_score(y_test,pred)))\n",
        "plt.plot(fpr2, tpr2, label='Train ROC ,auc='+str(roc_auc_score(y_train,pred1)))\n",
        "plt.title('ROC')\n",
        "plt.xlabel('FPR')\n",
        "plt.ylabel('TPR')\n",
        "plt.legend()\n",
        "plt.show()"
      ],
      "execution_count": 0,
      "outputs": [
        {
          "output_type": "display_data",
          "data": {
            "image/png": "[encoded data removed]",
            "text/plain": [
              "<Figure size 432x288 with 1 Axes>"
            ]
          },
          "metadata": {
            "tags": []
          }
        }
      ]
    },
    {
      "cell_type": "code",
      "metadata": {
        "id": "FG6Yk8rx3Fzg",
        "colab_type": "code",
        "outputId": "fd0be0e8-04af-4bdf-d23b-79f3104f0f2c",
        "colab": {
          "base_uri": "https://localhost:8080/",
          "height": 295
        }
      },
      "source": [
        "from sklearn.metrics  import  confusion_matrix\n",
        "pred=model.predict(X_test_tf_idf)\n",
        "con_mat=confusion_matrix(y_test,pred)\n",
        "class_label = [\"0\", \"1\"]\n",
        "df = pd.DataFrame(con_mat, index = class_label, columns = class_label)\n",
        "sns.heatmap(df, annot = True,fmt=\"d\")\n",
        "plt.title(\"Confusion Matrix\")\n",
        "plt.xlabel(\"Predicted Label\")\n",
        "plt.ylabel(\"True Label\")\n",
        "plt.show()"
      ],
      "execution_count": 0,
      "outputs": [
        {
          "output_type": "display_data",
          "data": {
            "image/png": "[encoded data removed]",
            "text/plain": [
              "<Figure size 432x288 with 2 Axes>"
            ]
          },
          "metadata": {
            "tags": []
          }
        }
      ]
    },
    {
      "cell_type": "markdown",
      "metadata": {
        "id": "9FyoTkrh4jh4",
        "colab_type": "text"
      },
      "source": [
        "# Feature Importance in TF-IDF"
      ]
    },
    {
      "cell_type": "code",
      "metadata": {
        "id": "Uc5_H2U94j9s",
        "colab_type": "code",
        "outputId": "47e0834c-7655-4918-a965-e04eb828c30d",
        "colab": {
          "base_uri": "https://localhost:8080/",
          "height": 221
        }
      },
      "source": [
        "weight=model.coef_\n",
        "print(weight.shape)\n",
        "\n",
        "features = tf_idf.get_feature_names()\n",
        "pos_indx=np.argsort(weight)[:,::-1]\n",
        "\n",
        "neg_indx=np.argsort(weight)\n",
        "\n",
        "print('Top 10 positive features :')\n",
        "for i in list(pos_indx[0][0:10]):\n",
        "    print(features[i])"
      ],
      "execution_count": 0,
      "outputs": [
        {
          "output_type": "stream",
          "text": [
            "(1, 25538)\n",
            "Top 10 positive features :\n",
            "great\n",
            "best\n",
            "delicious\n",
            "love\n",
            "good\n",
            "perfect\n",
            "loves\n",
            "nice\n",
            "excellent\n",
            "wonderful\n"
          ],
          "name": "stdout"
        }
      ]
    },
    {
      "cell_type": "code",
      "metadata": {
        "id": "QguF55x24kCk",
        "colab_type": "code",
        "outputId": "cbf1f801-5f68-4d0a-f037-20d4571f9fe1",
        "colab": {
          "base_uri": "https://localhost:8080/",
          "height": 221
        }
      },
      "source": [
        "print(neg_indx.shape)\n",
        "print('Top 10 positive features :')\n",
        "for i in list(neg_indx[0][0:10]):\n",
        "    print(features[i])"
      ],
      "execution_count": 0,
      "outputs": [
        {
          "output_type": "stream",
          "text": [
            "(1, 25538)\n",
            "Top 10 positive features :\n",
            "not\n",
            "disappointed\n",
            "not buy\n",
            "worst\n",
            "not good\n",
            "not worth\n",
            "disappointing\n",
            "terrible\n",
            "horrible\n",
            "not recommend\n"
          ],
          "name": "stdout"
        }
      ]
    },
    {
      "cell_type": "markdown",
      "metadata": {
        "id": "laR_1YQ_9LGF",
        "colab_type": "text"
      },
      "source": [
        "# Logistic Regression on AVG W2V (L1 Regularization)"
      ]
    },
    {
      "cell_type": "code",
      "metadata": {
        "colab_type": "code",
        "id": "W6Ppj61oUBpS",
        "outputId": "f5bccd2e-321e-48b6-f63d-7bfc3f2217c4",
        "colab": {
          "base_uri": "https://localhost:8080/",
          "height": 170
        }
      },
      "source": [
        "X=preprocessed_reviews\n",
        "y=np.array(final_data['Score'])\n",
        "\n",
        "X_1, X_test, y_1, y_test = train_test_split(X, y, test_size=0.3, random_state=0)\n",
        "X_train, X_cv, y_train, y_cv = train_test_split(X_1, y_1, test_size=0.3)\n",
        "\n",
        "#word2vec for train\n",
        "list_of_sentances_train=[]\n",
        "for sentance in X_train:\n",
        "    list_of_sentances_train.append(sentance.split())\n",
        "    \n",
        "w2v_model=Word2Vec(list_of_sentances_train,min_count=5,size=50, workers=4)\n",
        "w2v_words = list(w2v_model.wv.vocab)\n",
        "\n",
        "sent_vectors_train = []; \n",
        "for sent in tqdm(list_of_sentances_train):\n",
        "    sent_vec = np.zeros(50) \n",
        "    cnt_words =0;\n",
        "    for word in sent: \n",
        "        if word in w2v_words:\n",
        "            vec = w2v_model.wv[word]\n",
        "            sent_vec += vec\n",
        "            cnt_words += 1\n",
        "    if cnt_words != 0:\n",
        "        sent_vec /= cnt_words\n",
        "    sent_vectors_train.append(sent_vec)\n",
        "print(len(sent_vectors_train))\n",
        "print(len(sent_vectors_train[0]))\n",
        "\n",
        "#for cross validation\n",
        "list_of_sentances_cv=[]\n",
        "for sentance in X_cv:\n",
        "    list_of_sentances_cv.append(sentance.split())\n",
        "    \n",
        "sent_vectors_cv = []\n",
        "for sent in tqdm(list_of_sentances_cv):\n",
        "    sent_vec = np.zeros(50) \n",
        "    cnt_words =0;\n",
        "    for word in sent: \n",
        "        if word in w2v_words:\n",
        "            vec = w2v_model.wv[word]\n",
        "            sent_vec += vec\n",
        "            cnt_words += 1\n",
        "    if cnt_words != 0:\n",
        "        sent_vec /= cnt_words\n",
        "    sent_vectors_cv.append(sent_vec)\n",
        "print(len(sent_vectors_cv))\n",
        "print(len(sent_vectors_cv[0]))   \n",
        "\n",
        "#for test data\n",
        "list_of_sentances_test=[]\n",
        "for sentance in X_test:\n",
        "    list_of_sentances_test.append(sentance.split())\n",
        "sent_vectors_test = []; \n",
        "for sent in tqdm(list_of_sentances_test):\n",
        "    sent_vec = np.zeros(50) \n",
        "    cnt_words =0;\n",
        "    for word in sent: \n",
        "        if word in w2v_words:\n",
        "            vec = w2v_model.wv[word]\n",
        "            sent_vec += vec\n",
        "            cnt_words += 1\n",
        "    if cnt_words != 0:\n",
        "        sent_vec /= cnt_words\n",
        "    sent_vectors_test.append(sent_vec)\n",
        "print(len(sent_vectors_test))\n",
        "print(len(sent_vectors_test[0]))\n"
      ],
      "execution_count": 0,
      "outputs": [
        {
          "output_type": "stream",
          "text": [
            "100%|██████████| 43008/43008 [01:16<00:00, 560.08it/s]\n",
            "  0%|          | 57/18433 [00:00<00:36, 499.02it/s]"
          ],
          "name": "stderr"
        },
        {
          "output_type": "stream",
          "text": [
            "43008\n",
            "50\n"
          ],
          "name": "stdout"
        },
        {
          "output_type": "stream",
          "text": [
            "100%|██████████| 18433/18433 [00:33<00:00, 554.09it/s]\n"
          ],
          "name": "stderr"
        },
        {
          "output_type": "stream",
          "text": [
            "18433\n",
            "50\n"
          ],
          "name": "stdout"
        },
        {
          "output_type": "stream",
          "text": [
            "100%|██████████| 26332/26332 [00:47<00:00, 559.23it/s]"
          ],
          "name": "stderr"
        },
        {
          "output_type": "stream",
          "text": [
            "26332\n",
            "50\n"
          ],
          "name": "stdout"
        },
        {
          "output_type": "stream",
          "text": [
            "\n"
          ],
          "name": "stderr"
        }
      ]
    },
    {
      "cell_type": "code",
      "metadata": {
        "colab_type": "code",
        "id": "tWz8-BSzUEwu",
        "colab": {}
      },
      "source": [
        "\n",
        "X_train_avgw2v=sent_vectors_train\n",
        "X_cv_avgw2v=sent_vectors_cv\n",
        "X_test_avgw2v=sent_vectors_test\n",
        "\n",
        "C = [10**-3, 10**-2, 10**0, 10**2,10**3,10**4]#C=1/lambda\n",
        "\n",
        "auc_cv=[]\n",
        "auc_train=[]\n",
        "\n",
        "for i in C:\n",
        "    model=LogisticRegression(penalty='l1', C=i, solver='liblinear')\n",
        "    model.fit(X_train_avgw2v, y_train)\n",
        "    pred = model.predict_proba(X_cv_avgw2v)[:,1]\n",
        "    auc_cv.append(roc_auc_score(y_cv,pred))\n",
        "    pred1=model.predict_proba(X_train_avgw2v)[:,1]\n",
        "    auc_train.append(roc_auc_score(y_train,pred1))"
      ],
      "execution_count": 0,
      "outputs": []
    },
    {
      "cell_type": "code",
      "metadata": {
        "id": "AthKcY4X_JeU",
        "colab_type": "code",
        "colab": {}
      },
      "source": [
        "import math\n",
        "C = [10**-3, 10**-2, 10**0, 10**2,10**3,10**4]#C=1/lambda\n",
        "optimal_c= C[auc_cv.index(max(auc_cv))]\n",
        "C=[math.log(x) for x in C]#converting values of C into logarithmplt.plot(C, auc_train, label='AUC train')\n"
      ],
      "execution_count": 0,
      "outputs": []
    },
    {
      "cell_type": "code",
      "metadata": {
        "colab_type": "code",
        "id": "E46Hz9zxVmk7",
        "outputId": "ef6787f9-43db-437e-d0cf-697974df2b92",
        "colab": {
          "base_uri": "https://localhost:8080/",
          "height": 329
        }
      },
      "source": [
        "plt.plot(C, auc_train, label='AUC train')\n",
        "plt.plot(C, auc_cv, label='AUC CV')\n",
        "plt.title('AUC vs C')\n",
        "plt.xlabel('C')\n",
        "plt.ylabel('AUC')\n",
        "plt.legend()\n",
        "plt.show()\n",
        "\n",
        "print('optimal lambda : ',1/optimal_c)\n",
        "print('optimal c : ',optimal_c)"
      ],
      "execution_count": 0,
      "outputs": [
        {
          "output_type": "display_data",
          "data": {
            "image/png": "[encoded data removed]",
            "text/plain": [
              "<Figure size 432x288 with 1 Axes>"
            ]
          },
          "metadata": {
            "tags": []
          }
        },
        {
          "output_type": "stream",
          "text": [
            "optimal lambda :  0.01\n",
            "optimal c :  100\n"
          ],
          "name": "stdout"
        }
      ]
    },
    {
      "cell_type": "code",
      "metadata": {
        "colab_type": "code",
        "id": "WPd46Z0gVm11",
        "colab": {}
      },
      "source": [
        "from sklearn.metrics  import roc_curve\n",
        "\n",
        "model=LogisticRegression(penalty='l1', C=optimal_c, solver='liblinear')\n",
        "model.fit(X_train_avgw2v,y_train)\n",
        "pred=model.predict_proba(X_test_avgw2v)[:,1]\n",
        "fpr1, tpr1, thresholds1 = roc_curve(y_test, pred)\n",
        "pred1=model.predict_proba(X_train_avgw2v)[:,1]\n",
        "fpr2,tpr2,thresholds2=roc_curve(y_train,pred1)"
      ],
      "execution_count": 0,
      "outputs": []
    },
    {
      "cell_type": "code",
      "metadata": {
        "colab_type": "code",
        "id": "O6GK6HIhVofE",
        "outputId": "980089d3-f2f2-4d79-eafe-c93119d49e07",
        "colab": {
          "base_uri": "https://localhost:8080/",
          "height": 295
        }
      },
      "source": [
        "plt.plot(fpr1, tpr1, label='Test ROC ,auc='+str(roc_auc_score(y_test,pred)))\n",
        "plt.plot(fpr2, tpr2, label='Train ROC ,auc='+str(roc_auc_score(y_train,pred1)))\n",
        "plt.title('ROC')\n",
        "plt.xlabel('FPR')\n",
        "plt.ylabel('TPR')\n",
        "plt.legend()\n",
        "plt.show()"
      ],
      "execution_count": 0,
      "outputs": [
        {
          "output_type": "display_data",
          "data": {
            "image/png": "[encoded data removed]",
            "text/plain": [
              "<Figure size 432x288 with 1 Axes>"
            ]
          },
          "metadata": {
            "tags": []
          }
        }
      ]
    },
    {
      "cell_type": "code",
      "metadata": {
        "colab_type": "code",
        "id": "815AogfdWKyd",
        "outputId": "00494a3e-4f43-4c86-e384-7bab33c64df6",
        "colab": {
          "base_uri": "https://localhost:8080/",
          "height": 295
        }
      },
      "source": [
        "from sklearn.metrics  import  confusion_matrix\n",
        "pred=model.predict(X_test_avgw2v)\n",
        "con_mat=confusion_matrix(y_test,pred)\n",
        "class_label = [\"0\", \"1\"]\n",
        "df = pd.DataFrame(con_mat, index = class_label, columns = class_label)\n",
        "sns.heatmap(df, annot = True,fmt=\"d\")\n",
        "plt.title(\"Confusion Matrix\")\n",
        "plt.xlabel(\"Predicted Label\")\n",
        "plt.ylabel(\"True Label\")\n",
        "plt.show()"
      ],
      "execution_count": 0,
      "outputs": [
        {
          "output_type": "display_data",
          "data": {
            "image/png": "[encoded data removed]",
            "text/plain": [
              "<Figure size 432x288 with 2 Axes>"
            ]
          },
          "metadata": {
            "tags": []
          }
        }
      ]
    },
    {
      "cell_type": "code",
      "metadata": {
        "id": "9n1ZdlJZ_zeK",
        "colab_type": "code",
        "outputId": "014cb4e4-c30d-4fbe-9383-08f4366ac51a",
        "colab": {
          "base_uri": "https://localhost:8080/",
          "height": 204
        }
      },
      "source": [
        "\n",
        "weight=model.coef_\n",
        "print(weight)\n",
        "print(weight.shape)\n",
        "#Sparsity of vector weight=no of zero in weight vector\n",
        "print('No of non zero element in weight vector(AVG-W2v(l1) =>Imp Features) : ',np.count_nonzero(weight))"
      ],
      "execution_count": 0,
      "outputs": [
        {
          "output_type": "stream",
          "text": [
            "[[ 0.1836583  -1.55843827 -0.03108143 -0.47288515  0.06696399 -0.15437889\n",
            "   0.15721756 -0.10621917  0.6588285  -0.00474585  0.69432482  0.90223668\n",
            "  -0.60973706 -0.37526933  1.10313436 -1.21778119  0.0596768  -1.00698747\n",
            "   0.25658753  0.74573567 -0.0380696   0.19089133  1.37040159  1.96205955\n",
            "  -0.52821396  0.02339207  0.81364397 -0.70660808  0.51149638 -1.44253523\n",
            "  -0.13693296 -0.48628337  1.27032419 -1.17780474  0.43680772  0.53769968\n",
            "  -0.11142713  0.35318229  1.14583719  0.57124095 -0.15366492 -0.14556961\n",
            "   0.44006354 -0.41125061  0.16852702 -0.41636221  0.48896104 -1.00776375\n",
            "   0.74305182 -0.95746451]]\n",
            "(1, 50)\n",
            "No of non zero element in weight vector(AVG-W2v(l1) =>Imp Features) :  50\n"
          ],
          "name": "stdout"
        }
      ]
    },
    {
      "cell_type": "markdown",
      "metadata": {
        "id": "9N_gBEpD__2t",
        "colab_type": "text"
      },
      "source": [
        "# Logistic Regression on AVG W2V ( L2 Regularization )"
      ]
    },
    {
      "cell_type": "code",
      "metadata": {
        "id": "QkmqjXkKAAaP",
        "colab_type": "code",
        "colab": {}
      },
      "source": [
        "C = [10**-4,10**-3, 10**-2, 10**0, 10**2,10**3,10**4]#C=1/lambda\n",
        "auc_train=[]\n",
        "auc_cv=[]\n",
        "for i in C:\n",
        "    model=LogisticRegression(penalty='l2',C=i)\n",
        "    model.fit(X_train_avgw2v,y_train)\n",
        "    pred=model.predict_proba(X_cv_avgw2v)[:,1]\n",
        "    auc_cv.append(roc_auc_score(y_cv,pred))\n",
        "    pred1=model.predict_proba(X_train_avgw2v)[:,1]\n",
        "    auc_train.append(roc_auc_score(y_train,pred1))"
      ],
      "execution_count": 0,
      "outputs": []
    },
    {
      "cell_type": "code",
      "metadata": {
        "id": "rzq88wwtAAxU",
        "colab_type": "code",
        "colab": {}
      },
      "source": [
        "import math\n",
        "C = [10**-4,10**-3, 10**-2, 10**0, 10**2,10**3,10**4]#C=1/lambda\n",
        "optimal_c= C[auc_cv.index(max(auc_cv))]\n",
        "C=[math.log(x) for x in C]#converting values of C into logarithmplt.plot(C, auc_train, label='AUC train')\n"
      ],
      "execution_count": 0,
      "outputs": []
    },
    {
      "cell_type": "code",
      "metadata": {
        "id": "ZtJyxe4DABEK",
        "colab_type": "code",
        "outputId": "05c4624f-ba1f-4eb9-cb3e-77fc83ded0a2",
        "colab": {
          "base_uri": "https://localhost:8080/",
          "height": 329
        }
      },
      "source": [
        "plt.plot(C, auc_train, label='AUC train')\n",
        "plt.plot(C, auc_cv, label='AUC CV')\n",
        "plt.title('AUC vs C')\n",
        "plt.xlabel('C')\n",
        "plt.ylabel('AUC')\n",
        "plt.legend()\n",
        "plt.show()\n",
        "\n",
        "print('optimal lambda : ',1/optimal_c)\n",
        "print('optimal c : ',optimal_c)"
      ],
      "execution_count": 0,
      "outputs": [
        {
          "output_type": "display_data",
          "data": {
            "image/png": "[encoded data removed]",
            "text/plain": [
              "<Figure size 432x288 with 1 Axes>"
            ]
          },
          "metadata": {
            "tags": []
          }
        },
        {
          "output_type": "stream",
          "text": [
            "optimal lambda :  1.0\n",
            "optimal c :  1\n"
          ],
          "name": "stdout"
        }
      ]
    },
    {
      "cell_type": "code",
      "metadata": {
        "id": "F1kScckbABq7",
        "colab_type": "code",
        "colab": {}
      },
      "source": [
        "from sklearn.metrics  import roc_curve\n",
        "\n",
        "model=LogisticRegression(penalty='l2', C=optimal_c)\n",
        "model.fit(X_train_avgw2v,y_train)\n",
        "pred=model.predict_proba(X_test_avgw2v)[:,1]\n",
        "fpr1, tpr1, thresholds1 = roc_curve(y_test, pred)\n",
        "pred1=model.predict_proba(X_train_avgw2v)[:,1]\n",
        "fpr2,tpr2,thresholds2=roc_curve(y_train,pred1)"
      ],
      "execution_count": 0,
      "outputs": []
    },
    {
      "cell_type": "code",
      "metadata": {
        "id": "M7ZusgDqAB-L",
        "colab_type": "code",
        "outputId": "64ad72c0-8dc2-46e5-876f-4bb04ba92c4f",
        "colab": {
          "base_uri": "https://localhost:8080/",
          "height": 295
        }
      },
      "source": [
        "\n",
        "plt.plot(fpr1, tpr1, label='Test ROC ,auc='+str(roc_auc_score(y_test,pred)))\n",
        "plt.plot(fpr2, tpr2, label='Train ROC ,auc='+str(roc_auc_score(y_train,pred1)))\n",
        "plt.title('ROC')\n",
        "plt.xlabel('FPR')\n",
        "plt.ylabel('TPR')\n",
        "plt.legend()\n",
        "plt.show()"
      ],
      "execution_count": 0,
      "outputs": [
        {
          "output_type": "display_data",
          "data": {
            "image/png": "[encoded data removed]",
            "text/plain": [
              "<Figure size 432x288 with 1 Axes>"
            ]
          },
          "metadata": {
            "tags": []
          }
        }
      ]
    },
    {
      "cell_type": "code",
      "metadata": {
        "id": "-Sx7BjfXACq0",
        "colab_type": "code",
        "outputId": "63be20ca-6619-4505-c018-4373800d82c2",
        "colab": {
          "base_uri": "https://localhost:8080/",
          "height": 295
        }
      },
      "source": [
        "from sklearn.metrics  import  confusion_matrix\n",
        "pred=model.predict(X_test_avgw2v)\n",
        "con_mat=confusion_matrix(y_test,pred)\n",
        "class_label = [\"0\", \"1\"]\n",
        "df = pd.DataFrame(con_mat, index = class_label, columns = class_label)\n",
        "sns.heatmap(df, annot = True,fmt=\"d\")\n",
        "plt.title(\"Confusion Matrix\")\n",
        "plt.xlabel(\"Predicted Label\")\n",
        "plt.ylabel(\"True Label\")\n",
        "plt.show()"
      ],
      "execution_count": 0,
      "outputs": [
        {
          "output_type": "display_data",
          "data": {
            "image/png": "[encoded data removed]",
            "text/plain": [
              "<Figure size 432x288 with 2 Axes>"
            ]
          },
          "metadata": {
            "tags": []
          }
        }
      ]
    },
    {
      "cell_type": "markdown",
      "metadata": {
        "id": "WWx1Iy13BCwI",
        "colab_type": "text"
      },
      "source": [
        ""
      ]
    },
    {
      "cell_type": "markdown",
      "metadata": {
        "id": "cDPymYtQTk_W",
        "colab_type": "text"
      },
      "source": [
        "# Logistic Regressin on tf-idf Word2Vec (L1 Regularization)"
      ]
    },
    {
      "cell_type": "code",
      "metadata": {
        "id": "3U_VjXxDUBrd",
        "colab_type": "code",
        "outputId": "89276c06-9f1c-4026-aab9-c88b68f654e0",
        "colab": {
          "base_uri": "https://localhost:8080/",
          "height": 68
        }
      },
      "source": [
        "X=preprocessed_reviews\n",
        "y=np.array(final_data['Score'])\n",
        "\n",
        "\n",
        "X_1, X_test, y_1, y_test = train_test_split(X, y, test_size=0.3, random_state=0)\n",
        "X_train, X_cv, y_train, y_cv = train_test_split(X_1, y_1, test_size=0.3)\n",
        "\n",
        "list_of_sentances_train=[]\n",
        "for sentance in X_train:\n",
        "    list_of_sentances_train.append(sentance.split())\n",
        "w2v_model=Word2Vec(list_of_sentances_train,min_count=5,size=50, workers=4) \n",
        "w2v_words = list(w2v_model.wv.vocab)\n",
        "tf_idf = TfidfVectorizer(ngram_range=(1,2),min_df=10, max_features=500)\n",
        "\n",
        "tf_idf_matrix=tf_idf.fit_transform(X_train)\n",
        "\n",
        "\n",
        "tfidf_feat = tf_idf.get_feature_names() \n",
        "dictionary = dict(zip(tf_idf.get_feature_names(), list(tf_idf.idf_)))\n",
        "\n",
        "#for train data\n",
        "\n",
        "tfidf_sent_vectors_train = [] \n",
        "\n",
        "for sent in tqdm(list_of_sentances_train): \n",
        "    sent_vec = np.zeros(50)\n",
        "    weight_sum =0;\n",
        "    for word in sent: \n",
        "        if word in w2v_words and word in tfidf_feat:\n",
        "            vec = w2v_model.wv[word]\n",
        "            tf_idf = dictionary[word]*(sent.count(word)/len(sent))\n",
        "            sent_vec += (vec * tf_idf)\n",
        "            weight_sum += tf_idf\n",
        "    if weight_sum != 0:\n",
        "        sent_vec /= weight_sum\n",
        "    tfidf_sent_vectors_train.append(sent_vec)\n",
        "\n",
        "\n",
        "#for cross validation data\n",
        "list_of_sentances_cv=[]\n",
        "for sentance in X_cv:\n",
        "    list_of_sentances_cv.append(sentance.split())\n",
        "    \n",
        "tfidf_sent_vectors_cv = []\n",
        "\n",
        "for sent in tqdm(list_of_sentances_cv): \n",
        "    sent_vec = np.zeros(50)\n",
        "    weight_sum =0;\n",
        "    for word in sent: \n",
        "        if word in w2v_words and word in tfidf_feat:\n",
        "            vec = w2v_model.wv[word]\n",
        "            tf_idf = dictionary[word]*(sent.count(word)/len(sent))\n",
        "            sent_vec += (vec * tf_idf)\n",
        "            weight_sum += tf_idf\n",
        "    if weight_sum != 0:\n",
        "        sent_vec /= weight_sum\n",
        "    tfidf_sent_vectors_cv.append(sent_vec)\n",
        "\n",
        "\n",
        "#for test data\n",
        "list_of_sentances_test=[]\n",
        "for sentance in X_test:\n",
        "    list_of_sentances_test.append(sentance.split())\n",
        "tfidf_sent_vectors_test = []\n",
        "\n",
        "for sent in tqdm(list_of_sentances_test): \n",
        "    sent_vec = np.zeros(50)\n",
        "    weight_sum =0;\n",
        "    for word in sent: \n",
        "        if word in w2v_words and word in tfidf_feat:\n",
        "            vec = w2v_model.wv[word]\n",
        "            tf_idf = dictionary[word]*(sent.count(word)/len(sent))\n",
        "            sent_vec += (vec * tf_idf)\n",
        "            weight_sum += tf_idf\n",
        "    if weight_sum != 0:\n",
        "        sent_vec /= weight_sum\n",
        "    tfidf_sent_vectors_test.append(sent_vec)\n"
      ],
      "execution_count": 0,
      "outputs": [
        {
          "output_type": "stream",
          "text": [
            "100%|██████████| 43008/43008 [01:35<00:00, 452.44it/s]\n",
            "100%|██████████| 18433/18433 [00:44<00:00, 415.07it/s]\n",
            "100%|██████████| 26332/26332 [00:59<00:00, 441.94it/s]\n"
          ],
          "name": "stderr"
        }
      ]
    },
    {
      "cell_type": "code",
      "metadata": {
        "id": "_ReifaR5Zo6Q",
        "colab_type": "code",
        "colab": {}
      },
      "source": [
        "from sklearn.metrics import roc_auc_score,roc_curve\n",
        "\n",
        "X_train_tfiddf_w2v=tfidf_sent_vectors_train\n",
        "X_cv_tfiddf_w2v=tfidf_sent_vectors_cv\n",
        "X_test_tfiddf_w2v=tfidf_sent_vectors_test\n",
        "auc_cv=[]\n",
        "auc_train=[]\n",
        "C = [10**-3, 10**-2, 10**0, 10**2,10**3,10**4]#C=1/lambda\n",
        "\n",
        "for i in C:\n",
        "    model=LogisticRegression(penalty='l1', C=i, solver='liblinear')\n",
        "    model.fit(X_train_tfiddf_w2v, y_train)\n",
        "    pred = model.predict_proba(X_cv_tfiddf_w2v)[:,1]\n",
        "    auc_cv.append(roc_auc_score(y_cv,pred))\n",
        "    pred1=model.predict_proba(X_train_tfiddf_w2v)[:,1]\n",
        "    auc_train.append(roc_auc_score(y_train,pred1))"
      ],
      "execution_count": 0,
      "outputs": []
    },
    {
      "cell_type": "code",
      "metadata": {
        "id": "jMDRDUbYS9Xb",
        "colab_type": "code",
        "colab": {}
      },
      "source": [
        "import math\n",
        "C = [10**-3, 10**-2, 10**0, 10**2,10**3,10**4]#C=1/lambda\n",
        "optimal_c= C[auc_cv.index(max(auc_cv))]\n",
        "C=[math.log(x) for x in C]#converting values of C into logarithm"
      ],
      "execution_count": 0,
      "outputs": []
    },
    {
      "cell_type": "code",
      "metadata": {
        "id": "fZNt6X_4ZpJk",
        "colab_type": "code",
        "outputId": "3b8ea854-82ee-4f50-a228-069ed0e05312",
        "colab": {
          "base_uri": "https://localhost:8080/",
          "height": 329
        }
      },
      "source": [
        "plt.plot(C, auc_train, label='AUC train')\n",
        "plt.plot(C, auc_cv, label='AUC CV')\n",
        "plt.title('AUC vs C')\n",
        "plt.xlabel('C')\n",
        "plt.ylabel('AUC')\n",
        "plt.legend()\n",
        "plt.show()\n",
        "\n",
        "print('optimal lambda : ',1/optimal_c)\n",
        "print('optimal c : ',optimal_c)"
      ],
      "execution_count": 0,
      "outputs": [
        {
          "output_type": "display_data",
          "data": {
            "image/png": "[encoded data removed]",
            "text/plain": [
              "<Figure size 432x288 with 1 Axes>"
            ]
          },
          "metadata": {
            "tags": []
          }
        },
        {
          "output_type": "stream",
          "text": [
            "optimal lambda :  1.0\n",
            "optimal c :  1\n"
          ],
          "name": "stdout"
        }
      ]
    },
    {
      "cell_type": "code",
      "metadata": {
        "id": "-laVDZlNZpXe",
        "colab_type": "code",
        "colab": {}
      },
      "source": [
        "from sklearn.metrics  import roc_curve\n",
        "\n",
        "model=LogisticRegression(penalty='l1', C=optimal_c,solver='liblinear')\n",
        "model.fit(X_train_tfiddf_w2v,y_train)\n",
        "pred=model.predict_proba(X_test_tfiddf_w2v)[:,1]\n",
        "fpr1, tpr1, thresholds1 = roc_curve(y_test, pred)\n",
        "pred1=model.predict_proba(X_train_tfiddf_w2v)[:,1]\n",
        "fpr2,tpr2,thresholds2=roc_curve(y_train,pred1)"
      ],
      "execution_count": 0,
      "outputs": []
    },
    {
      "cell_type": "code",
      "metadata": {
        "id": "9mdnTMSAdlEm",
        "colab_type": "code",
        "outputId": "544b2d78-b16e-4968-d875-4acd44fe6006",
        "colab": {
          "base_uri": "https://localhost:8080/",
          "height": 295
        }
      },
      "source": [
        "plt.plot(fpr1, tpr1, label='Test ROC ,auc='+str(roc_auc_score(y_test,pred)))\n",
        "plt.plot(fpr2, tpr2, label='Train ROC ,auc='+str(roc_auc_score(y_train,pred1)))\n",
        "plt.title('ROC')\n",
        "plt.xlabel('FPR')\n",
        "plt.ylabel('TPR')\n",
        "plt.legend()\n",
        "plt.show()"
      ],
      "execution_count": 0,
      "outputs": [
        {
          "output_type": "display_data",
          "data": {
            "image/png": "[encoded data removed]",
            "text/plain": [
              "<Figure size 432x288 with 1 Axes>"
            ]
          },
          "metadata": {
            "tags": []
          }
        }
      ]
    },
    {
      "cell_type": "code",
      "metadata": {
        "id": "tgfFI9dYdtNO",
        "colab_type": "code",
        "outputId": "f1ec2cc6-7e33-457b-d17c-7d238f35e3ab",
        "colab": {
          "base_uri": "https://localhost:8080/",
          "height": 295
        }
      },
      "source": [
        "from sklearn.metrics  import  confusion_matrix\n",
        "pred=model.predict(X_test_tfiddf_w2v)\n",
        "con_mat=confusion_matrix(y_test,pred)\n",
        "class_label = [\"0\", \"1\"]\n",
        "df = pd.DataFrame(con_mat, index = class_label, columns = class_label)\n",
        "sns.heatmap(df, annot = True,fmt=\"d\")\n",
        "plt.title(\"Confusion Matrix\")\n",
        "plt.xlabel(\"Predicted Label\")\n",
        "plt.ylabel(\"True Label\")\n",
        "plt.show()"
      ],
      "execution_count": 0,
      "outputs": [
        {
          "output_type": "display_data",
          "data": {
            "image/png": "[encoded data removed]",
            "text/plain": [
              "<Figure size 432x288 with 2 Axes>"
            ]
          },
          "metadata": {
            "tags": []
          }
        }
      ]
    },
    {
      "cell_type": "code",
      "metadata": {
        "id": "gvOHlMV6TbkE",
        "colab_type": "code",
        "outputId": "9cb2171e-9201-40ec-881d-2e4534d06643",
        "colab": {
          "base_uri": "https://localhost:8080/",
          "height": 51
        }
      },
      "source": [
        "weight=model.coef_\n",
        "print(weight.shape)\n",
        "#Sparsity of vector weight=no of zero in weight vector\n",
        "print('No of non zero element in weight vector(tf-idf W2V(l1) => Imp Features) : ',np.count_nonzero(weight))"
      ],
      "execution_count": 0,
      "outputs": [
        {
          "output_type": "stream",
          "text": [
            "(1, 50)\n",
            "No of non zero element in weight vector(tf-idf W2V(l1) => Imp Features) :  49\n"
          ],
          "name": "stdout"
        }
      ]
    },
    {
      "cell_type": "markdown",
      "metadata": {
        "id": "I6jnwQ3nUYVv",
        "colab_type": "text"
      },
      "source": [
        "### Logistic Regressin on tf-idf Word2Vec (L2 Regularization)"
      ]
    },
    {
      "cell_type": "code",
      "metadata": {
        "id": "rSXTcOcAUYtA",
        "colab_type": "code",
        "colab": {}
      },
      "source": [
        "auc_cv=[]\n",
        "auc_train=[]\n",
        "C = [10**-3, 10**-2, 10**0, 10**2,10**3,10**4]#C=1/lambda\n",
        "\n",
        "for i in C:\n",
        "    model=LogisticRegression(penalty='l2', C=i)\n",
        "    model.fit(X_train_tfiddf_w2v, y_train)\n",
        "    pred = model.predict_proba(X_cv_tfiddf_w2v)[:,1]\n",
        "    auc_cv.append(roc_auc_score(y_cv,pred))\n",
        "    pred1=model.predict_proba(X_train_tfiddf_w2v)[:,1]\n",
        "    auc_train.append(roc_auc_score(y_train,pred1))"
      ],
      "execution_count": 0,
      "outputs": []
    },
    {
      "cell_type": "code",
      "metadata": {
        "id": "NoMK490TUY4a",
        "colab_type": "code",
        "colab": {}
      },
      "source": [
        "import math\n",
        "C = [10**-3, 10**-2, 10**0, 10**2,10**3,10**4]#C=1/lambda\n",
        "optimal_c= C[auc_cv.index(max(auc_cv))]\n",
        "C=[math.log(x) for x in C]#converting values of C into logarithmplt.plot(C, auc_train, label='AUC train')\n",
        "\n",
        "\n",
        "\n"
      ],
      "execution_count": 0,
      "outputs": []
    },
    {
      "cell_type": "code",
      "metadata": {
        "id": "FP6xlCj0UZS7",
        "colab_type": "code",
        "outputId": "a664ae16-f3a7-4d4d-c08b-f29b2efc99e8",
        "colab": {
          "base_uri": "https://localhost:8080/",
          "height": 329
        }
      },
      "source": [
        "plt.plot(C, auc_train, label='AUC train')\n",
        "plt.plot(C, auc_cv, label='AUC CV')\n",
        "plt.title('AUC vs C')\n",
        "plt.xlabel('C')\n",
        "plt.ylabel('AUC')\n",
        "plt.legend()\n",
        "plt.show()\n",
        "\n",
        "print('optimal lambda : ',1/optimal_c)\n",
        "print('optimal c : ',optimal_c)"
      ],
      "execution_count": 0,
      "outputs": [
        {
          "output_type": "display_data",
          "data": {
            "image/png": "[encoded data removed]",
            "text/plain": [
              "<Figure size 432x288 with 1 Axes>"
            ]
          },
          "metadata": {
            "tags": []
          }
        },
        {
          "output_type": "stream",
          "text": [
            "optimal lambda :  1.0\n",
            "optimal c :  1\n"
          ],
          "name": "stdout"
        }
      ]
    },
    {
      "cell_type": "code",
      "metadata": {
        "id": "Pxy0KyaVUaSd",
        "colab_type": "code",
        "colab": {}
      },
      "source": [
        "from sklearn.metrics  import roc_curve\n",
        "\n",
        "model=LogisticRegression(penalty='l2', C=optimal_c)\n",
        "model.fit(X_train_tfiddf_w2v,y_train)\n",
        "pred=model.predict_proba(X_test_tfiddf_w2v)[:,1]\n",
        "fpr1, tpr1, thresholds1 = roc_curve(y_test, pred)\n",
        "pred1=model.predict_proba(X_train_tfiddf_w2v)[:,1]\n",
        "fpr2,tpr2,thresholds2=roc_curve(y_train,pred1)"
      ],
      "execution_count": 0,
      "outputs": []
    },
    {
      "cell_type": "code",
      "metadata": {
        "id": "4eMpVuxyUacP",
        "colab_type": "code",
        "outputId": "fd5870cb-194e-4a3f-fb7f-14df2fc05dc0",
        "colab": {
          "base_uri": "https://localhost:8080/",
          "height": 295
        }
      },
      "source": [
        "plt.plot(fpr1, tpr1, label='Test ROC ,auc='+str(roc_auc_score(y_test,pred)))\n",
        "plt.plot(fpr2, tpr2, label='Train ROC ,auc='+str(roc_auc_score(y_train,pred1)))\n",
        "plt.title('ROC')\n",
        "plt.xlabel('FPR')\n",
        "plt.ylabel('TPR')\n",
        "plt.legend()\n",
        "plt.show()"
      ],
      "execution_count": 0,
      "outputs": [
        {
          "output_type": "display_data",
          "data": {
            "image/png": "[encoded data removed]",
            "text/plain": [
              "<Figure size 432x288 with 1 Axes>"
            ]
          },
          "metadata": {
            "tags": []
          }
        }
      ]
    },
    {
      "cell_type": "code",
      "metadata": {
        "id": "ThdVjiv0UaqL",
        "colab_type": "code",
        "outputId": "711ede7e-6efe-4bda-ca79-d12c7d915c53",
        "colab": {
          "base_uri": "https://localhost:8080/",
          "height": 295
        }
      },
      "source": [
        "from sklearn.metrics  import  confusion_matrix\n",
        "pred=model.predict(X_test_tfiddf_w2v)\n",
        "con_mat=confusion_matrix(y_test,pred)\n",
        "class_label = [\"0\", \"1\"]\n",
        "df = pd.DataFrame(con_mat, index = class_label, columns = class_label)\n",
        "sns.heatmap(df, annot = True,fmt=\"d\")\n",
        "plt.title(\"Confusion Matrix\")\n",
        "plt.xlabel(\"Predicted Label\")\n",
        "plt.ylabel(\"True Label\")\n",
        "plt.show()"
      ],
      "execution_count": 0,
      "outputs": [
        {
          "output_type": "display_data",
          "data": {
            "image/png": "[encoded data removed]",
            "text/plain": [
              "<Figure size 432x288 with 2 Axes>"
            ]
          },
          "metadata": {
            "tags": []
          }
        }
      ]
    },
    {
      "cell_type": "markdown",
      "metadata": {
        "id": "mQhA7X6nWnTq",
        "colab_type": "text"
      },
      "source": [
        "#Feature Engineering"
      ]
    },
    {
      "cell_type": "code",
      "metadata": {
        "id": "x0de7eEqWntL",
        "colab_type": "code",
        "outputId": "6e7cdb5e-573b-4874-a662-43995f5f21ed",
        "colab": {
          "base_uri": "https://localhost:8080/",
          "height": 54
        }
      },
      "source": [
        "#Feature Engineering \n",
        "#Adding preprocessed summary and review length to preprocessed summary\n",
        "for i in range(len(preprocessed_reviews)):\n",
        "    preprocessed_reviews[i]+=' '+preprocessed_summary[i]\n",
        "\n",
        "preprocessed_reviews[100]"
      ],
      "execution_count": 0,
      "outputs": [
        {
          "output_type": "execute_result",
          "data": {
            "text/plain": [
              "'frenchbull given nylabone chew since weeks old safe strong bite not break large pieces could choke dinosaur chew perfect many places hold bite dylabone product buy frenchbull dog loves nylabones'"
            ]
          },
          "metadata": {
            "tags": []
          },
          "execution_count": 241
        }
      ]
    },
    {
      "cell_type": "code",
      "metadata": {
        "id": "U3jyVl-HWn7e",
        "colab_type": "code",
        "colab": {}
      },
      "source": [
        "X=preprocessed_reviews\n",
        "y=np.array(final_data['Score'])\n",
        "\n",
        "tf_idf = TfidfVectorizer(ngram_range=(1,2), min_df=10)\n",
        "\n",
        "X_1, X_test, y_1, y_test = train_test_split(X, y, test_size=0.3, random_state=0)\n",
        "X_train, X_cv, y_train, y_cv = train_test_split(X_1, y_1, test_size=0.3)\n",
        "\n",
        "X_train_tf_idf=tf_idf.fit_transform(X_train)\n",
        "X_cv_tf_idf=tf_idf.transform(X_cv)\n",
        "X_test_tf_idf=tf_idf.transform(X_test)\n",
        "\n",
        "scalar = StandardScaler(with_mean=False)\n",
        "X_train_tf_tf_idf = scalar.fit_transform(X_train_tf_idf)\n",
        "X_test_tf_tf_idf= scalar.transform(X_test_tf_idf)\n",
        "X_cv_tf_tf_idf=scalar.transform(X_cv_tf_idf)\n"
      ],
      "execution_count": 0,
      "outputs": []
    },
    {
      "cell_type": "code",
      "metadata": {
        "id": "uO006Mk1XD-e",
        "colab_type": "code",
        "colab": {}
      },
      "source": [
        "\n",
        "auc_train=[]\n",
        "auc_cv=[]\n",
        "C = [10**-3, 10**-2, 10**0, 10**2,10**3,10**4]#C=1/lambda\n",
        "\n",
        "for i in C:\n",
        "    model=LogisticRegression(penalty='l1', C=i, solver='liblinear')\n",
        "    model.fit(X_train_tf_idf, y_train)\n",
        "    pred = model.predict_proba(X_cv_tf_idf)[:,1]\n",
        "    auc_cv.append(roc_auc_score(y_cv,pred))\n",
        "    pred1=model.predict_proba(X_train_tf_idf)[:,1]\n",
        "    auc_train.append(roc_auc_score(y_train,pred1))"
      ],
      "execution_count": 0,
      "outputs": []
    },
    {
      "cell_type": "code",
      "metadata": {
        "id": "j8Du94zPXEKM",
        "colab_type": "code",
        "colab": {}
      },
      "source": [
        "import math\n",
        "C = [10**-3, 10**-2, 10**0, 10**2,10**3,10**4]#C=1/lambda\n",
        "optimal_c= C[auc_cv.index(max(auc_cv))]\n",
        "C=[math.log(x) for x in C]#converting values of C into logarithmplt.plot(C, auc_train, label='AUC train')\n",
        "\n",
        "\n",
        "\n"
      ],
      "execution_count": 0,
      "outputs": []
    },
    {
      "cell_type": "code",
      "metadata": {
        "id": "LbYlhC5WXEWv",
        "colab_type": "code",
        "outputId": "8c4b5523-47c1-478a-f78e-1ceed2759b8d",
        "colab": {
          "base_uri": "https://localhost:8080/",
          "height": 329
        }
      },
      "source": [
        "plt.plot(C, auc_train, label='AUC train')\n",
        "plt.plot(C, auc_cv, label='AUC CV')\n",
        "plt.title('AUC vs C')\n",
        "plt.xlabel('C')\n",
        "plt.ylabel('AUC')\n",
        "plt.legend()\n",
        "plt.show()\n",
        "\n",
        "print('optimal lambda : ',1/optimal_c)\n",
        "print('optimal c : ',optimal_c)"
      ],
      "execution_count": 0,
      "outputs": [
        {
          "output_type": "display_data",
          "data": {
            "image/png": "[encoded data removed]",
            "text/plain": [
              "<Figure size 432x288 with 1 Axes>"
            ]
          },
          "metadata": {
            "tags": []
          }
        },
        {
          "output_type": "stream",
          "text": [
            "optimal lambda :  1.0\n",
            "optimal c :  1\n"
          ],
          "name": "stdout"
        }
      ]
    },
    {
      "cell_type": "code",
      "metadata": {
        "id": "5lypb7kzXElw",
        "colab_type": "code",
        "colab": {}
      },
      "source": [
        "from sklearn.metrics  import roc_curve\n",
        "\n",
        "model=LogisticRegression(penalty='l1', C=optimal_c,solver='liblinear')\n",
        "model.fit(X_train_tf_idf,y_train)\n",
        "pred=model.predict_proba(X_test_tf_idf)[:,1]\n",
        "fpr1, tpr1, thresholds1 = roc_curve(y_test, pred)\n",
        "pred1=model.predict_proba(X_train_tf_idf)[:,1]\n",
        "fpr2,tpr2,thresholds2=roc_curve(y_train,pred1)"
      ],
      "execution_count": 0,
      "outputs": []
    },
    {
      "cell_type": "code",
      "metadata": {
        "id": "0X78pqbaWoAu",
        "colab_type": "code",
        "outputId": "c5d8adb0-a00e-445f-ccc6-fabb91c57bad",
        "colab": {
          "base_uri": "https://localhost:8080/",
          "height": 295
        }
      },
      "source": [
        "plt.plot(fpr1, tpr1, label='Test ROC ,auc='+str(roc_auc_score(y_test,pred)))\n",
        "plt.plot(fpr2, tpr2, label='Train ROC ,auc='+str(roc_auc_score(y_train,pred1)))\n",
        "plt.title('ROC')\n",
        "plt.xlabel('FPR')\n",
        "plt.ylabel('TPR')\n",
        "plt.legend()\n",
        "plt.show()"
      ],
      "execution_count": 0,
      "outputs": [
        {
          "output_type": "display_data",
          "data": {
            "image/png": "[encoded data removed]",
            "text/plain": [
              "<Figure size 432x288 with 1 Axes>"
            ]
          },
          "metadata": {
            "tags": []
          }
        }
      ]
    },
    {
      "cell_type": "code",
      "metadata": {
        "id": "NptgqrcIZAkZ",
        "colab_type": "code",
        "outputId": "11437272-bd70-4469-c8ba-7de97e4cee92",
        "colab": {
          "base_uri": "https://localhost:8080/",
          "height": 295
        }
      },
      "source": [
        "from sklearn.metrics  import  confusion_matrix\n",
        "pred=model.predict(X_test_tf_idf)\n",
        "con_mat=confusion_matrix(y_test,pred)\n",
        "class_label = [\"0\", \"1\"]\n",
        "df = pd.DataFrame(con_mat, index = class_label, columns = class_label)\n",
        "sns.heatmap(df, annot = True,fmt=\"d\")\n",
        "plt.title(\"Confusion Matrix\")\n",
        "plt.xlabel(\"Predicted Label\")\n",
        "plt.ylabel(\"True Label\")\n",
        "plt.show()"
      ],
      "execution_count": 0,
      "outputs": [
        {
          "output_type": "display_data",
          "data": {
            "image/png": "[encoded data removed]",
            "text/plain": [
              "<Figure size 432x288 with 2 Axes>"
            ]
          },
          "metadata": {
            "tags": []
          }
        }
      ]
    },
    {
      "cell_type": "markdown",
      "metadata": {
        "id": "OxzYZSY-XVpq",
        "colab_type": "text"
      },
      "source": [
        "# Conclusions"
      ]
    },
    {
      "cell_type": "code",
      "metadata": {
        "id": "6670k1TxXVJv",
        "colab_type": "code",
        "colab": {
          "base_uri": "https://localhost:8080/",
          "height": 238
        },
        "outputId": "8fc75ba8-c1ac-41bc-904d-dd3da3ce51b5"
      },
      "source": [
        "from prettytable import PrettyTable    \n",
        "x = PrettyTable()\n",
        "x.field_names = [\"Vectorizer\",\"Regularization\", \"Feature engineering\", \"Hyperameter(lambda)\", \"AUC\"]\n",
        "x.add_row([\"BOW\",\"l1\",\"Not featured\",100,0.9320])\n",
        "x.add_row([\"BOW\",\"l2\",\"Not featured\",10000,0.9270])\n",
        "x.add_row([\"TFIDF\",\"l1\",\"Not featured\",100,0.9538])\n",
        "x.add_row([\"TFIDF\",\"l2\",\"Not featured\",10000,0.9548])\n",
        "x.add_row([\"Avg W2v\",\"l1\",\"Not featured\",100,0.8969])\n",
        "x.add_row([\"Avg W2v\",\"l2\",\"Not featured\",1,0.8970])\n",
        "x.add_row([\"TFIDF Avg W2v\",\"l1\",\"Not featured\",1,0.8431])\n",
        "x.add_row([\"TFIDF Avg W2v\",\"l2\",\"Not featured\",1,0.8431])\n",
        "\n",
        "x.add_row([\"TFIDF\",\"l1\",\"featured\",1,0.9691])\n",
        "\n",
        "print(x)"
      ],
      "execution_count": 1,
      "outputs": [
        {
          "output_type": "stream",
          "text": [
            "+---------------+----------------+---------------------+---------------------+--------+\n",
            "|   Vectorizer  | Regularization | Feature engineering | Hyperameter(lambda) |  AUC   |\n",
            "+---------------+----------------+---------------------+---------------------+--------+\n",
            "|      BOW      |       l1       |     Not featured    |         100         | 0.932  |\n",
            "|      BOW      |       l2       |     Not featured    |        10000        | 0.927  |\n",
            "|     TFIDF     |       l1       |     Not featured    |         100         | 0.9538 |\n",
            "|     TFIDF     |       l2       |     Not featured    |        10000        | 0.9548 |\n",
            "|    Avg W2v    |       l1       |     Not featured    |         100         | 0.8969 |\n",
            "|    Avg W2v    |       l2       |     Not featured    |          1          | 0.897  |\n",
            "| TFIDF Avg W2v |       l1       |     Not featured    |          1          | 0.8431 |\n",
            "| TFIDF Avg W2v |       l2       |     Not featured    |          1          | 0.8431 |\n",
            "|     TFIDF     |       l1       |       featured      |          1          | 0.9691 |\n",
            "+---------------+----------------+---------------------+---------------------+--------+\n"
          ],
          "name": "stdout"
        }
      ]
    },
    {
      "cell_type": "code",
      "metadata": {
        "id": "0uCZJp3nYm9u",
        "colab_type": "code",
        "colab": {}
      },
      "source": [
        ""
      ],
      "execution_count": 0,
      "outputs": []
    }
  ]
}